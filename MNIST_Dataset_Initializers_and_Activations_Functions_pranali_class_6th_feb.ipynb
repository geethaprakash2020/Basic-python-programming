{
  "nbformat": 4,
  "nbformat_minor": 0,
  "metadata": {
    "colab": {
      "name": "MNIST_Dataset_Initializers_and_Activations_Functions pranali class 6th feb",
      "provenance": [],
      "authorship_tag": "ABX9TyP2DVGgkPiNCJzOnzKTZXQk",
      "include_colab_link": true
    },
    "kernelspec": {
      "name": "python3",
      "display_name": "Python 3"
    }
  },
  "cells": [
    {
      "cell_type": "markdown",
      "metadata": {
        "id": "view-in-github",
        "colab_type": "text"
      },
      "source": [
        "<a href=\"https://colab.research.google.com/github/geethaprakash2020/Basic-python-programming/blob/master/MNIST_Dataset_Initializers_and_Activations_Functions_pranali_class_6th_feb.ipynb\" target=\"_parent\"><img src=\"https://colab.research.google.com/assets/colab-badge.svg\" alt=\"Open In Colab\"/></a>"
      ]
    },
    {
      "cell_type": "code",
      "metadata": {
        "id": "q8Y3Sa1SDb1K"
      },
      "source": [
        ""
      ],
      "execution_count": null,
      "outputs": []
    },
    {
      "cell_type": "code",
      "metadata": {
        "id": "mtufrkB1Gis_"
      },
      "source": [
        ""
      ],
      "execution_count": null,
      "outputs": []
    },
    {
      "cell_type": "code",
      "metadata": {
        "id": "67CEx0BpGixr"
      },
      "source": [
        ""
      ],
      "execution_count": null,
      "outputs": []
    },
    {
      "cell_type": "code",
      "metadata": {
        "id": "O09kzT34Gi1g"
      },
      "source": [
        ""
      ],
      "execution_count": null,
      "outputs": []
    },
    {
      "cell_type": "code",
      "metadata": {
        "id": "pri6ebD1Gi59"
      },
      "source": [
        ""
      ],
      "execution_count": null,
      "outputs": []
    },
    {
      "cell_type": "code",
      "metadata": {
        "id": "hcKXE4JpGi-q"
      },
      "source": [
        "%tensorflow_version 2.x"
      ],
      "execution_count": null,
      "outputs": []
    },
    {
      "cell_type": "code",
      "metadata": {
        "id": "BTaVigBRGjED"
      },
      "source": [
        "from tensorflow import keras"
      ],
      "execution_count": null,
      "outputs": []
    },
    {
      "cell_type": "code",
      "metadata": {
        "colab": {
          "base_uri": "https://localhost:8080/",
          "height": 35
        },
        "id": "6rOnJ8IQGjOi",
        "outputId": "9ba20030-7291-4079-9210-8207f9e8fe0b"
      },
      "source": [
        "keras.__version__"
      ],
      "execution_count": null,
      "outputs": [
        {
          "output_type": "execute_result",
          "data": {
            "application/vnd.google.colaboratory.intrinsic+json": {
              "type": "string"
            },
            "text/plain": [
              "'2.4.0'"
            ]
          },
          "metadata": {
            "tags": []
          },
          "execution_count": 3
        }
      ]
    },
    {
      "cell_type": "code",
      "metadata": {
        "id": "IdVN-1RfGjTD"
      },
      "source": [
        "from keras.datasets import mnist"
      ],
      "execution_count": null,
      "outputs": []
    },
    {
      "cell_type": "code",
      "metadata": {
        "colab": {
          "base_uri": "https://localhost:8080/"
        },
        "id": "rDXk7prbGjXt",
        "outputId": "64377d2a-2f7f-4765-95c8-cc604aa9cd8c"
      },
      "source": [
        "(train_images,train_labels),(test_images,test_labels)=mnist.load_data()"
      ],
      "execution_count": null,
      "outputs": [
        {
          "output_type": "stream",
          "text": [
            "Downloading data from https://storage.googleapis.com/tensorflow/tf-keras-datasets/mnist.npz\n",
            "11493376/11490434 [==============================] - 0s 0us/step\n"
          ],
          "name": "stdout"
        }
      ]
    },
    {
      "cell_type": "code",
      "metadata": {
        "id": "oi_Jv_wJGjgq"
      },
      "source": [
        "train_images= train_images.reshape(60000,28*28)\r\n",
        "train_images= train_images.astype(\"float64\")/255\r\n",
        "test_images= test_images.reshape(10000,28*28)\r\n",
        "test_images= test_images.astype(\"float64\")/255"
      ],
      "execution_count": null,
      "outputs": []
    },
    {
      "cell_type": "code",
      "metadata": {
        "id": "GnmfWzcSGjlO"
      },
      "source": [
        "from keras.utils import to_categorical\r\n",
        "train_labels= to_categorical(train_labels)\r\n",
        "test_labels= to_categorical(test_labels)"
      ],
      "execution_count": null,
      "outputs": []
    },
    {
      "cell_type": "code",
      "metadata": {
        "id": "dYVIvkoBGjqs"
      },
      "source": [
        "from keras.models import Model\r\n",
        "from keras.layers import Input\r\n",
        "from keras.layers import Dense\r\n",
        "from keras.layers import Activation\r\n",
        "from keras.layers import LeakyReLU\r\n",
        "from keras.activations import selu"
      ],
      "execution_count": null,
      "outputs": []
    },
    {
      "cell_type": "markdown",
      "metadata": {
        "id": "we2JaFaBHGbE"
      },
      "source": [
        "***Relu with glorot normal*** "
      ]
    },
    {
      "cell_type": "code",
      "metadata": {
        "id": "saPA0MVxGjvd"
      },
      "source": [
        "inp = keras.layers.Input(shape=(784,))\r\n",
        "hidden1 = keras.layers.Dense(300, activation='relu',kernel_initializer='glorot_normal')(inp)\r\n",
        "hidden2 = keras.layers.Dense(200, activation='relu',kernel_initializer='glorot_normal')(hidden1)\r\n",
        "hidden3 = keras.layers.Dense(100, activation='relu',kernel_initializer='glorot_normal')(hidden2)\r\n",
        "out=keras.layers.Dense(10, activation='softmax')(hidden3)\r\n",
        "model_fapi = keras.models.Model(inputs=inp, outputs=out)"
      ],
      "execution_count": null,
      "outputs": []
    },
    {
      "cell_type": "code",
      "metadata": {
        "colab": {
          "base_uri": "https://localhost:8080/"
        },
        "id": "1cVjxFy5Gj0m",
        "outputId": "d50d467b-f46c-44b4-b0d1-1623febdea16"
      },
      "source": [
        "model_fapi.summary()"
      ],
      "execution_count": null,
      "outputs": [
        {
          "output_type": "stream",
          "text": [
            "Model: \"model\"\n",
            "_________________________________________________________________\n",
            "Layer (type)                 Output Shape              Param #   \n",
            "=================================================================\n",
            "input_1 (InputLayer)         [(None, 784)]             0         \n",
            "_________________________________________________________________\n",
            "dense (Dense)                (None, 300)               235500    \n",
            "_________________________________________________________________\n",
            "dense_1 (Dense)              (None, 200)               60200     \n",
            "_________________________________________________________________\n",
            "dense_2 (Dense)              (None, 100)               20100     \n",
            "_________________________________________________________________\n",
            "dense_3 (Dense)              (None, 10)                1010      \n",
            "=================================================================\n",
            "Total params: 316,810\n",
            "Trainable params: 316,810\n",
            "Non-trainable params: 0\n",
            "_________________________________________________________________\n"
          ],
          "name": "stdout"
        }
      ]
    },
    {
      "cell_type": "code",
      "metadata": {
        "colab": {
          "base_uri": "https://localhost:8080/",
          "height": 533
        },
        "id": "jBMHQJDsGj5K",
        "outputId": "8de33cd1-5ddd-4ea2-f173-0f5aaf8be0b3"
      },
      "source": [
        "from keras.utils.vis_utils import plot_model  #pictorial representation of summary\r\n",
        "plot_model(model_fapi, to_file='model_plot1.png', show_shapes=True, show_layer_names=True)\r\n",
        "#summary in pictorial representation"
      ],
      "execution_count": null,
      "outputs": [
        {
          "output_type": "execute_result",
          "data": {
            "image/png": "[encoded data removed]",
            "text/plain": [
              "<IPython.core.display.Image object>"
            ]
          },
          "metadata": {
            "tags": []
          },
          "execution_count": 11
        }
      ]
    },
    {
      "cell_type": "code",
      "metadata": {
        "id": "oKsphskeGj9h"
      },
      "source": [
        "model_fapi.compile(optimizer='sgd',\r\n",
        "loss='categorical_crossentropy',\r\n",
        "metrics=['accuracy'])"
      ],
      "execution_count": null,
      "outputs": []
    },
    {
      "cell_type": "code",
      "metadata": {
        "colab": {
          "base_uri": "https://localhost:8080/"
        },
        "id": "UsUoqHnPGkC1",
        "outputId": "d72a030a-9f4f-4b4b-c37c-262c0dc28ff5"
      },
      "source": [
        "model_fapi.fit(train_images, train_labels, epochs=10, batch_size=512,validation_data=(test_images,test_labels))"
      ],
      "execution_count": null,
      "outputs": [
        {
          "output_type": "stream",
          "text": [
            "Epoch 1/10\n",
            "118/118 [==============================] - 3s 24ms/step - loss: 2.1939 - accuracy: 0.2492 - val_loss: 1.6256 - val_accuracy: 0.6917\n",
            "Epoch 2/10\n",
            "118/118 [==============================] - 2s 21ms/step - loss: 1.4452 - accuracy: 0.7181 - val_loss: 0.9102 - val_accuracy: 0.8095\n",
            "Epoch 3/10\n",
            "118/118 [==============================] - 2s 21ms/step - loss: 0.8448 - accuracy: 0.8083 - val_loss: 0.6162 - val_accuracy: 0.8520\n",
            "Epoch 4/10\n",
            "118/118 [==============================] - 2s 21ms/step - loss: 0.6021 - accuracy: 0.8514 - val_loss: 0.4936 - val_accuracy: 0.8736\n",
            "Epoch 5/10\n",
            "118/118 [==============================] - 2s 21ms/step - loss: 0.5018 - accuracy: 0.8702 - val_loss: 0.4277 - val_accuracy: 0.8858\n",
            "Epoch 6/10\n",
            "118/118 [==============================] - 3s 21ms/step - loss: 0.4401 - accuracy: 0.8814 - val_loss: 0.3877 - val_accuracy: 0.8944\n",
            "Epoch 7/10\n",
            "118/118 [==============================] - 3s 22ms/step - loss: 0.4030 - accuracy: 0.8903 - val_loss: 0.3589 - val_accuracy: 0.9025\n",
            "Epoch 8/10\n",
            "118/118 [==============================] - 3s 22ms/step - loss: 0.3778 - accuracy: 0.8967 - val_loss: 0.3394 - val_accuracy: 0.9071\n",
            "Epoch 9/10\n",
            "118/118 [==============================] - 3s 22ms/step - loss: 0.3508 - accuracy: 0.9017 - val_loss: 0.3248 - val_accuracy: 0.9116\n",
            "Epoch 10/10\n",
            "118/118 [==============================] - 3s 21ms/step - loss: 0.3393 - accuracy: 0.9052 - val_loss: 0.3130 - val_accuracy: 0.9139\n"
          ],
          "name": "stdout"
        },
        {
          "output_type": "execute_result",
          "data": {
            "text/plain": [
              "<tensorflow.python.keras.callbacks.History at 0x7f655a55f668>"
            ]
          },
          "metadata": {
            "tags": []
          },
          "execution_count": 13
        }
      ]
    },
    {
      "cell_type": "markdown",
      "metadata": {
        "id": "5dgCiZS4JgC2"
      },
      "source": [
        "**Leaky Relu**"
      ]
    },
    {
      "cell_type": "code",
      "metadata": {
        "id": "sd1DOpu_JbQI"
      },
      "source": [
        "inp1 = keras.layers.Input(shape=(784,))\r\n",
        "hidden1 = keras.layers.Dense(300,activation=keras.layers.LeakyReLU(),kernel_initializer=keras.initializers.glorot_normal(seed=42))(inp1)\r\n",
        "hidden2 = keras.layers.Dense(200, activation=keras.layers.LeakyReLU(),kernel_initializer=keras.initializers.glorot_normal(seed=42))(hidden1)\r\n",
        "hidden3 = keras.layers.Dense(100, activation=keras.layers.LeakyReLU(),kernel_initializer=keras.initializers.glorot_normal(seed=42))(hidden2)\r\n",
        "out2=keras.layers.Dense(10, activation='softmax')(hidden3)\r\n",
        "model_fapi_3 = keras.models.Model(inputs=inp1, outputs=out2)"
      ],
      "execution_count": null,
      "outputs": []
    },
    {
      "cell_type": "code",
      "metadata": {
        "colab": {
          "base_uri": "https://localhost:8080/"
        },
        "id": "ZbHI0Cf-JbUJ",
        "outputId": "97d297bd-9875-46a9-a133-05c1f79a02de"
      },
      "source": [
        "model_fapi_3.summary()"
      ],
      "execution_count": null,
      "outputs": [
        {
          "output_type": "stream",
          "text": [
            "Model: \"model_1\"\n",
            "_________________________________________________________________\n",
            "Layer (type)                 Output Shape              Param #   \n",
            "=================================================================\n",
            "input_2 (InputLayer)         [(None, 784)]             0         \n",
            "_________________________________________________________________\n",
            "dense_4 (Dense)              (None, 300)               235500    \n",
            "_________________________________________________________________\n",
            "dense_5 (Dense)              (None, 200)               60200     \n",
            "_________________________________________________________________\n",
            "dense_6 (Dense)              (None, 100)               20100     \n",
            "_________________________________________________________________\n",
            "dense_7 (Dense)              (None, 10)                1010      \n",
            "=================================================================\n",
            "Total params: 316,810\n",
            "Trainable params: 316,810\n",
            "Non-trainable params: 0\n",
            "_________________________________________________________________\n"
          ],
          "name": "stdout"
        }
      ]
    },
    {
      "cell_type": "code",
      "metadata": {
        "colab": {
          "base_uri": "https://localhost:8080/",
          "height": 533
        },
        "id": "IrbsQWUuJba8",
        "outputId": "153b15cd-fe84-4dc6-f61a-0c2bf4fb437a"
      },
      "source": [
        "from keras.utils.vis_utils import plot_model  #pictorial representation of summary\r\n",
        "plot_model(model_fapi_3, to_file='model_plot1.png', show_shapes=True, show_layer_names=True)\r\n",
        "#summary in pictorial representation"
      ],
      "execution_count": null,
      "outputs": [
        {
          "output_type": "execute_result",
          "data": {
            "image/png": "[encoded data removed]",
            "text/plain": [
              "<IPython.core.display.Image object>"
            ]
          },
          "metadata": {
            "tags": []
          },
          "execution_count": 16
        }
      ]
    },
    {
      "cell_type": "code",
      "metadata": {
        "id": "euFuBWTQJbjV"
      },
      "source": [
        "model_fapi_3.compile(optimizer='sgd',\r\n",
        "loss='categorical_crossentropy',\r\n",
        "metrics=['accuracy'])"
      ],
      "execution_count": null,
      "outputs": []
    },
    {
      "cell_type": "code",
      "metadata": {
        "id": "GJR9ZY2JJbnn"
      },
      "source": [
        "inp1 = keras.layers.Input(shape=(784,))\r\n",
        "hidden1 = keras.layers.Dense(300,activation='relu',kernel_initializer='lecun_normal')(inp1)\r\n",
        "hidden2 = keras.layers.Dense(200, activation='relu',kernel_initializer='lecun_normal')(hidden1)\r\n",
        "hidden3 = keras.layers.Dense(100, activation='relu',kernel_initializer='lecun_normal')(hidden2)\r\n",
        "out2=keras.layers.Dense(10, activation='softmax')(hidden3)\r\n",
        "model_fapi_1 = keras.models.Model(inputs=inp1, outputs=out2)"
      ],
      "execution_count": null,
      "outputs": []
    },
    {
      "cell_type": "code",
      "metadata": {
        "colab": {
          "base_uri": "https://localhost:8080/"
        },
        "id": "oWRtOOBrJbrm",
        "outputId": "592dd4c8-8012-44a1-8753-b35dd59b5d32"
      },
      "source": [
        "keras.layers.Dense(100,activation='relu',kernel_initializer=keras.initializers.lecun_normal())"
      ],
      "execution_count": null,
      "outputs": [
        {
          "output_type": "execute_result",
          "data": {
            "text/plain": [
              "<tensorflow.python.keras.layers.core.Dense at 0x7f65584a2a90>"
            ]
          },
          "metadata": {
            "tags": []
          },
          "execution_count": 19
        }
      ]
    },
    {
      "cell_type": "code",
      "metadata": {
        "id": "yl3mG6liJbvT"
      },
      "source": [
        "model_fapi_1.compile(optimizer='sgd',\r\n",
        "loss='categorical_crossentropy',\r\n",
        "metrics=['accuracy'])"
      ],
      "execution_count": null,
      "outputs": []
    },
    {
      "cell_type": "code",
      "metadata": {
        "colab": {
          "base_uri": "https://localhost:8080/"
        },
        "id": "LgLcMmpBJby4",
        "outputId": "55642a0c-0b73-40a5-ee69-68537b9a5efe"
      },
      "source": [
        "model_fapi_1.fit(train_images, train_labels, epochs=10, batch_size=512)"
      ],
      "execution_count": null,
      "outputs": [
        {
          "output_type": "stream",
          "text": [
            "Epoch 1/10\n",
            "118/118 [==============================] - 3s 19ms/step - loss: 2.2402 - accuracy: 0.1963\n",
            "Epoch 2/10\n",
            "118/118 [==============================] - 2s 19ms/step - loss: 1.7837 - accuracy: 0.6158\n",
            "Epoch 3/10\n",
            "118/118 [==============================] - 2s 19ms/step - loss: 1.1357 - accuracy: 0.7956\n",
            "Epoch 4/10\n",
            "118/118 [==============================] - 2s 18ms/step - loss: 0.7252 - accuracy: 0.8412\n",
            "Epoch 5/10\n",
            "118/118 [==============================] - 2s 19ms/step - loss: 0.5551 - accuracy: 0.8639\n",
            "Epoch 6/10\n",
            "118/118 [==============================] - 2s 19ms/step - loss: 0.4719 - accuracy: 0.8780\n",
            "Epoch 7/10\n",
            "118/118 [==============================] - 2s 19ms/step - loss: 0.4233 - accuracy: 0.8877\n",
            "Epoch 8/10\n",
            "118/118 [==============================] - 2s 18ms/step - loss: 0.3850 - accuracy: 0.8949\n",
            "Epoch 9/10\n",
            "118/118 [==============================] - 2s 19ms/step - loss: 0.3725 - accuracy: 0.8985\n",
            "Epoch 10/10\n",
            "118/118 [==============================] - 2s 19ms/step - loss: 0.3578 - accuracy: 0.8988\n"
          ],
          "name": "stdout"
        },
        {
          "output_type": "execute_result",
          "data": {
            "text/plain": [
              "<tensorflow.python.keras.callbacks.History at 0x7f65573ea828>"
            ]
          },
          "metadata": {
            "tags": []
          },
          "execution_count": 21
        }
      ]
    },
    {
      "cell_type": "code",
      "metadata": {
        "id": "Nedx1pf5Jb2u"
      },
      "source": [
        "inp2 = keras.layers.Input(shape=(784,))\r\n",
        "hidden1 = keras.layers.Dense(300,activation='relu',kernel_initializer='he_uniform')(inp2)\r\n",
        "hidden2 = keras.layers.Dense(200, activation='relu',kernel_initializer='he_uniform')(hidden1)\r\n",
        "hidden3 = keras.layers.Dense(100, activation='relu',kernel_initializer=\"glorot_normal\")(hidden2)\r\n",
        "out3=keras.layers.Dense(10, activation='softmax')(hidden3)\r\n",
        "model_fapi_2 = keras.models.Model(inputs=inp2, outputs=out3)"
      ],
      "execution_count": null,
      "outputs": []
    },
    {
      "cell_type": "code",
      "metadata": {
        "id": "neBMDQvvGkHV"
      },
      "source": [
        "model_fapi_2.compile(optimizer='sgd',\r\n",
        "loss='categorical_crossentropy',\r\n",
        "metrics=['accuracy'])"
      ],
      "execution_count": null,
      "outputs": []
    },
    {
      "cell_type": "code",
      "metadata": {
        "colab": {
          "base_uri": "https://localhost:8080/"
        },
        "id": "3E2PJ4SWGkME",
        "outputId": "b3887951-843e-4ce3-f872-bcbc42d78533"
      },
      "source": [
        "model_fapi_2.fit(train_images, train_labels, epochs=10, batch_size=512)"
      ],
      "execution_count": null,
      "outputs": [
        {
          "output_type": "stream",
          "text": [
            "Epoch 1/10\n",
            "118/118 [==============================] - 3s 19ms/step - loss: 2.1450 - accuracy: 0.2890\n",
            "Epoch 2/10\n",
            "118/118 [==============================] - 2s 19ms/step - loss: 1.2582 - accuracy: 0.7308\n",
            "Epoch 3/10\n",
            "118/118 [==============================] - 2s 19ms/step - loss: 0.7143 - accuracy: 0.8263\n",
            "Epoch 4/10\n",
            "118/118 [==============================] - 2s 19ms/step - loss: 0.5355 - accuracy: 0.8598\n",
            "Epoch 5/10\n",
            "118/118 [==============================] - 2s 19ms/step - loss: 0.4536 - accuracy: 0.8743\n",
            "Epoch 6/10\n",
            "118/118 [==============================] - 2s 19ms/step - loss: 0.4184 - accuracy: 0.8825\n",
            "Epoch 7/10\n",
            "118/118 [==============================] - 2s 19ms/step - loss: 0.3772 - accuracy: 0.8928\n",
            "Epoch 8/10\n",
            "118/118 [==============================] - 2s 19ms/step - loss: 0.3493 - accuracy: 0.9011\n",
            "Epoch 9/10\n",
            "118/118 [==============================] - 2s 18ms/step - loss: 0.3368 - accuracy: 0.9048\n",
            "Epoch 10/10\n",
            "118/118 [==============================] - 2s 19ms/step - loss: 0.3174 - accuracy: 0.9087\n"
          ],
          "name": "stdout"
        },
        {
          "output_type": "execute_result",
          "data": {
            "text/plain": [
              "<tensorflow.python.keras.callbacks.History at 0x7f655735e828>"
            ]
          },
          "metadata": {
            "tags": []
          },
          "execution_count": 24
        }
      ]
    },
    {
      "cell_type": "code",
      "metadata": {
        "id": "5qAYBZoqGkRC"
      },
      "source": [
        "inp3 = keras.layers.Input(shape=(784,))\r\n",
        "hidden1 = keras.layers.Dense(300,activation='elu',kernel_initializer='he_uniform')(inp3)\r\n",
        "hidden2 = keras.layers.Dense(200, activation='elu',kernel_initializer='he_uniform')(hidden1)\r\n",
        "hidden3 = keras.layers.Dense(100, activation='elu',kernel_initializer='he_uniform')(hidden2)\r\n",
        "out3=keras.layers.Dense(10, activation='softmax')(hidden3)\r\n",
        "model_fapi_3 = keras.models.Model(inputs=inp3, outputs=out3)\r\n"
      ],
      "execution_count": null,
      "outputs": []
    },
    {
      "cell_type": "code",
      "metadata": {
        "id": "SaflKsz7GkVq"
      },
      "source": [
        "model_fapi_3.compile(optimizer='sgd',\r\n",
        "loss='categorical_crossentropy',\r\n",
        "metrics=['accuracy'])"
      ],
      "execution_count": null,
      "outputs": []
    },
    {
      "cell_type": "code",
      "metadata": {
        "colab": {
          "base_uri": "https://localhost:8080/"
        },
        "id": "eQVOhl8PGkaM",
        "outputId": "4f0a0a00-f3aa-454d-bd82-54d1ec19cf0d"
      },
      "source": [
        "model_fapi_3.fit(train_images, train_labels, epochs=10, batch_size=512)"
      ],
      "execution_count": null,
      "outputs": [
        {
          "output_type": "stream",
          "text": [
            "Epoch 1/10\n",
            "118/118 [==============================] - 3s 19ms/step - loss: 1.6832 - accuracy: 0.4633\n",
            "Epoch 2/10\n",
            "118/118 [==============================] - 2s 19ms/step - loss: 0.6539 - accuracy: 0.8295\n",
            "Epoch 3/10\n",
            "118/118 [==============================] - 2s 19ms/step - loss: 0.4963 - accuracy: 0.8648\n",
            "Epoch 4/10\n",
            "118/118 [==============================] - 2s 20ms/step - loss: 0.4255 - accuracy: 0.8803\n",
            "Epoch 5/10\n",
            "118/118 [==============================] - 2s 19ms/step - loss: 0.3935 - accuracy: 0.8884\n",
            "Epoch 6/10\n",
            "118/118 [==============================] - 2s 19ms/step - loss: 0.3714 - accuracy: 0.8939\n",
            "Epoch 7/10\n",
            "118/118 [==============================] - 2s 19ms/step - loss: 0.3549 - accuracy: 0.8973\n",
            "Epoch 8/10\n",
            "118/118 [==============================] - 2s 20ms/step - loss: 0.3402 - accuracy: 0.9030\n",
            "Epoch 9/10\n",
            "118/118 [==============================] - 2s 20ms/step - loss: 0.3278 - accuracy: 0.9065\n",
            "Epoch 10/10\n",
            "118/118 [==============================] - 2s 20ms/step - loss: 0.3137 - accuracy: 0.9104\n"
          ],
          "name": "stdout"
        },
        {
          "output_type": "execute_result",
          "data": {
            "text/plain": [
              "<tensorflow.python.keras.callbacks.History at 0x7f6556a55518>"
            ]
          },
          "metadata": {
            "tags": []
          },
          "execution_count": 27
        }
      ]
    },
    {
      "cell_type": "markdown",
      "metadata": {
        "id": "CDyw2UgSMIIZ"
      },
      "source": [
        "selu activation and he_ initializer shouldnot be used together"
      ]
    },
    {
      "cell_type": "code",
      "metadata": {
        "colab": {
          "base_uri": "https://localhost:8080/",
          "height": 405
        },
        "id": "WZ-FO9igKuFE",
        "outputId": "f3008264-ac0b-4962-d8ec-e6939f5ee3ed"
      },
      "source": [
        "inp4 = keras.layers.Input(shape=(784,))\r\n",
        "hidden1 = keras.layers.Dense(300,activation='LeakyReLU')(inp4)\r\n",
        "hidden2 = keras.layers.Dense(200, activation='LeakyReLU')(hidden1)\r\n",
        "hidden3 = keras.layers.Dense(100, activation='LeakyReLU')(hidden2)\r\n",
        "out4=keras.layers.Dense(10, activation='softmax')(hidden3)\r\n",
        "model_fapi_4 = keras.models.Model(inputs=inp4, outputs=out4)"
      ],
      "execution_count": null,
      "outputs": [
        {
          "output_type": "error",
          "ename": "ValueError",
          "evalue": "ignored",
          "traceback": [
            "\u001b[0;31m---------------------------------------------------------------------------\u001b[0m",
            "\u001b[0;31mValueError\u001b[0m                                Traceback (most recent call last)",
            "\u001b[0;32m<ipython-input-28-bbc02824e735>\u001b[0m in \u001b[0;36m<module>\u001b[0;34m()\u001b[0m\n\u001b[1;32m      1\u001b[0m \u001b[0minp4\u001b[0m \u001b[0;34m=\u001b[0m \u001b[0mkeras\u001b[0m\u001b[0;34m.\u001b[0m\u001b[0mlayers\u001b[0m\u001b[0;34m.\u001b[0m\u001b[0mInput\u001b[0m\u001b[0;34m(\u001b[0m\u001b[0mshape\u001b[0m\u001b[0;34m=\u001b[0m\u001b[0;34m(\u001b[0m\u001b[0;36m784\u001b[0m\u001b[0;34m,\u001b[0m\u001b[0;34m)\u001b[0m\u001b[0;34m)\u001b[0m\u001b[0;34m\u001b[0m\u001b[0;34m\u001b[0m\u001b[0m\n\u001b[0;32m----> 2\u001b[0;31m \u001b[0mhidden1\u001b[0m \u001b[0;34m=\u001b[0m \u001b[0mkeras\u001b[0m\u001b[0;34m.\u001b[0m\u001b[0mlayers\u001b[0m\u001b[0;34m.\u001b[0m\u001b[0mDense\u001b[0m\u001b[0;34m(\u001b[0m\u001b[0;36m300\u001b[0m\u001b[0;34m,\u001b[0m\u001b[0mactivation\u001b[0m\u001b[0;34m=\u001b[0m\u001b[0;34m'LeakyReLU'\u001b[0m\u001b[0;34m)\u001b[0m\u001b[0;34m(\u001b[0m\u001b[0minp4\u001b[0m\u001b[0;34m)\u001b[0m\u001b[0;34m\u001b[0m\u001b[0;34m\u001b[0m\u001b[0m\n\u001b[0m\u001b[1;32m      3\u001b[0m \u001b[0mhidden2\u001b[0m \u001b[0;34m=\u001b[0m \u001b[0mkeras\u001b[0m\u001b[0;34m.\u001b[0m\u001b[0mlayers\u001b[0m\u001b[0;34m.\u001b[0m\u001b[0mDense\u001b[0m\u001b[0;34m(\u001b[0m\u001b[0;36m200\u001b[0m\u001b[0;34m,\u001b[0m \u001b[0mactivation\u001b[0m\u001b[0;34m=\u001b[0m\u001b[0;34m'LeakyReLU'\u001b[0m\u001b[0;34m)\u001b[0m\u001b[0;34m(\u001b[0m\u001b[0mhidden1\u001b[0m\u001b[0;34m)\u001b[0m\u001b[0;34m\u001b[0m\u001b[0;34m\u001b[0m\u001b[0m\n\u001b[1;32m      4\u001b[0m \u001b[0mhidden3\u001b[0m \u001b[0;34m=\u001b[0m \u001b[0mkeras\u001b[0m\u001b[0;34m.\u001b[0m\u001b[0mlayers\u001b[0m\u001b[0;34m.\u001b[0m\u001b[0mDense\u001b[0m\u001b[0;34m(\u001b[0m\u001b[0;36m100\u001b[0m\u001b[0;34m,\u001b[0m \u001b[0mactivation\u001b[0m\u001b[0;34m=\u001b[0m\u001b[0;34m'LeakyReLU'\u001b[0m\u001b[0;34m)\u001b[0m\u001b[0;34m(\u001b[0m\u001b[0mhidden2\u001b[0m\u001b[0;34m)\u001b[0m\u001b[0;34m\u001b[0m\u001b[0;34m\u001b[0m\u001b[0m\n\u001b[1;32m      5\u001b[0m \u001b[0mout4\u001b[0m\u001b[0;34m=\u001b[0m\u001b[0mkeras\u001b[0m\u001b[0;34m.\u001b[0m\u001b[0mlayers\u001b[0m\u001b[0;34m.\u001b[0m\u001b[0mDense\u001b[0m\u001b[0;34m(\u001b[0m\u001b[0;36m10\u001b[0m\u001b[0;34m,\u001b[0m \u001b[0mactivation\u001b[0m\u001b[0;34m=\u001b[0m\u001b[0;34m'softmax'\u001b[0m\u001b[0;34m)\u001b[0m\u001b[0;34m(\u001b[0m\u001b[0mhidden3\u001b[0m\u001b[0;34m)\u001b[0m\u001b[0;34m\u001b[0m\u001b[0;34m\u001b[0m\u001b[0m\n",
            "\u001b[0;32m/usr/local/lib/python3.6/dist-packages/tensorflow/python/keras/layers/core.py\u001b[0m in \u001b[0;36m__init__\u001b[0;34m(self, units, activation, use_bias, kernel_initializer, bias_initializer, kernel_regularizer, bias_regularizer, activity_regularizer, kernel_constraint, bias_constraint, **kwargs)\u001b[0m\n\u001b[1;32m   1159\u001b[0m \u001b[0;34m\u001b[0m\u001b[0m\n\u001b[1;32m   1160\u001b[0m     \u001b[0mself\u001b[0m\u001b[0;34m.\u001b[0m\u001b[0munits\u001b[0m \u001b[0;34m=\u001b[0m \u001b[0mint\u001b[0m\u001b[0;34m(\u001b[0m\u001b[0munits\u001b[0m\u001b[0;34m)\u001b[0m \u001b[0;32mif\u001b[0m \u001b[0;32mnot\u001b[0m \u001b[0misinstance\u001b[0m\u001b[0;34m(\u001b[0m\u001b[0munits\u001b[0m\u001b[0;34m,\u001b[0m \u001b[0mint\u001b[0m\u001b[0;34m)\u001b[0m \u001b[0;32melse\u001b[0m \u001b[0munits\u001b[0m\u001b[0;34m\u001b[0m\u001b[0;34m\u001b[0m\u001b[0m\n\u001b[0;32m-> 1161\u001b[0;31m     \u001b[0mself\u001b[0m\u001b[0;34m.\u001b[0m\u001b[0mactivation\u001b[0m \u001b[0;34m=\u001b[0m \u001b[0mactivations\u001b[0m\u001b[0;34m.\u001b[0m\u001b[0mget\u001b[0m\u001b[0;34m(\u001b[0m\u001b[0mactivation\u001b[0m\u001b[0;34m)\u001b[0m\u001b[0;34m\u001b[0m\u001b[0;34m\u001b[0m\u001b[0m\n\u001b[0m\u001b[1;32m   1162\u001b[0m     \u001b[0mself\u001b[0m\u001b[0;34m.\u001b[0m\u001b[0muse_bias\u001b[0m \u001b[0;34m=\u001b[0m \u001b[0muse_bias\u001b[0m\u001b[0;34m\u001b[0m\u001b[0;34m\u001b[0m\u001b[0m\n\u001b[1;32m   1163\u001b[0m     \u001b[0mself\u001b[0m\u001b[0;34m.\u001b[0m\u001b[0mkernel_initializer\u001b[0m \u001b[0;34m=\u001b[0m \u001b[0minitializers\u001b[0m\u001b[0;34m.\u001b[0m\u001b[0mget\u001b[0m\u001b[0;34m(\u001b[0m\u001b[0mkernel_initializer\u001b[0m\u001b[0;34m)\u001b[0m\u001b[0;34m\u001b[0m\u001b[0;34m\u001b[0m\u001b[0m\n",
            "\u001b[0;32m/usr/local/lib/python3.6/dist-packages/tensorflow/python/util/dispatch.py\u001b[0m in \u001b[0;36mwrapper\u001b[0;34m(*args, **kwargs)\u001b[0m\n\u001b[1;32m    199\u001b[0m     \u001b[0;34m\"\"\"Call target, and fall back on dispatchers if there is a TypeError.\"\"\"\u001b[0m\u001b[0;34m\u001b[0m\u001b[0;34m\u001b[0m\u001b[0m\n\u001b[1;32m    200\u001b[0m     \u001b[0;32mtry\u001b[0m\u001b[0;34m:\u001b[0m\u001b[0;34m\u001b[0m\u001b[0;34m\u001b[0m\u001b[0m\n\u001b[0;32m--> 201\u001b[0;31m       \u001b[0;32mreturn\u001b[0m \u001b[0mtarget\u001b[0m\u001b[0;34m(\u001b[0m\u001b[0;34m*\u001b[0m\u001b[0margs\u001b[0m\u001b[0;34m,\u001b[0m \u001b[0;34m**\u001b[0m\u001b[0mkwargs\u001b[0m\u001b[0;34m)\u001b[0m\u001b[0;34m\u001b[0m\u001b[0;34m\u001b[0m\u001b[0m\n\u001b[0m\u001b[1;32m    202\u001b[0m     \u001b[0;32mexcept\u001b[0m \u001b[0;34m(\u001b[0m\u001b[0mTypeError\u001b[0m\u001b[0;34m,\u001b[0m \u001b[0mValueError\u001b[0m\u001b[0;34m)\u001b[0m\u001b[0;34m:\u001b[0m\u001b[0;34m\u001b[0m\u001b[0;34m\u001b[0m\u001b[0m\n\u001b[1;32m    203\u001b[0m       \u001b[0;31m# Note: convert_to_eager_tensor currently raises a ValueError, not a\u001b[0m\u001b[0;34m\u001b[0m\u001b[0;34m\u001b[0m\u001b[0;34m\u001b[0m\u001b[0m\n",
            "\u001b[0;32m/usr/local/lib/python3.6/dist-packages/tensorflow/python/keras/activations.py\u001b[0m in \u001b[0;36mget\u001b[0;34m(identifier)\u001b[0m\n\u001b[1;32m    571\u001b[0m   \u001b[0;32mif\u001b[0m \u001b[0misinstance\u001b[0m\u001b[0;34m(\u001b[0m\u001b[0midentifier\u001b[0m\u001b[0;34m,\u001b[0m \u001b[0msix\u001b[0m\u001b[0;34m.\u001b[0m\u001b[0mstring_types\u001b[0m\u001b[0;34m)\u001b[0m\u001b[0;34m:\u001b[0m\u001b[0;34m\u001b[0m\u001b[0;34m\u001b[0m\u001b[0m\n\u001b[1;32m    572\u001b[0m     \u001b[0midentifier\u001b[0m \u001b[0;34m=\u001b[0m \u001b[0mstr\u001b[0m\u001b[0;34m(\u001b[0m\u001b[0midentifier\u001b[0m\u001b[0;34m)\u001b[0m\u001b[0;34m\u001b[0m\u001b[0;34m\u001b[0m\u001b[0m\n\u001b[0;32m--> 573\u001b[0;31m     \u001b[0;32mreturn\u001b[0m \u001b[0mdeserialize\u001b[0m\u001b[0;34m(\u001b[0m\u001b[0midentifier\u001b[0m\u001b[0;34m)\u001b[0m\u001b[0;34m\u001b[0m\u001b[0;34m\u001b[0m\u001b[0m\n\u001b[0m\u001b[1;32m    574\u001b[0m   \u001b[0;32melif\u001b[0m \u001b[0misinstance\u001b[0m\u001b[0;34m(\u001b[0m\u001b[0midentifier\u001b[0m\u001b[0;34m,\u001b[0m \u001b[0mdict\u001b[0m\u001b[0;34m)\u001b[0m\u001b[0;34m:\u001b[0m\u001b[0;34m\u001b[0m\u001b[0;34m\u001b[0m\u001b[0m\n\u001b[1;32m    575\u001b[0m     \u001b[0;32mreturn\u001b[0m \u001b[0mdeserialize\u001b[0m\u001b[0;34m(\u001b[0m\u001b[0midentifier\u001b[0m\u001b[0;34m)\u001b[0m\u001b[0;34m\u001b[0m\u001b[0;34m\u001b[0m\u001b[0m\n",
            "\u001b[0;32m/usr/local/lib/python3.6/dist-packages/tensorflow/python/util/dispatch.py\u001b[0m in \u001b[0;36mwrapper\u001b[0;34m(*args, **kwargs)\u001b[0m\n\u001b[1;32m    199\u001b[0m     \u001b[0;34m\"\"\"Call target, and fall back on dispatchers if there is a TypeError.\"\"\"\u001b[0m\u001b[0;34m\u001b[0m\u001b[0;34m\u001b[0m\u001b[0m\n\u001b[1;32m    200\u001b[0m     \u001b[0;32mtry\u001b[0m\u001b[0;34m:\u001b[0m\u001b[0;34m\u001b[0m\u001b[0;34m\u001b[0m\u001b[0m\n\u001b[0;32m--> 201\u001b[0;31m       \u001b[0;32mreturn\u001b[0m \u001b[0mtarget\u001b[0m\u001b[0;34m(\u001b[0m\u001b[0;34m*\u001b[0m\u001b[0margs\u001b[0m\u001b[0;34m,\u001b[0m \u001b[0;34m**\u001b[0m\u001b[0mkwargs\u001b[0m\u001b[0;34m)\u001b[0m\u001b[0;34m\u001b[0m\u001b[0;34m\u001b[0m\u001b[0m\n\u001b[0m\u001b[1;32m    202\u001b[0m     \u001b[0;32mexcept\u001b[0m \u001b[0;34m(\u001b[0m\u001b[0mTypeError\u001b[0m\u001b[0;34m,\u001b[0m \u001b[0mValueError\u001b[0m\u001b[0;34m)\u001b[0m\u001b[0;34m:\u001b[0m\u001b[0;34m\u001b[0m\u001b[0;34m\u001b[0m\u001b[0m\n\u001b[1;32m    203\u001b[0m       \u001b[0;31m# Note: convert_to_eager_tensor currently raises a ValueError, not a\u001b[0m\u001b[0;34m\u001b[0m\u001b[0;34m\u001b[0m\u001b[0;34m\u001b[0m\u001b[0m\n",
            "\u001b[0;32m/usr/local/lib/python3.6/dist-packages/tensorflow/python/keras/activations.py\u001b[0m in \u001b[0;36mdeserialize\u001b[0;34m(name, custom_objects)\u001b[0m\n\u001b[1;32m    534\u001b[0m       \u001b[0mmodule_objects\u001b[0m\u001b[0;34m=\u001b[0m\u001b[0mglobals\u001b[0m\u001b[0;34m(\u001b[0m\u001b[0;34m)\u001b[0m\u001b[0;34m,\u001b[0m\u001b[0;34m\u001b[0m\u001b[0;34m\u001b[0m\u001b[0m\n\u001b[1;32m    535\u001b[0m       \u001b[0mcustom_objects\u001b[0m\u001b[0;34m=\u001b[0m\u001b[0mcustom_objects\u001b[0m\u001b[0;34m,\u001b[0m\u001b[0;34m\u001b[0m\u001b[0;34m\u001b[0m\u001b[0m\n\u001b[0;32m--> 536\u001b[0;31m       printable_module_name='activation function')\n\u001b[0m\u001b[1;32m    537\u001b[0m \u001b[0;34m\u001b[0m\u001b[0m\n\u001b[1;32m    538\u001b[0m \u001b[0;34m\u001b[0m\u001b[0m\n",
            "\u001b[0;32m/usr/local/lib/python3.6/dist-packages/tensorflow/python/keras/utils/generic_utils.py\u001b[0m in \u001b[0;36mdeserialize_keras_object\u001b[0;34m(identifier, module_objects, custom_objects, printable_module_name)\u001b[0m\n\u001b[1;32m    376\u001b[0m       \u001b[0;32mif\u001b[0m \u001b[0mobj\u001b[0m \u001b[0;32mis\u001b[0m \u001b[0;32mNone\u001b[0m\u001b[0;34m:\u001b[0m\u001b[0;34m\u001b[0m\u001b[0;34m\u001b[0m\u001b[0m\n\u001b[1;32m    377\u001b[0m         raise ValueError(\n\u001b[0;32m--> 378\u001b[0;31m             'Unknown ' + printable_module_name + ': ' + object_name)\n\u001b[0m\u001b[1;32m    379\u001b[0m     \u001b[0;31m# Classes passed by name are instantiated with no args, functions are\u001b[0m\u001b[0;34m\u001b[0m\u001b[0;34m\u001b[0m\u001b[0;34m\u001b[0m\u001b[0m\n\u001b[1;32m    380\u001b[0m     \u001b[0;31m# returned as-is.\u001b[0m\u001b[0;34m\u001b[0m\u001b[0;34m\u001b[0m\u001b[0;34m\u001b[0m\u001b[0m\n",
            "\u001b[0;31mValueError\u001b[0m: Unknown activation function: LeakyReLU"
          ]
        }
      ]
    },
    {
      "cell_type": "code",
      "metadata": {
        "id": "vK784FYlKuIx"
      },
      "source": [
        ""
      ],
      "execution_count": null,
      "outputs": []
    },
    {
      "cell_type": "code",
      "metadata": {
        "id": "YoK5-wX5KuMs"
      },
      "source": [
        ""
      ],
      "execution_count": null,
      "outputs": []
    },
    {
      "cell_type": "code",
      "metadata": {
        "id": "7GLJCzFEKuPw"
      },
      "source": [
        ""
      ],
      "execution_count": null,
      "outputs": []
    },
    {
      "cell_type": "code",
      "metadata": {
        "id": "hLiQJMXVKuS4"
      },
      "source": [
        ""
      ],
      "execution_count": null,
      "outputs": []
    },
    {
      "cell_type": "code",
      "metadata": {
        "id": "mIOAeneoKuYv"
      },
      "source": [
        ""
      ],
      "execution_count": null,
      "outputs": []
    },
    {
      "cell_type": "code",
      "metadata": {
        "id": "FLHbB6sTKucT"
      },
      "source": [
        ""
      ],
      "execution_count": null,
      "outputs": []
    },
    {
      "cell_type": "code",
      "metadata": {
        "id": "jElLaF3RKugi"
      },
      "source": [
        ""
      ],
      "execution_count": null,
      "outputs": []
    },
    {
      "cell_type": "code",
      "metadata": {
        "id": "Trne94W1Kujm"
      },
      "source": [
        ""
      ],
      "execution_count": null,
      "outputs": []
    },
    {
      "cell_type": "code",
      "metadata": {
        "id": "pAon7bK5Kun1"
      },
      "source": [
        ""
      ],
      "execution_count": null,
      "outputs": []
    },
    {
      "cell_type": "code",
      "metadata": {
        "id": "YiFDaoGyKuwb"
      },
      "source": [
        ""
      ],
      "execution_count": null,
      "outputs": []
    }
  ]
}