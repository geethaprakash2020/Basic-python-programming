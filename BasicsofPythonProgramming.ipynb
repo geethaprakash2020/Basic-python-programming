{
 "cells": [
  {
   "cell_type": "markdown",
   "metadata": {
    "collapsed": true
   },
   "source": [
    "## Basic Data Types\n",
    "1. Numeric - int, float\n",
    "2. Strings\n",
    "3. Boolean - True, False"
   ]
  },
  {
   "cell_type": "code",
   "execution_count": 2,
   "metadata": {},
   "outputs": [
    {
     "name": "stdout",
     "output_type": "stream",
     "text": [
      "Roll is :  1\n",
      "Height is :  5.5\n",
      "Name is :  Parth\n"
     ]
    }
   ],
   "source": [
    "# Variable is a reserved memory space use to store a value. \n",
    "roll = 1                            # assigning intger value to the roll variable\n",
    "height = 5.5                        # assigning float value to the height variable\n",
    "name = \"Parth\"                      # assigning string value to the roll variable  (either ' ' or \" \")\n",
    "print('Roll is : ', roll)\n",
    "print('Height is : ', height)\n",
    "print('Name is : ', name)"
   ]
  },
  {
   "cell_type": "code",
   "execution_count": 3,
   "metadata": {},
   "outputs": [
    {
     "name": "stdout",
     "output_type": "stream",
     "text": [
      "<class 'int'>\n",
      "<class 'float'>\n",
      "<class 'str'>\n"
     ]
    }
   ],
   "source": [
    "# type() is used to check the data type of the variable. \n",
    "print(type(roll))\n",
    "print(type(height))\n",
    "print(type(name))"
   ]
  },
  {
   "cell_type": "markdown",
   "metadata": {},
   "source": [
    "## Arithmetic Operators in Python"
   ]
  },
  {
   "cell_type": "code",
   "execution_count": 4,
   "metadata": {},
   "outputs": [],
   "source": [
    "num1 = 10\n",
    "num2 = 2"
   ]
  },
  {
   "cell_type": "code",
   "execution_count": 5,
   "metadata": {},
   "outputs": [
    {
     "name": "stdout",
     "output_type": "stream",
     "text": [
      "Addition :  12\n",
      "Subtraction :  8\n",
      "Multiplication :  20\n",
      "Division :  5.0\n",
      "Raise to Power :  100\n",
      "Modulus :  0\n"
     ]
    }
   ],
   "source": [
    "print(\"Addition : \", num1 + num2)                                   # Addition Operator\n",
    "print(\"Subtraction : \", num1 - num2)                                # Subtraction Operator\n",
    "print(\"Multiplication : \", num1 *  num2)                            # Multiplication Operator\n",
    "print(\"Division : \", num1 / num2)                                   # Division Operator\n",
    "print(\"Raise to Power : \", num1 ** num2)                            # Power Operator\n",
    "print(\"Modulus : \", num1 % num2)                                   # Modulus Operator"
   ]
  },
  {
   "cell_type": "markdown",
   "metadata": {},
   "source": [
    "## Comparision Operators in Python\n",
    "Always return a boolean value"
   ]
  },
  {
   "cell_type": "code",
   "execution_count": 38,
   "metadata": {},
   "outputs": [
    {
     "name": "stdout",
     "output_type": "stream",
     "text": [
      "Equal to :  False\n",
      "Not Equal to :  True\n",
      "Greater Than :  True\n",
      "Less Than :  False\n",
      "Greater Than Equal to :  True\n",
      "Less Than Equal to :  False\n"
     ]
    }
   ],
   "source": [
    "print(\"Equal to : \", num1 == num2)                                    # Equality Operator\n",
    "print(\"Not Equal to : \", num1 != num2)                                # Not Equals Operator\n",
    "print(\"Greater Than : \", num1 >  num2)                                # Greater than Operator\n",
    "print(\"Less Than : \", num1 < num2)                                   # Less than Operator\n",
    "print(\"Greater Than Equal to : \", num1 >= num2)                      # Greater than equals to Operator\n",
    "print(\"Less Than Equal to : \", num1 <= num2)                         # Less than equals to Operator"
   ]
  },
  {
   "cell_type": "markdown",
   "metadata": {},
   "source": [
    "## Assignment Operators in Python"
   ]
  },
  {
   "cell_type": "code",
   "execution_count": 7,
   "metadata": {},
   "outputs": [
    {
     "name": "stdout",
     "output_type": "stream",
     "text": [
      "12\n"
     ]
    }
   ],
   "source": [
    "result = num1 + num2                       # Assignment Operator\n",
    "print(result)"
   ]
  },
  {
   "cell_type": "code",
   "execution_count": 8,
   "metadata": {},
   "outputs": [
    {
     "name": "stdout",
     "output_type": "stream",
     "text": [
      "1\n"
     ]
    }
   ],
   "source": [
    "num3 = 1\n",
    "print(num3)"
   ]
  },
  {
   "cell_type": "code",
   "execution_count": 11,
   "metadata": {},
   "outputs": [
    {
     "name": "stdout",
     "output_type": "stream",
     "text": [
      "4\n"
     ]
    }
   ],
   "source": [
    "num3 += 1                                 # Increment by Operator\n",
    "print(num3)"
   ]
  },
  {
   "cell_type": "code",
   "execution_count": 13,
   "metadata": {},
   "outputs": [
    {
     "name": "stdout",
     "output_type": "stream",
     "text": [
      "2\n"
     ]
    }
   ],
   "source": [
    "num3 -= 1                                 # Decrement by Operator\n",
    "print(num3)"
   ]
  },
  {
   "cell_type": "markdown",
   "metadata": {},
   "source": [
    "## Data Type Conversion (Type Casting)\n",
    "There are several built-in functions to perform conversion from one data type to another. These functions return a new object representing the converted value."
   ]
  },
  {
   "cell_type": "code",
   "execution_count": 16,
   "metadata": {},
   "outputs": [
    {
     "name": "stdout",
     "output_type": "stream",
     "text": [
      "31.0\n"
     ]
    }
   ],
   "source": [
    "num1 = 20.5\n",
    "num2 = 10.5\n",
    "result = num1 + num2\n",
    "print(result)"
   ]
  },
  {
   "cell_type": "code",
   "execution_count": 17,
   "metadata": {},
   "outputs": [
    {
     "name": "stdout",
     "output_type": "stream",
     "text": [
      "Learning Python\n"
     ]
    }
   ],
   "source": [
    "string1 = \"Learning\"\n",
    "string2 = \"Python\"\n",
    "result = string1 + \" \" + string2                     # python understands the operands and behave accordingly\n",
    "print(result)"
   ]
  },
  {
   "cell_type": "code",
   "execution_count": 30,
   "metadata": {},
   "outputs": [
    {
     "name": "stdout",
     "output_type": "stream",
     "text": [
      "20100\n"
     ]
    }
   ],
   "source": [
    "num1 = 20\n",
    "string1 = '100'\n",
    "result = str(num1) + string1\n",
    "print(result)"
   ]
  },
  {
   "cell_type": "code",
   "execution_count": 28,
   "metadata": {},
   "outputs": [
    {
     "data": {
      "text/plain": [
       "False"
      ]
     },
     "execution_count": 28,
     "metadata": {},
     "output_type": "execute_result"
    }
   ],
   "source": [
    "var = 0\n",
    "bool(var)"
   ]
  },
  {
   "cell_type": "markdown",
   "metadata": {},
   "source": [
    "## Accepting input from user : input()\n",
    "Always returns a string object"
   ]
  },
  {
   "cell_type": "code",
   "execution_count": 31,
   "metadata": {},
   "outputs": [
    {
     "name": "stdout",
     "output_type": "stream",
     "text": [
      "what is your name?Pranali\n"
     ]
    },
    {
     "data": {
      "text/plain": [
       "'Pranali'"
      ]
     },
     "execution_count": 31,
     "metadata": {},
     "output_type": "execute_result"
    }
   ],
   "source": [
    "name = input('what is your name?')\n",
    "name"
   ]
  },
  {
   "cell_type": "code",
   "execution_count": 32,
   "metadata": {},
   "outputs": [
    {
     "name": "stdout",
     "output_type": "stream",
     "text": [
      "Enter marks : 67\n",
      "<class 'str'>\n",
      "67\n"
     ]
    }
   ],
   "source": [
    "marks = input(\"Enter marks : \")\n",
    "print(type(marks))\n",
    "print(marks)"
   ]
  },
  {
   "cell_type": "code",
   "execution_count": 35,
   "metadata": {},
   "outputs": [
    {
     "ename": "TypeError",
     "evalue": "unsupported operand type(s) for /: 'str' and 'int'",
     "output_type": "error",
     "traceback": [
      "\u001b[0;31m---------------------------------------------------------------------------\u001b[0m",
      "\u001b[0;31mTypeError\u001b[0m                                 Traceback (most recent call last)",
      "\u001b[0;32m<ipython-input-35-e7a479455551>\u001b[0m in \u001b[0;36m<module>\u001b[0;34m\u001b[0m\n\u001b[0;32m----> 1\u001b[0;31m \u001b[0mpercentage\u001b[0m \u001b[0;34m=\u001b[0m \u001b[0;34m(\u001b[0m\u001b[0mmarks\u001b[0m\u001b[0;34m/\u001b[0m\u001b[0;36m150\u001b[0m\u001b[0;34m)\u001b[0m\u001b[0;34m*\u001b[0m\u001b[0;36m100\u001b[0m\u001b[0;34m\u001b[0m\u001b[0m\n\u001b[0m\u001b[1;32m      2\u001b[0m \u001b[0mpercentage\u001b[0m\u001b[0;34m\u001b[0m\u001b[0m\n",
      "\u001b[0;31mTypeError\u001b[0m: unsupported operand type(s) for /: 'str' and 'int'"
     ]
    }
   ],
   "source": [
    "percentage = (marks/150)*100\n",
    "percentage"
   ]
  },
  {
   "cell_type": "markdown",
   "metadata": {},
   "source": [
    "### Exercise 1: Write a program to prompt the user for hours and rate per hour to compute gross pay."
   ]
  },
  {
   "cell_type": "code",
   "execution_count": 1,
   "metadata": {},
   "outputs": [
    {
     "name": "stdout",
     "output_type": "stream",
     "text": [
      "Enter number of hours 45\n",
      "Enter rate 12.5\n",
      "562.5\n"
     ]
    }
   ],
   "source": [
    "hours=int(input(\"Enter number of hours \"))\n",
    "rate=float(input(\"Enter rate \"))\n",
    "pay=hours*rate\n",
    "print(pay)"
   ]
  },
  {
   "cell_type": "markdown",
   "metadata": {},
   "source": [
    "## Conditional statements"
   ]
  },
  {
   "cell_type": "markdown",
   "metadata": {},
   "source": [
    "#### 1. Multiple if's"
   ]
  },
  {
   "cell_type": "code",
   "execution_count": 72,
   "metadata": {},
   "outputs": [
    {
     "name": "stdout",
     "output_type": "stream",
     "text": [
      "bigger\n",
      "done\n"
     ]
    }
   ],
   "source": [
    "x = 5\n",
    "if x < 10:\n",
    "    print('smaller')\n",
    "    print('First if block')\n",
    "if x > 10:\n",
    "    print('bigger')\n",
    "print('done')"
   ]
  },
  {
   "cell_type": "markdown",
   "metadata": {},
   "source": [
    "#### 2. Nested if's"
   ]
  },
  {
   "cell_type": "code",
   "execution_count": 3,
   "metadata": {},
   "outputs": [
    {
     "name": "stdout",
     "output_type": "stream",
     "text": [
      "more than one\n",
      "all done\n"
     ]
    }
   ],
   "source": [
    "x=150\n",
    "if x>1:\n",
    "    print('more than one')\n",
    "    if x<100:\n",
    "        print('less than 100')\n",
    "print('all done')"
   ]
  },
  {
   "cell_type": "markdown",
   "metadata": {},
   "source": [
    "#### 3. If else "
   ]
  },
  {
   "cell_type": "code",
   "execution_count": 74,
   "metadata": {},
   "outputs": [
    {
     "name": "stdout",
     "output_type": "stream",
     "text": [
      "Smaller\n",
      "all done\n"
     ]
    }
   ],
   "source": [
    "x=12\n",
    "if x>=2:\n",
    "    print('Bigger')\n",
    "else:\n",
    "    print('Smaller')\n",
    "print('all done')"
   ]
  },
  {
   "cell_type": "markdown",
   "metadata": {},
   "source": [
    "#### 4. Nested if... else ..."
   ]
  },
  {
   "cell_type": "code",
   "execution_count": 75,
   "metadata": {},
   "outputs": [
    {
     "name": "stdout",
     "output_type": "stream",
     "text": [
      "small\n",
      "all done\n"
     ]
    }
   ],
   "source": [
    "x = 80\n",
    "if x<2:\n",
    "    print('small')\n",
    "elif x<10:\n",
    "    print('medium')\n",
    "else:\n",
    "    print('large')\n",
    "print('all done')"
   ]
  },
  {
   "cell_type": "markdown",
   "metadata": {},
   "source": [
    "### Exercise 2: Rewrite your pay computation to give the employee 1.5 times the hourly rate for hours worked above 40 hours"
   ]
  },
  {
   "cell_type": "code",
   "execution_count": 4,
   "metadata": {},
   "outputs": [
    {
     "name": "stdout",
     "output_type": "stream",
     "text": [
      "Enter Hours45\n",
      "Enter Rates10\n",
      "475.0\n"
     ]
    }
   ],
   "source": [
    "hours=int(input(\"Enter Hours\"))\n",
    "rates=int(input(\"Enter Rates\"))\n",
    "extraHours=0\n",
    "if hours >40:\n",
    "    extraHours=hours-40\n",
    "    pay = extraHours*1.5*rates + 40*rates\n",
    "else: \n",
    "    pay= hours * rate  \n",
    "print(pay)"
   ]
  },
  {
   "cell_type": "markdown",
   "metadata": {},
   "source": [
    "## Exception Handling : try and except structure\n",
    "A critical operation which can raise exception is placed inside the try clause and the code that handles exception is written in except clause."
   ]
  },
  {
   "cell_type": "code",
   "execution_count": 6,
   "metadata": {},
   "outputs": [
    {
     "ename": "ValueError",
     "evalue": "invalid literal for int() with base 10: 'Hello World'",
     "output_type": "error",
     "traceback": [
      "\u001b[0;31m---------------------------------------------------------------------------\u001b[0m",
      "\u001b[0;31mValueError\u001b[0m                                Traceback (most recent call last)",
      "\u001b[0;32m<ipython-input-6-034a66910d49>\u001b[0m in \u001b[0;36m<module>\u001b[0;34m\u001b[0m\n\u001b[1;32m      1\u001b[0m \u001b[0mastr\u001b[0m \u001b[0;34m=\u001b[0m \u001b[0;34m\"Hello World\"\u001b[0m\u001b[0;34m\u001b[0m\u001b[0m\n\u001b[0;32m----> 2\u001b[0;31m \u001b[0mistr\u001b[0m \u001b[0;34m=\u001b[0m \u001b[0mint\u001b[0m\u001b[0;34m(\u001b[0m\u001b[0mastr\u001b[0m\u001b[0;34m)\u001b[0m\u001b[0;34m\u001b[0m\u001b[0m\n\u001b[0m\u001b[1;32m      3\u001b[0m \u001b[0mprint\u001b[0m\u001b[0;34m(\u001b[0m\u001b[0;34m'First'\u001b[0m\u001b[0;34m,\u001b[0m \u001b[0mistr\u001b[0m\u001b[0;34m)\u001b[0m\u001b[0;34m\u001b[0m\u001b[0m\n",
      "\u001b[0;31mValueError\u001b[0m: invalid literal for int() with base 10: 'Hello World'"
     ]
    }
   ],
   "source": [
    "astr = \"Hello World\" \n",
    "istr = int(astr)\n",
    "print('First', istr)"
   ]
  },
  {
   "cell_type": "code",
   "execution_count": 5,
   "metadata": {},
   "outputs": [
    {
     "name": "stdout",
     "output_type": "stream",
     "text": [
      "Second 123\n"
     ]
    }
   ],
   "source": [
    "astr = '123'\n",
    "istr = int(astr)\n",
    "print('Second', istr)"
   ]
  },
  {
   "cell_type": "code",
   "execution_count": 8,
   "metadata": {},
   "outputs": [
    {
     "name": "stdout",
     "output_type": "stream",
     "text": [
      "Enter a number:four\n",
      "Not a number\n"
     ]
    }
   ],
   "source": [
    "astr = input(\"Enter a number:\")\n",
    "try:\n",
    "    ival=int(astr)\n",
    "    print('Number entered is: ', ival)\n",
    "except:\n",
    "    print('Not a number')\n"
   ]
  },
  {
   "cell_type": "markdown",
   "metadata": {},
   "source": [
    "### Excercise 3: Rewrite the pay computation code to handle non numeric input values"
   ]
  },
  {
   "cell_type": "code",
   "execution_count": 11,
   "metadata": {},
   "outputs": [
    {
     "name": "stdout",
     "output_type": "stream",
     "text": [
      "enter hours50\n",
      "enter rateten\n",
      "enter a numeric value for rate\n",
      "0.0\n"
     ]
    }
   ],
   "source": [
    "hours = 0\n",
    "rate = 0\n",
    "try:\n",
    "    hours = float(input('enter hours'))\n",
    "except:\n",
    "    print('enter a numeric value for hours')\n",
    "try:\n",
    "    rate = float(input(\"enter rate\"))\n",
    "except:\n",
    "    print('enter a numeric value for rate')\n",
    "if hours > 40:\n",
    "    pay = 40 * rate + (hours-40)*1.5*rate\n",
    "else:    \n",
    "    pay=hours * rate\n",
    "print(pay)"
   ]
  },
  {
   "cell_type": "markdown",
   "metadata": {},
   "source": [
    "### Assignment 1: Write a program to prompt for a score between 0.0 and 1.0. If the score is out of range, print an error. If the score is between 0.0 and 1.0, print a grade using the following table:\n",
    "Score Grade\n",
    "#### >= 0.9 A\n",
    "#### >= 0.8 B\n",
    "#### >= 0.7 C\n",
    "#### >= 0.6 D\n",
    "#### < 0.6 F If the user enters a value out of range, print a suitable error message and exit. For the test, enter a score of 0.85.\""
   ]
  },
  {
   "cell_type": "code",
   "execution_count": 87,
   "metadata": {},
   "outputs": [
    {
     "name": "stdout",
     "output_type": "stream",
     "text": [
      "Enter the score between 0.0 and 1.00.8\n",
      "Score is in the range\n",
      "Grade is B\n"
     ]
    }
   ],
   "source": [
    "score = float(input(\"Enter the score between 0.0 and 1.0\"))\n",
    "if score>=0.0 and score <=1.0:\n",
    "    print(\"Score is in the range\")\n",
    "    if score < 0.6:\n",
    "        grade = \"F\"\n",
    "    elif score >=0.6 and score < 0.7:\n",
    "        grade = \"D\"\n",
    "    elif score >=0.7 and score<0.8:\n",
    "        grade = \"C\"\n",
    "    elif score >=0.8 and score<0.9:\n",
    "        grade = \"B\"\n",
    "    elif score >=0.9 and score <1.0:\n",
    "        grade = \"A\"\n",
    "    print(\"Grade is\", grade)\n",
    "else:\n",
    "    print(\"Score is out of range\")"
   ]
  },
  {
   "cell_type": "code",
   "execution_count": 93,
   "metadata": {},
   "outputs": [
    {
     "name": "stdout",
     "output_type": "stream",
     "text": [
      "Prompt a score between 0.0 and 1.00.4\n",
      "Score is in range\n",
      "Grade is F\n"
     ]
    }
   ],
   "source": [
    "try:\n",
    "    score=float(input('Prompt a score between 0.0 and 1.0'))\n",
    "    if (score < 0.0 or score > 1.0):\n",
    "        print(\"Score not in range\")\n",
    "    else:\n",
    "        print(\"Score is in range\")\n",
    "    if score < 0.6:\n",
    "        grade = \"F\"\n",
    "    elif score >=0.6 and score < 0.7:\n",
    "        grade = \"D\"\n",
    "    elif score >=0.7 and score<0.8:\n",
    "        grade = \"C\"\n",
    "    elif score >=0.8 and score<0.9:\n",
    "        grade = \"B\"\n",
    "    elif score >=0.9 and score <1.0:\n",
    "        grade = \"A\"\n",
    "    print(\"Grade is\", grade)\n",
    "except:\n",
    "    print(\"Enter numeric value for score\")\n",
    "\n"
   ]
  },
  {
   "cell_type": "markdown",
   "metadata": {},
   "source": [
    "## Iterative Statements"
   ]
  },
  {
   "cell_type": "markdown",
   "metadata": {},
   "source": [
    "### 1. While Loop"
   ]
  },
  {
   "cell_type": "code",
   "execution_count": 12,
   "metadata": {},
   "outputs": [
    {
     "name": "stdout",
     "output_type": "stream",
     "text": [
      "5\n",
      "4\n",
      "3\n",
      "2\n",
      "1\n",
      "Blastoff!\n",
      "0\n"
     ]
    }
   ],
   "source": [
    "n = 5\n",
    "while n > 0 :\n",
    "    print(n)\n",
    "    n = n - 1 \n",
    "print('Blastoff!')\n",
    "print(n)"
   ]
  },
  {
   "cell_type": "markdown",
   "metadata": {},
   "source": [
    "#### Observe the following while loops and state the output"
   ]
  },
  {
   "cell_type": "code",
   "execution_count": null,
   "metadata": {},
   "outputs": [],
   "source": [
    "n = 0\n",
    "while n > 0 :\n",
    "    print('Lather')\n",
    "    print('Rinse')\n",
    "print('Dry off!')"
   ]
  },
  {
   "cell_type": "code",
   "execution_count": null,
   "metadata": {},
   "outputs": [],
   "source": [
    "n = 5\n",
    "while n > 0 :\n",
    "    print('Lather')\n",
    "    print('Rinse')\n",
    "print('Dry off!')"
   ]
  },
  {
   "cell_type": "markdown",
   "metadata": {},
   "source": [
    "### break and continue statements"
   ]
  },
  {
   "cell_type": "code",
   "execution_count": 13,
   "metadata": {},
   "outputs": [
    {
     "name": "stdout",
     "output_type": "stream",
     "text": [
      "> hello\n",
      "hello\n",
      "> pranali\n",
      "pranali\n",
      "> done\n",
      "All Done!\n"
     ]
    }
   ],
   "source": [
    "while True:\n",
    "    line = input('> ')\n",
    "    if line == 'done' :\n",
    "        break               # Terminates the loop statement and transfers execution to the statement immediately following the loop.\n",
    "    print(line)\n",
    "print('All Done!')"
   ]
  },
  {
   "cell_type": "code",
   "execution_count": 14,
   "metadata": {},
   "outputs": [
    {
     "name": "stdout",
     "output_type": "stream",
     "text": [
      "Enter some value Pranali\n",
      "Pranali\n",
      "Enter some value #hello\n",
      "Enter some value done\n",
      "Done!\n"
     ]
    }
   ],
   "source": [
    "while True:\n",
    "    line = input('Enter some value ')\n",
    "    if line[0] == '#':\n",
    "        continue             # Skips the current iteration and immediately start the next iteration\n",
    "    if line == 'done' :\n",
    "        break\n",
    "    print(line)\n",
    "print('Done!')"
   ]
  },
  {
   "cell_type": "markdown",
   "metadata": {},
   "source": [
    "### 2. For Loop"
   ]
  },
  {
   "cell_type": "code",
   "execution_count": 15,
   "metadata": {},
   "outputs": [
    {
     "name": "stdout",
     "output_type": "stream",
     "text": [
      "5\n",
      "4\n",
      "3\n",
      "2\n",
      "1\n",
      "Blast Off\n"
     ]
    }
   ],
   "source": [
    "for i in [5,4,3,2,1]:\n",
    "    print(i)\n",
    "print(\"Blast Off\")"
   ]
  },
  {
   "cell_type": "markdown",
   "metadata": {},
   "source": [
    "### Excercise 4: Find the maximum element out of the list given as: [3,41,12,74,15,42,98] "
   ]
  },
  {
   "cell_type": "code",
   "execution_count": 16,
   "metadata": {},
   "outputs": [
    {
     "name": "stdout",
     "output_type": "stream",
     "text": [
      "98\n"
     ]
    }
   ],
   "source": [
    "largest = 0\n",
    "num_list = [3,41,12,74,15,42,98]\n",
    "for i in num_list:\n",
    "    if i > largest:\n",
    "        largest = i\n",
    "print(largest)"
   ]
  },
  {
   "cell_type": "markdown",
   "metadata": {},
   "source": [
    "### Assignment 2: For the list [3,41,12,74,15,42,98]. Find the number of elements, sum of all the elements and average of all the elements in the list."
   ]
  },
  {
   "cell_type": "code",
   "execution_count": 117,
   "metadata": {},
   "outputs": [
    {
     "name": "stdout",
     "output_type": "stream",
     "text": [
      "Total no. of elements are  7\n",
      "sum of the numbers is  285\n",
      "Average is  40.714285714285715\n"
     ]
    }
   ],
   "source": [
    "count = 0\n",
    "total = 0\n",
    "avg = 0\n",
    "num_list = [3,41,12,74,15,42,98]\n",
    "for i in num_list:\n",
    "    count = count + 1\n",
    "    total = total + i\n",
    "avg = total/count\n",
    "print(\"Total no. of elements are \", count)\n",
    "print(\"sum of the numbers is \", total)\n",
    "print(\"Average is \", avg)"
   ]
  },
  {
   "cell_type": "code",
   "execution_count": null,
   "metadata": {},
   "outputs": [],
   "source": []
  }
 ],
 "metadata": {
  "kernelspec": {
   "display_name": "Python 3",
   "language": "python",
   "name": "python3"
  },
  "language_info": {
   "codemirror_mode": {
    "name": "ipython",
    "version": 3
   },
   "file_extension": ".py",
   "mimetype": "text/x-python",
   "name": "python",
   "nbconvert_exporter": "python",
   "pygments_lexer": "ipython3",
   "version": "3.7.6"
  }
 },
 "nbformat": 4,
 "nbformat_minor": 2
}
