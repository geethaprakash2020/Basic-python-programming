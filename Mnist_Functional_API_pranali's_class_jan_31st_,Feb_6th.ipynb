{
  "nbformat": 4,
  "nbformat_minor": 0,
  "metadata": {
    "colab": {
      "name": "Mnist Functional API pranali's class jan 31st ,Feb 6th ",
      "provenance": [],
      "authorship_tag": "ABX9TyPUHj27ilB5hqR5iGpWmRQQ",
      "include_colab_link": true
    },
    "kernelspec": {
      "name": "python3",
      "display_name": "Python 3"
    }
  },
  "cells": [
    {
      "cell_type": "markdown",
      "metadata": {
        "id": "view-in-github",
        "colab_type": "text"
      },
      "source": [
        "<a href=\"https://colab.research.google.com/github/geethaprakash2020/Basic-python-programming/blob/master/Mnist_Functional_API_pranali's_class_jan_31st_%2CFeb_6th.ipynb\" target=\"_parent\"><img src=\"https://colab.research.google.com/assets/colab-badge.svg\" alt=\"Open In Colab\"/></a>"
      ]
    },
    {
      "cell_type": "markdown",
      "metadata": {
        "id": "-ijSNJRVMDU2"
      },
      "source": [
        "MNIST Case Study\r\n",
        "\r\n",
        "The MNIST problem is a dataset developed by Yann LeCun, Corinna Cortes and Christopher Burges for evaluating machine learning models on the handwritten digit classification problem.\r\n",
        "\r\n",
        "The dataset was constructed from a number of scanned document dataset available from the National Institute of Standards and Technology (NIST). This is where the name for the dataset comes from, as the Modified NIST or MNIST dataset.\r\n",
        "\r\n",
        "Images of digits were taken from a variety of scanned documents, normalized in size and centered. This makes it an excellent dataset for evaluating models, allowing the developer to focus on the machine learning with very little data cleaning or preparation required.\r\n",
        "\r\n",
        "Each image is a 28 by 28 pixel square (784 pixels total). A standard split of the dataset is used to evaluate and compare models, where 60,000 images are used to train a model and a separate set of 10,000 images are used to test it.\r\n",
        "\r\n",
        "It is a digit recognition task. As such there are 10 digits (0 to 9) or 10 classes to predict. Results are reported using prediction error, which is nothing more than the inverted classification accuracy."
      ]
    },
    {
      "cell_type": "code",
      "metadata": {
        "id": "jLxl-FB-HAa8"
      },
      "source": [
        "%tensorflow_version 2.x\r\n",
        "from tensorflow import keras"
      ],
      "execution_count": null,
      "outputs": []
    },
    {
      "cell_type": "code",
      "metadata": {
        "id": "hDsKc2JWKyu7"
      },
      "source": [
        "import tensorflow as tf"
      ],
      "execution_count": null,
      "outputs": []
    },
    {
      "cell_type": "markdown",
      "metadata": {
        "id": "pUq0jKSIUEiv"
      },
      "source": [
        "<p><h3><b><font color = 'DarkBlue'> Loading the MNIST dataset in Keras </font></b></h3></p>\r\n",
        "\r\n",
        "The MNIST dataset comes preloaded in Keras, in the form of a set of four Numpy\r\n",
        "arrays."
      ]
    },
    {
      "cell_type": "code",
      "metadata": {
        "id": "PsjSxPl7KyyJ",
        "colab": {
          "base_uri": "https://localhost:8080/"
        },
        "outputId": "3d6d5fef-47e5-4857-f767-5f472c3e3cf4"
      },
      "source": [
        "from keras.datasets import mnist\r\n",
        "train_images.shape"
      ],
      "execution_count": null,
      "outputs": [
        {
          "output_type": "execute_result",
          "data": {
            "text/plain": [
              "(60000, 784)"
            ]
          },
          "metadata": {
            "tags": []
          },
          "execution_count": 51
        }
      ]
    },
    {
      "cell_type": "code",
      "metadata": {
        "colab": {
          "base_uri": "https://localhost:8080/"
        },
        "id": "E3cPgRSm21Mg",
        "outputId": "c95b0e76-0fd1-4e59-f4de-d16269a3c388"
      },
      "source": [
        "train_labels.shape"
      ],
      "execution_count": null,
      "outputs": [
        {
          "output_type": "execute_result",
          "data": {
            "text/plain": [
              "(60000, 10)"
            ]
          },
          "metadata": {
            "tags": []
          },
          "execution_count": 52
        }
      ]
    },
    {
      "cell_type": "code",
      "metadata": {
        "colab": {
          "base_uri": "https://localhost:8080/"
        },
        "id": "1Htrc8-V288B",
        "outputId": "223b1f12-656c-42f3-b9b9-9b4d37f3f5b8"
      },
      "source": [
        "test_images.shape"
      ],
      "execution_count": null,
      "outputs": [
        {
          "output_type": "execute_result",
          "data": {
            "text/plain": [
              "(10000, 784)"
            ]
          },
          "metadata": {
            "tags": []
          },
          "execution_count": 53
        }
      ]
    },
    {
      "cell_type": "code",
      "metadata": {
        "colab": {
          "base_uri": "https://localhost:8080/"
        },
        "id": "e5JnnnAP29SG",
        "outputId": "775dcd5d-9ab3-4dde-aa17-ba7a085fc296"
      },
      "source": [
        "test_labels.shape"
      ],
      "execution_count": null,
      "outputs": [
        {
          "output_type": "execute_result",
          "data": {
            "text/plain": [
              "(10000, 10)"
            ]
          },
          "metadata": {
            "tags": []
          },
          "execution_count": 54
        }
      ]
    },
    {
      "cell_type": "code",
      "metadata": {
        "id": "gC04CDAAKy0_"
      },
      "source": [
        "(train_images,train_labels),(test_images,test_labels)=mnist.load_data()  # similar xtrain, ytrain"
      ],
      "execution_count": null,
      "outputs": []
    },
    {
      "cell_type": "code",
      "metadata": {
        "id": "wFRJPrpSKy3u"
      },
      "source": [
        "train_images = train_images.reshape((60000, 28 * 28))\r\n",
        "train_images = train_images.astype('float32') / 255\r\n",
        "test_images = test_images.reshape((10000, 28 * 28)) \r\n",
        "test_images = test_images.astype('float32') / 255\r\n"
      ],
      "execution_count": null,
      "outputs": []
    },
    {
      "cell_type": "code",
      "metadata": {
        "id": "Yb8T86NcKy6v"
      },
      "source": [
        "from keras.utils import to_categorical\r\n",
        "train_labels = to_categorical(train_labels)\r\n",
        "test_labels = to_categorical(test_labels)\r\n"
      ],
      "execution_count": null,
      "outputs": []
    },
    {
      "cell_type": "code",
      "metadata": {
        "id": "35jQMtfoLbE9"
      },
      "source": [
        "from keras.layers import Input\r\n",
        "from keras.layers import Dense"
      ],
      "execution_count": null,
      "outputs": []
    },
    {
      "cell_type": "code",
      "metadata": {
        "id": "cWFj5ogQLbIO"
      },
      "source": [
        "inp = keras.layers.Input(shape=(784,))\r\n",
        "hidden1 = keras.layers.Dense(30, activation='relu')(inp)\r\n",
        "hidden2 = keras.layers.Dense(20, activation='relu')(hidden1)\r\n",
        "out = keras.layers.Dense(10, activation='softmax')(hidden2)\r\n",
        "model_fapi = keras.models.Model(inputs=inp, outputs=out)"
      ],
      "execution_count": null,
      "outputs": []
    },
    {
      "cell_type": "markdown",
      "metadata": {
        "id": "hD62zFa8L7Xj"
      },
      "source": [
        ""
      ]
    },
    {
      "cell_type": "code",
      "metadata": {
        "colab": {
          "base_uri": "https://localhost:8080/"
        },
        "id": "FRAjGLDoLbOM",
        "outputId": "7e879b34-40e7-4196-c0dd-891725dfc416"
      },
      "source": [
        "model_fapi.summary()"
      ],
      "execution_count": null,
      "outputs": [
        {
          "output_type": "stream",
          "text": [
            "Model: \"model\"\n",
            "_________________________________________________________________\n",
            "Layer (type)                 Output Shape              Param #   \n",
            "=================================================================\n",
            "input_1 (InputLayer)         [(None, 784)]             0         \n",
            "_________________________________________________________________\n",
            "dense (Dense)                (None, 30)                23550     \n",
            "_________________________________________________________________\n",
            "dense_1 (Dense)              (None, 20)                620       \n",
            "_________________________________________________________________\n",
            "dense_2 (Dense)              (None, 10)                210       \n",
            "=================================================================\n",
            "Total params: 24,380\n",
            "Trainable params: 24,380\n",
            "Non-trainable params: 0\n",
            "_________________________________________________________________\n"
          ],
          "name": "stdout"
        }
      ]
    },
    {
      "cell_type": "code",
      "metadata": {
        "id": "xaww3R99LbSS"
      },
      "source": [
        "model_fapi.compile(optimizer='sgd',\r\n",
        "loss='categorical_crossentropy',\r\n",
        "metrics=['accuracy'])"
      ],
      "execution_count": null,
      "outputs": []
    },
    {
      "cell_type": "code",
      "metadata": {
        "colab": {
          "base_uri": "https://localhost:8080/"
        },
        "id": "lYRR5nnMLbVp",
        "outputId": "ad3fccdd-a844-4ad8-f253-6dce4cff10b3"
      },
      "source": [
        "model_fapi.fit(train_images, train_labels, epochs=10, batch_size=512)"
      ],
      "execution_count": null,
      "outputs": [
        {
          "output_type": "stream",
          "text": [
            "Epoch 1/10\n",
            "118/118 [==============================] - 1s 5ms/step - loss: 2.2166 - accuracy: 0.2270\n",
            "Epoch 2/10\n",
            "118/118 [==============================] - 1s 5ms/step - loss: 1.8594 - accuracy: 0.5074\n",
            "Epoch 3/10\n",
            "118/118 [==============================] - 1s 5ms/step - loss: 1.4444 - accuracy: 0.6383\n",
            "Epoch 4/10\n",
            "118/118 [==============================] - 1s 6ms/step - loss: 1.1145 - accuracy: 0.7243\n",
            "Epoch 5/10\n",
            "118/118 [==============================] - 1s 6ms/step - loss: 0.8894 - accuracy: 0.7818\n",
            "Epoch 6/10\n",
            "118/118 [==============================] - 1s 6ms/step - loss: 0.7407 - accuracy: 0.8140\n",
            "Epoch 7/10\n",
            "118/118 [==============================] - 1s 5ms/step - loss: 0.6485 - accuracy: 0.8313\n",
            "Epoch 8/10\n",
            "118/118 [==============================] - 1s 5ms/step - loss: 0.5799 - accuracy: 0.8484\n",
            "Epoch 9/10\n",
            "118/118 [==============================] - 1s 5ms/step - loss: 0.5291 - accuracy: 0.8595\n",
            "Epoch 10/10\n",
            "118/118 [==============================] - 1s 6ms/step - loss: 0.4952 - accuracy: 0.8671\n"
          ],
          "name": "stdout"
        },
        {
          "output_type": "execute_result",
          "data": {
            "text/plain": [
              "<tensorflow.python.keras.callbacks.History at 0x7fee50d13cf8>"
            ]
          },
          "metadata": {
            "tags": []
          },
          "execution_count": 21
        }
      ]
    },
    {
      "cell_type": "code",
      "metadata": {
        "colab": {
          "base_uri": "https://localhost:8080/"
        },
        "id": "xX_vHXtDLbgS",
        "outputId": "2ab79b8a-9657-4f3b-e14c-63963deb716d"
      },
      "source": [
        "y_pred_fapi = model_fapi.predict(test_images)    # predict() estimates one probablity per class from 0 to 9 \r\n",
        "y_pred_fapi"
      ],
      "execution_count": null,
      "outputs": [
        {
          "output_type": "execute_result",
          "data": {
            "text/plain": [
              "array([[1.59082629e-04, 9.93646448e-04, 9.38768731e-04, ...,\n",
              "        9.78264332e-01, 8.60578264e-04, 1.35410950e-02],\n",
              "       [3.03227484e-01, 3.53738578e-04, 4.86937344e-01, ...,\n",
              "        9.13946569e-05, 2.49445196e-02, 7.55512097e-04],\n",
              "       [5.01331117e-04, 8.96130919e-01, 2.11619232e-02, ...,\n",
              "        2.48763859e-02, 1.79535132e-02, 6.87738042e-03],\n",
              "       ...,\n",
              "       [1.01046953e-05, 1.80356641e-04, 4.56281658e-03, ...,\n",
              "        8.05079751e-03, 1.58216096e-02, 1.20846994e-01],\n",
              "       [1.91781037e-02, 1.40202255e-03, 4.60386230e-03, ...,\n",
              "        2.30046418e-02, 2.45432228e-01, 9.56142414e-03],\n",
              "       [2.52629444e-03, 3.77035203e-09, 3.36684898e-04, ...,\n",
              "        6.89708202e-08, 9.95813571e-06, 8.01205147e-07]], dtype=float32)"
            ]
          },
          "metadata": {
            "tags": []
          },
          "execution_count": 22
        }
      ]
    },
    {
      "cell_type": "code",
      "metadata": {
        "colab": {
          "base_uri": "https://localhost:8080/"
        },
        "id": "iwqcT9zrQCeo",
        "outputId": "ac92d14d-f99c-4003-fc16-bfe12b1a61b1"
      },
      "source": [
        "test_loss_fapi,test_acc_fapi=model_fapi.evaluate(test_images,test_labels)"
      ],
      "execution_count": null,
      "outputs": [
        {
          "output_type": "stream",
          "text": [
            "313/313 [==============================] - 1s 1ms/step - loss: 0.4495 - accuracy: 0.8755\n"
          ],
          "name": "stdout"
        }
      ]
    },
    {
      "cell_type": "code",
      "metadata": {
        "colab": {
          "base_uri": "https://localhost:8080/"
        },
        "id": "o4ViIdsCR7a9",
        "outputId": "74ddb9e0-7cd3-4a4f-e902-0cda6da6230d"
      },
      "source": [
        "print(test_loss_fapi)\r\n",
        "print(test_acc_fapi)"
      ],
      "execution_count": null,
      "outputs": [
        {
          "output_type": "stream",
          "text": [
            "0.44953614473342896\n",
            "0.8755000233650208\n"
          ],
          "name": "stdout"
        }
      ]
    },
    {
      "cell_type": "code",
      "metadata": {
        "id": "ljyUMG3CLbjc"
      },
      "source": [
        "import numpy as np"
      ],
      "execution_count": null,
      "outputs": []
    },
    {
      "cell_type": "code",
      "metadata": {
        "id": "m__5j0QkLbm0",
        "colab": {
          "base_uri": "https://localhost:8080/"
        },
        "outputId": "2a943253-407b-43dd-ca91-5b9d5c38d974"
      },
      "source": [
        "#np.where((y_pred_fapi == max(y_pred_fapi[:,:])),1,0)\r\n",
        "y_pred_class = []\r\n",
        "len(y_pred_fapi)\r\n",
        "for i in np.arange(len(y_pred_fapi)):\r\n",
        "  for j in np.arange(0,10):\r\n",
        "    if(y_pred_fapi[i,j] == max(y_pred_fapi[i,:])):\r\n",
        "      y_pred_class.append(j)\r\n",
        "\r\n",
        "y_pred_class = np.array(y_pred_class)\r\n",
        "y_pred_class"
      ],
      "execution_count": null,
      "outputs": [
        {
          "output_type": "execute_result",
          "data": {
            "text/plain": [
              "array([7, 2, 1, ..., 4, 5, 6])"
            ]
          },
          "metadata": {
            "tags": []
          },
          "execution_count": 26
        }
      ]
    },
    {
      "cell_type": "code",
      "metadata": {
        "id": "Gw_e2sQpRW4w",
        "colab": {
          "base_uri": "https://localhost:8080/"
        },
        "outputId": "36f5d5f6-2ff4-43b4-81de-672700d3f5be"
      },
      "source": [
        "test_loss_fapi, test_acc_fapi = model_fapi.evaluate(test_images, test_labels)"
      ],
      "execution_count": null,
      "outputs": [
        {
          "output_type": "stream",
          "text": [
            "313/313 [==============================] - 0s 1ms/step - loss: 0.4495 - accuracy: 0.8755\n"
          ],
          "name": "stdout"
        }
      ]
    },
    {
      "cell_type": "code",
      "metadata": {
        "id": "5yUJ0BG1RW8d",
        "colab": {
          "base_uri": "https://localhost:8080/"
        },
        "outputId": "5823f1ca-8e13-4675-fb57-2793ed8cfc79"
      },
      "source": [
        "print(test_loss_fapi)\r\n",
        "print(test_acc_fapi)"
      ],
      "execution_count": null,
      "outputs": [
        {
          "output_type": "stream",
          "text": [
            "0.44953614473342896\n",
            "0.8755000233650208\n"
          ],
          "name": "stdout"
        }
      ]
    },
    {
      "cell_type": "markdown",
      "metadata": {
        "id": "1t_vm5qvRk7O"
      },
      "source": [
        "<p><h3><b><font color='DarkBlue'> Building Complex Model using Functional API </font></b></h3></p>\r\n",
        "\r\n",
        "We can build a complex model using functional API by following steps: \r\n",
        "\r\n",
        "1. We are creating a model with a input layer that accepts the input of 784. \r\n",
        "\r\n",
        "2. Next, we added a dense layer with 30 neurons with 'relu' activation function and connect it to input layer. \r\n",
        "\r\n",
        "3. similarly, another dense layer with 30 neurons with 'relu' activation function is added which is connected to the first hidden layer (hidden1).\r\n",
        "\r\n",
        "4. Next, we create a Concatenate() layer, and once again we immediately use it like a function, to concatenate the input and the output of the second hidden layer. \r\n",
        "\r\n",
        "5. Lastly, we have added an output dense layer with 10 neurons and a 'softmax' activation function. The input to this layer is the result of the concatenation layer. \r\n",
        "\r\n",
        "6. Finally, we create a model with the above created layers required for computation. \r\n",
        "\r\n",
        "Once you have built the Keras model, everything is exactly like earlier, i.e: compile the model, train it, evaluate it and use it to make predictions.\r\n",
        "\r\n",
        "<img src = \"https://dim-mlp-images.s3.amazonaws.com/Deep+Learning/MINST/wide+and+deep+network.png\" width =600 height =600> "
      ]
    },
    {
      "cell_type": "code",
      "metadata": {
        "id": "yc51orG8RW_i"
      },
      "source": [
        "inp1 = keras.layers.Input(shape=(784))\r\n",
        "hidden1 = keras.layers.Dense(30, activation=\"relu\")(inp1)\r\n",
        "hidden2 = keras.layers.Dense(30, activation=\"relu\")(hidden1)\r\n",
        "concat = keras.layers.Concatenate()([inp1, hidden2])\r\n",
        "out = keras.layers.Dense(10, activation=\"softmax\" )(concat)\r\n",
        "model_wide_deep = keras.models.Model(inputs=[inp1], outputs=[out])"
      ],
      "execution_count": null,
      "outputs": []
    },
    {
      "cell_type": "code",
      "metadata": {
        "colab": {
          "base_uri": "https://localhost:8080/"
        },
        "id": "I-37b--iRXCj",
        "outputId": "91c8b1ae-0417-4a4e-9ad6-71e230cb9d32"
      },
      "source": [
        "model_wide_deep.summary()"
      ],
      "execution_count": null,
      "outputs": [
        {
          "output_type": "stream",
          "text": [
            "Model: \"model_1\"\n",
            "__________________________________________________________________________________________________\n",
            "Layer (type)                    Output Shape         Param #     Connected to                     \n",
            "==================================================================================================\n",
            "input_2 (InputLayer)            [(None, 784)]        0                                            \n",
            "__________________________________________________________________________________________________\n",
            "dense_3 (Dense)                 (None, 30)           23550       input_2[0][0]                    \n",
            "__________________________________________________________________________________________________\n",
            "dense_4 (Dense)                 (None, 30)           930         dense_3[0][0]                    \n",
            "__________________________________________________________________________________________________\n",
            "concatenate (Concatenate)       (None, 814)          0           input_2[0][0]                    \n",
            "                                                                 dense_4[0][0]                    \n",
            "__________________________________________________________________________________________________\n",
            "dense_5 (Dense)                 (None, 10)           8150        concatenate[0][0]                \n",
            "==================================================================================================\n",
            "Total params: 32,630\n",
            "Trainable params: 32,630\n",
            "Non-trainable params: 0\n",
            "__________________________________________________________________________________________________\n"
          ],
          "name": "stdout"
        }
      ]
    },
    {
      "cell_type": "code",
      "metadata": {
        "id": "0fNtFKwrRXFz"
      },
      "source": [
        "model_wide_deep.compile(optimizer='sgd',\r\n",
        "loss='categorical_crossentropy',\r\n",
        "metrics=['accuracy'])"
      ],
      "execution_count": null,
      "outputs": []
    },
    {
      "cell_type": "code",
      "metadata": {
        "colab": {
          "base_uri": "https://localhost:8080/"
        },
        "id": "tDFOqQ3BRXJe",
        "outputId": "44653804-04cd-4951-a069-199983253b5c"
      },
      "source": [
        "model_wide_deep.fit(train_images, train_labels, epochs=10, batch_size=512)"
      ],
      "execution_count": null,
      "outputs": [
        {
          "output_type": "stream",
          "text": [
            "Epoch 1/10\n",
            "118/118 [==============================] - 1s 9ms/step - loss: 2.0600 - accuracy: 0.3002\n",
            "Epoch 2/10\n",
            "118/118 [==============================] - 1s 9ms/step - loss: 1.3705 - accuracy: 0.7292\n",
            "Epoch 3/10\n",
            "118/118 [==============================] - 1s 9ms/step - loss: 1.0625 - accuracy: 0.7965\n",
            "Epoch 4/10\n",
            "118/118 [==============================] - 1s 9ms/step - loss: 0.8904 - accuracy: 0.8219\n",
            "Epoch 5/10\n",
            "118/118 [==============================] - 1s 9ms/step - loss: 0.7913 - accuracy: 0.8366\n",
            "Epoch 6/10\n",
            "118/118 [==============================] - 1s 9ms/step - loss: 0.7259 - accuracy: 0.8448\n",
            "Epoch 7/10\n",
            "118/118 [==============================] - 1s 9ms/step - loss: 0.6778 - accuracy: 0.8484\n",
            "Epoch 8/10\n",
            "118/118 [==============================] - 1s 9ms/step - loss: 0.6374 - accuracy: 0.8545\n",
            "Epoch 9/10\n",
            "118/118 [==============================] - 1s 9ms/step - loss: 0.6008 - accuracy: 0.8616\n",
            "Epoch 10/10\n",
            "118/118 [==============================] - 1s 8ms/step - loss: 0.5829 - accuracy: 0.8629\n"
          ],
          "name": "stdout"
        },
        {
          "output_type": "execute_result",
          "data": {
            "text/plain": [
              "<tensorflow.python.keras.callbacks.History at 0x7fee49d9a7b8>"
            ]
          },
          "metadata": {
            "tags": []
          },
          "execution_count": 32
        }
      ]
    },
    {
      "cell_type": "code",
      "metadata": {
        "id": "wLLf5wjtTS8l"
      },
      "source": [
        "y_pred_wide = model_wide_deep.predict(test_images)"
      ],
      "execution_count": null,
      "outputs": []
    },
    {
      "cell_type": "code",
      "metadata": {
        "colab": {
          "base_uri": "https://localhost:8080/"
        },
        "id": "0GkrmHhATTDu",
        "outputId": "694f08d4-b2e4-4d73-ae87-b6e6e18c2ffb"
      },
      "source": [
        "y_pred_wide"
      ],
      "execution_count": null,
      "outputs": [
        {
          "output_type": "execute_result",
          "data": {
            "text/plain": [
              "array([[3.3768064e-03, 2.5849006e-04, 1.8203732e-03, ..., 9.4685423e-01,\n",
              "        4.0353942e-03, 2.9829031e-02],\n",
              "       [5.6845412e-02, 1.1653397e-02, 4.7812656e-01, ..., 1.0555715e-03,\n",
              "        4.3162048e-02, 1.7486599e-03],\n",
              "       [4.8161591e-03, 8.3382791e-01, 3.5679597e-02, ..., 1.2886577e-02,\n",
              "        3.2653153e-02, 1.2441701e-02],\n",
              "       ...,\n",
              "       [6.5504911e-04, 2.0471399e-03, 4.1883597e-03, ..., 4.7358766e-02,\n",
              "        6.9897465e-02, 2.1059422e-01],\n",
              "       [4.5208272e-02, 8.9475274e-02, 3.4973253e-02, ..., 4.7868125e-02,\n",
              "        2.3747274e-01, 2.2899058e-02],\n",
              "       [8.7170787e-03, 1.5722946e-05, 1.3985924e-02, ..., 9.1124690e-05,\n",
              "        4.2021222e-04, 3.1383726e-04]], dtype=float32)"
            ]
          },
          "metadata": {
            "tags": []
          },
          "execution_count": 34
        }
      ]
    },
    {
      "cell_type": "code",
      "metadata": {
        "colab": {
          "base_uri": "https://localhost:8080/"
        },
        "id": "XBT9o4-ATTJT",
        "outputId": "4e9fb628-7d9f-46b5-c084-d373c3990d88"
      },
      "source": [
        "y_pred_class = y_pred_wide.argmax(axis=1)\r\n",
        "y_pred_class"
      ],
      "execution_count": null,
      "outputs": [
        {
          "output_type": "execute_result",
          "data": {
            "text/plain": [
              "array([7, 2, 1, ..., 4, 5, 6])"
            ]
          },
          "metadata": {
            "tags": []
          },
          "execution_count": 35
        }
      ]
    },
    {
      "cell_type": "code",
      "metadata": {
        "colab": {
          "base_uri": "https://localhost:8080/"
        },
        "id": "uNTpoqf_TTNE",
        "outputId": "ac14278b-101d-417f-d001-ef7159a4f362"
      },
      "source": [
        "test_loss, test_acc = model_wide_deep.evaluate(test_images, test_labels)"
      ],
      "execution_count": null,
      "outputs": [
        {
          "output_type": "stream",
          "text": [
            "313/313 [==============================] - 1s 1ms/step - loss: 0.5421 - accuracy: 0.8755\n"
          ],
          "name": "stdout"
        }
      ]
    },
    {
      "cell_type": "code",
      "metadata": {
        "colab": {
          "base_uri": "https://localhost:8080/"
        },
        "id": "Ol5fvX1PTTQq",
        "outputId": "3a6b512f-9d65-4065-8d70-05831843aeb0"
      },
      "source": [
        "test_loss"
      ],
      "execution_count": null,
      "outputs": [
        {
          "output_type": "execute_result",
          "data": {
            "text/plain": [
              "0.5420863032341003"
            ]
          },
          "metadata": {
            "tags": []
          },
          "execution_count": 37
        }
      ]
    },
    {
      "cell_type": "code",
      "metadata": {
        "colab": {
          "base_uri": "https://localhost:8080/"
        },
        "id": "57j5xsPITTU6",
        "outputId": "4577b371-70f5-4c0a-b188-db3f38c63eb6"
      },
      "source": [
        "test_acc"
      ],
      "execution_count": null,
      "outputs": [
        {
          "output_type": "execute_result",
          "data": {
            "text/plain": [
              "0.8755000233650208"
            ]
          },
          "metadata": {
            "tags": []
          },
          "execution_count": 38
        }
      ]
    },
    {
      "cell_type": "markdown",
      "metadata": {
        "id": "TbsVHMlWXJK9"
      },
      "source": [
        "<p><h3><b><font color = 'DarkBlue'> Complex Model with multiple inputs </font></b></h3></p>\r\n",
        "\r\n",
        "We can also create a model by sending a subset of the features through the wide path, and a different subset (possibly overlapping) through the deep path. \r\n",
        "\r\n",
        "<img src = \"https://dim-mlp-images.s3.amazonaws.com/Deep+Learning/MINST/wide+and+deep+network+multi+input.png\" width=600 height=600>\r\n",
        "\r\n",
        "Here we used first 500 columns as input_A and all the columns (784) as input_B. \r\n",
        "\r\n",
        "Rest of the model building procedure is same except now we specify inputs=[input_A, input_B] and outputs = [output] \r\n",
        "\r\n",
        "Now we can compile the model as usual, but when we call the fit() method, instead of passing a single input matrix (train_images), we must pass a\r\n",
        "pair of matrices (X_train_A, X_train_B): one per input. The same is true for\r\n",
        "X_test when you call evaluate() or predict(). "
      ]
    },
    {
      "cell_type": "code",
      "metadata": {
        "id": "caQehT5PRXMG"
      },
      "source": [
        "input_A = keras.layers.Input(shape=(500,))   #here we are splitting the features(columns) and all rows are used and this is used in resnet\r\n",
        "input_B = keras.layers.Input(shape=(784,))\r\n",
        "hidden1 = keras.layers.Dense(100, activation=\"relu\")(input_B)\r\n",
        "hidden2 = keras.layers.Dense(100, activation=\"relu\")(hidden1)\r\n",
        "concat = keras.layers.concatenate([input_A, hidden2])\r\n",
        "output = keras.layers.Dense(10, activation='softmax')(concat)\r\n",
        "model_wide_deep1 = keras.models.Model(inputs=[input_A, input_B], outputs=[output])"
      ],
      "execution_count": null,
      "outputs": []
    },
    {
      "cell_type": "code",
      "metadata": {
        "colab": {
          "base_uri": "https://localhost:8080/"
        },
        "id": "bxU8oowIsEur",
        "outputId": "4d8de289-49e5-492d-d421-494960fae7d7"
      },
      "source": [
        "model_wide_deep1.summary()"
      ],
      "execution_count": null,
      "outputs": [
        {
          "output_type": "stream",
          "text": [
            "Model: \"model_2\"\n",
            "__________________________________________________________________________________________________\n",
            "Layer (type)                    Output Shape         Param #     Connected to                     \n",
            "==================================================================================================\n",
            "input_4 (InputLayer)            [(None, 784)]        0                                            \n",
            "__________________________________________________________________________________________________\n",
            "dense_6 (Dense)                 (None, 100)          78500       input_4[0][0]                    \n",
            "__________________________________________________________________________________________________\n",
            "input_3 (InputLayer)            [(None, 500)]        0                                            \n",
            "__________________________________________________________________________________________________\n",
            "dense_7 (Dense)                 (None, 100)          10100       dense_6[0][0]                    \n",
            "__________________________________________________________________________________________________\n",
            "concatenate_1 (Concatenate)     (None, 600)          0           input_3[0][0]                    \n",
            "                                                                 dense_7[0][0]                    \n",
            "__________________________________________________________________________________________________\n",
            "dense_8 (Dense)                 (None, 10)           6010        concatenate_1[0][0]              \n",
            "==================================================================================================\n",
            "Total params: 94,610\n",
            "Trainable params: 94,610\n",
            "Non-trainable params: 0\n",
            "__________________________________________________________________________________________________\n"
          ],
          "name": "stdout"
        }
      ]
    },
    {
      "cell_type": "code",
      "metadata": {
        "colab": {
          "base_uri": "https://localhost:8080/",
          "height": 533
        },
        "id": "MTlSD1Gft-ht",
        "outputId": "344f670a-f69d-44f5-f96a-bce6ca7d1ea0"
      },
      "source": [
        "from keras.utils.vis_utils import plot_model  #pictorial representation of summary\r\n",
        "plot_model(model_wide_deep1, to_file='model_plot1.png', show_shapes=True, show_layer_names=True)\r\n"
      ],
      "execution_count": null,
      "outputs": [
        {
          "output_type": "execute_result",
          "data": {
            "image/png": "[encoded data removed]",
            "text/plain": [
              "<IPython.core.display.Image object>"
            ]
          },
          "metadata": {
            "tags": []
          },
          "execution_count": 48
        }
      ]
    },
    {
      "cell_type": "code",
      "metadata": {
        "id": "FBlOYJstRXPY"
      },
      "source": [
        "model_wide_deep1.compile(optimizer='sgd',\r\n",
        "loss='categorical_crossentropy',\r\n",
        "metrics=['accuracy'])"
      ],
      "execution_count": null,
      "outputs": []
    },
    {
      "cell_type": "code",
      "metadata": {
        "id": "gJdD2MN_XYO9",
        "colab": {
          "base_uri": "https://localhost:8080/"
        },
        "outputId": "d05f176f-9238-49fe-ba2e-0d5d8c73b55f"
      },
      "source": [
        "X_train_A, X_train_B = train_images[:,:500], train_images[:,:]\r\n",
        "X_train_A.shape, X_train_B.shape"
      ],
      "execution_count": null,
      "outputs": [
        {
          "output_type": "execute_result",
          "data": {
            "text/plain": [
              "((60000, 500), (60000, 784))"
            ]
          },
          "metadata": {
            "tags": []
          },
          "execution_count": 41
        }
      ]
    },
    {
      "cell_type": "code",
      "metadata": {
        "id": "9QqTQjyGXYVm",
        "colab": {
          "base_uri": "https://localhost:8080/"
        },
        "outputId": "3445364d-9989-44cf-ebaf-e7ce008a4158"
      },
      "source": [
        "X_test_A, X_test_B = test_images[:,:500], test_images[:,:]\r\n",
        "X_test_A.shape, X_test_B.shape"
      ],
      "execution_count": null,
      "outputs": [
        {
          "output_type": "execute_result",
          "data": {
            "text/plain": [
              "((10000, 500), (10000, 784))"
            ]
          },
          "metadata": {
            "tags": []
          },
          "execution_count": 42
        }
      ]
    },
    {
      "cell_type": "code",
      "metadata": {
        "id": "pxo1KdGpXYZO",
        "colab": {
          "base_uri": "https://localhost:8080/"
        },
        "outputId": "41e585f3-686a-4b4e-c0ef-e0040d553fde"
      },
      "source": [
        "model_wide_deep1.fit((X_train_A, X_train_B), train_labels, epochs=10, batch_size=512)\r\n",
        "# 118 batches with 512 images passed each "
      ],
      "execution_count": null,
      "outputs": [
        {
          "output_type": "stream",
          "text": [
            "Epoch 1/10\n",
            "118/118 [==============================] - 2s 11ms/step - loss: 2.0519 - accuracy: 0.3064\n",
            "Epoch 2/10\n",
            "118/118 [==============================] - 1s 11ms/step - loss: 1.4352 - accuracy: 0.7054\n",
            "Epoch 3/10\n",
            "118/118 [==============================] - 1s 11ms/step - loss: 1.1166 - accuracy: 0.7758\n",
            "Epoch 4/10\n",
            "118/118 [==============================] - 1s 11ms/step - loss: 0.9152 - accuracy: 0.8094\n",
            "Epoch 5/10\n",
            "118/118 [==============================] - 1s 11ms/step - loss: 0.7893 - accuracy: 0.8300\n",
            "Epoch 6/10\n",
            "118/118 [==============================] - 1s 11ms/step - loss: 0.6978 - accuracy: 0.8410\n",
            "Epoch 7/10\n",
            "118/118 [==============================] - 1s 11ms/step - loss: 0.6380 - accuracy: 0.8503\n",
            "Epoch 8/10\n",
            "118/118 [==============================] - 1s 11ms/step - loss: 0.5901 - accuracy: 0.8576\n",
            "Epoch 9/10\n",
            "118/118 [==============================] - 1s 11ms/step - loss: 0.5564 - accuracy: 0.8612\n",
            "Epoch 10/10\n",
            "118/118 [==============================] - 1s 11ms/step - loss: 0.5251 - accuracy: 0.8653\n"
          ],
          "name": "stdout"
        },
        {
          "output_type": "execute_result",
          "data": {
            "text/plain": [
              "<tensorflow.python.keras.callbacks.History at 0x7fee47c06470>"
            ]
          },
          "metadata": {
            "tags": []
          },
          "execution_count": 43
        }
      ]
    },
    {
      "cell_type": "code",
      "metadata": {
        "id": "Jo_k_KU7XYcv",
        "colab": {
          "base_uri": "https://localhost:8080/"
        },
        "outputId": "083b922a-4df2-4a18-9a1a-f914b8726072"
      },
      "source": [
        "y_pred_wide1 = model_wide_deep1.predict((X_test_A, X_test_B)) #argmax used to get labels from predictions\r\n",
        "y_pred_class1 = y_pred_wide1.argmax(axis=1)\r\n",
        "y_pred_class1"
      ],
      "execution_count": null,
      "outputs": [
        {
          "output_type": "execute_result",
          "data": {
            "text/plain": [
              "array([7, 2, 1, ..., 4, 5, 6])"
            ]
          },
          "metadata": {
            "tags": []
          },
          "execution_count": 44
        }
      ]
    },
    {
      "cell_type": "code",
      "metadata": {
        "colab": {
          "base_uri": "https://localhost:8080/"
        },
        "id": "hckSRUkW50di",
        "outputId": "12a85961-17ea-450c-a0e0-b9a80c7cc69e"
      },
      "source": [
        "y_pred_fapi.argmax(axis=1)"
      ],
      "execution_count": null,
      "outputs": [
        {
          "output_type": "execute_result",
          "data": {
            "text/plain": [
              "array([7, 2, 1, ..., 4, 5, 6])"
            ]
          },
          "metadata": {
            "tags": []
          },
          "execution_count": 55
        }
      ]
    },
    {
      "cell_type": "code",
      "metadata": {
        "colab": {
          "base_uri": "https://localhost:8080/"
        },
        "id": "tlmYESNy50hW",
        "outputId": "1845a702-5098-4e66-91c1-f292e0123a4c"
      },
      "source": [
        "test_loss_fapi,test_acc_fapi=model_fapi.evaluate(test_images,test_labels)"
      ],
      "execution_count": null,
      "outputs": [
        {
          "output_type": "stream",
          "text": [
            "313/313 [==============================] - 0s 1ms/step - loss: 0.4495 - accuracy: 0.8755\n"
          ],
          "name": "stdout"
        }
      ]
    },
    {
      "cell_type": "code",
      "metadata": {
        "colab": {
          "base_uri": "https://localhost:8080/"
        },
        "id": "FG6A6Sso6Qpe",
        "outputId": "5231e2a6-2d1e-4616-edc7-78c38df53ef3"
      },
      "source": [
        "print(test_loss_fapi)\r\n",
        "print(test_acc_fapi)"
      ],
      "execution_count": null,
      "outputs": [
        {
          "output_type": "stream",
          "text": [
            "0.44953614473342896\n",
            "0.8755000233650208\n"
          ],
          "name": "stdout"
        }
      ]
    },
    {
      "cell_type": "markdown",
      "metadata": {
        "id": "n1KdDEQ07MCZ"
      },
      "source": [
        "<p><h3><b><font color = 'DarkBlue'> Complex Model with multiple outputs </font></b></h3></p>\r\n",
        "\r\n",
        "There are also many use cases in which you may want to have multiple outputs:\r\n",
        "\r\n",
        "• The task may demand it, for example you may want to locate and classify the\r\n",
        "main object in a picture. This is both a regression task (finding the coordinates of the object’s center, as well as its width and height) and a classification task.\r\n",
        "\r\n",
        "• Similarly, you may have multiple independent tasks to perform based on the\r\n",
        "same data. Sure, you could train one neural network per task, but in many cases\r\n",
        "you will get better results on all tasks by training a single neural network with one output per task. This is because the neural network can learn features in the data that are useful across tasks.\r\n",
        "\r\n",
        "• Another use case is as a regularization technique (i.e., a training constraint whose objective is to reduce overfitting and thus improve the model’s ability to generalize). For example, you may want to add some auxiliary outputs in a neural network architecture (see following figure ) to ensure that the underlying part of the network learns something useful on its own, without relying on the rest of the network.\r\n",
        "\r\n",
        "<img src = \"https://dim-mlp-images.s3.amazonaws.com/Deep+Learning/MINST/wide+and+deep+network+multi+output.png\" width=600 height=600>\r\n",
        "\r\n",
        "Adding extra outputs is quite easy: just connect them to the appropriate layers and add them to your model’s list of outputs."
      ]
    },
    {
      "cell_type": "code",
      "metadata": {
        "id": "UuFlyicK6Q1g"
      },
      "source": [
        "# Building the model\r\n",
        "\r\n",
        "input_A = keras.layers.Input(shape=(500,))\r\n",
        "input_B = keras.layers.Input(shape=(784,))\r\n",
        "hidden1 = keras.layers.Dense(100, activation=\"relu\")(input_B)\r\n",
        "hidden2 = keras.layers.Dense(100, activation=\"relu\")(hidden1)\r\n",
        "concat = keras.layers.concatenate([input_A, hidden2])\r\n",
        "output = keras.layers.Dense(10, activation='softmax')(concat)\r\n",
        "aux_output = keras.layers.Dense(10, activation='softmax')(hidden2)\r\n",
        "model_wide_deep2 = keras.models.Model(inputs=[input_A, input_B],\r\n",
        "outputs=[output, aux_output])"
      ],
      "execution_count": null,
      "outputs": []
    },
    {
      "cell_type": "code",
      "metadata": {
        "colab": {
          "base_uri": "https://localhost:8080/"
        },
        "id": "S6vhlQhd7SLJ",
        "outputId": "a5abe883-a3b9-4ed5-c8ee-e87a6923d558"
      },
      "source": [
        "model_wide_deep2.summary()"
      ],
      "execution_count": null,
      "outputs": [
        {
          "output_type": "stream",
          "text": [
            "Model: \"model_3\"\n",
            "__________________________________________________________________________________________________\n",
            "Layer (type)                    Output Shape         Param #     Connected to                     \n",
            "==================================================================================================\n",
            "input_6 (InputLayer)            [(None, 784)]        0                                            \n",
            "__________________________________________________________________________________________________\n",
            "dense_9 (Dense)                 (None, 100)          78500       input_6[0][0]                    \n",
            "__________________________________________________________________________________________________\n",
            "input_5 (InputLayer)            [(None, 500)]        0                                            \n",
            "__________________________________________________________________________________________________\n",
            "dense_10 (Dense)                (None, 100)          10100       dense_9[0][0]                    \n",
            "__________________________________________________________________________________________________\n",
            "concatenate_2 (Concatenate)     (None, 600)          0           input_5[0][0]                    \n",
            "                                                                 dense_10[0][0]                   \n",
            "__________________________________________________________________________________________________\n",
            "dense_11 (Dense)                (None, 10)           6010        concatenate_2[0][0]              \n",
            "__________________________________________________________________________________________________\n",
            "dense_12 (Dense)                (None, 10)           1010        dense_10[0][0]                   \n",
            "==================================================================================================\n",
            "Total params: 95,620\n",
            "Trainable params: 95,620\n",
            "Non-trainable params: 0\n",
            "__________________________________________________________________________________________________\n"
          ],
          "name": "stdout"
        }
      ]
    },
    {
      "cell_type": "code",
      "metadata": {
        "colab": {
          "base_uri": "https://localhost:8080/",
          "height": 533
        },
        "id": "bV3nFmU58i3r",
        "outputId": "7865ec54-a2b1-4ce4-97b9-9014a3780adf"
      },
      "source": [
        "from keras.utils.vis_utils import plot_model  #pictorial representation of summary\r\n",
        "plot_model(model_wide_deep2, to_file='model_plot1.png', show_shapes=True, show_layer_names=True)\r\n",
        "#summary in pictorial representation"
      ],
      "execution_count": null,
      "outputs": [
        {
          "output_type": "execute_result",
          "data": {
            "image/png": "[encoded data removed]",
            "text/plain": [
              "<IPython.core.display.Image object>"
            ]
          },
          "metadata": {
            "tags": []
          },
          "execution_count": 60
        }
      ]
    },
    {
      "cell_type": "markdown",
      "metadata": {
        "id": "XjhGeUYB7imk"
      },
      "source": [
        "Each output will need its own loss function, so when we compile the model we\r\n",
        "should pass a list of losses. However, we care much more about the main output than about the auxiliary output (as it is just used for regularization), so we want to give the main output’s loss a much greater weight. So in compile step we can set the loss weights."
      ]
    },
    {
      "cell_type": "code",
      "metadata": {
        "id": "2e02Q6Tz_2tZ"
      },
      "source": [
        "model_wide_deep2.compile(loss=[\"categorical_crossentropy\", \"categorical_crossentropy\"], loss_weights=[0.9, 0.1], optimizer=\"sgd\")\r\n",
        "#here we are giving more weights to output(0.9) and less weight to auxillary output"
      ],
      "execution_count": null,
      "outputs": []
    },
    {
      "cell_type": "code",
      "metadata": {
        "colab": {
          "base_uri": "https://localhost:8080/"
        },
        "id": "Y65bqrh47SQR",
        "outputId": "d905f942-b634-4002-b0b7-9d37f51b0dca"
      },
      "source": [
        "model_wide_deep2.fit((X_train_A, X_train_B), (train_labels,train_labels) , epochs=20, batch_size=512) "
      ],
      "execution_count": null,
      "outputs": [
        {
          "output_type": "stream",
          "text": [
            "Epoch 1/20\n",
            "118/118 [==============================] - 2s 12ms/step - loss: 1.8881 - dense_11_loss: 1.8446 - dense_12_loss: 2.2790\n",
            "Epoch 2/20\n",
            "118/118 [==============================] - 1s 12ms/step - loss: 1.4461 - dense_11_loss: 1.3636 - dense_12_loss: 2.1885\n",
            "Epoch 3/20\n",
            "118/118 [==============================] - 1s 12ms/step - loss: 1.1845 - dense_11_loss: 1.0856 - dense_12_loss: 2.0750\n",
            "Epoch 4/20\n",
            "118/118 [==============================] - 1s 12ms/step - loss: 1.0071 - dense_11_loss: 0.9041 - dense_12_loss: 1.9347\n",
            "Epoch 5/20\n",
            "118/118 [==============================] - 1s 12ms/step - loss: 0.8861 - dense_11_loss: 0.7858 - dense_12_loss: 1.7882\n",
            "Epoch 6/20\n",
            "118/118 [==============================] - 1s 11ms/step - loss: 0.7930 - dense_11_loss: 0.6992 - dense_12_loss: 1.6371\n",
            "Epoch 7/20\n",
            "118/118 [==============================] - 1s 11ms/step - loss: 0.7215 - dense_11_loss: 0.6359 - dense_12_loss: 1.4925\n",
            "Epoch 8/20\n",
            "118/118 [==============================] - 1s 11ms/step - loss: 0.6749 - dense_11_loss: 0.5977 - dense_12_loss: 1.3702\n",
            "Epoch 9/20\n",
            "118/118 [==============================] - 1s 12ms/step - loss: 0.6173 - dense_11_loss: 0.5470 - dense_12_loss: 1.2501\n",
            "Epoch 10/20\n",
            "118/118 [==============================] - 1s 12ms/step - loss: 0.5788 - dense_11_loss: 0.5158 - dense_12_loss: 1.1462\n",
            "Epoch 11/20\n",
            "118/118 [==============================] - 1s 11ms/step - loss: 0.5490 - dense_11_loss: 0.4916 - dense_12_loss: 1.0663\n",
            "Epoch 12/20\n",
            "118/118 [==============================] - 1s 11ms/step - loss: 0.5225 - dense_11_loss: 0.4704 - dense_12_loss: 0.9907\n",
            "Epoch 13/20\n",
            "118/118 [==============================] - 1s 12ms/step - loss: 0.5027 - dense_11_loss: 0.4553 - dense_12_loss: 0.9288\n",
            "Epoch 14/20\n",
            "118/118 [==============================] - 1s 11ms/step - loss: 0.4819 - dense_11_loss: 0.4385 - dense_12_loss: 0.8722\n",
            "Epoch 15/20\n",
            "118/118 [==============================] - 1s 11ms/step - loss: 0.4671 - dense_11_loss: 0.4273 - dense_12_loss: 0.8254\n",
            "Epoch 16/20\n",
            "118/118 [==============================] - 1s 11ms/step - loss: 0.4569 - dense_11_loss: 0.4201 - dense_12_loss: 0.7877\n",
            "Epoch 17/20\n",
            "118/118 [==============================] - 1s 11ms/step - loss: 0.4371 - dense_11_loss: 0.4027 - dense_12_loss: 0.7463\n",
            "Epoch 18/20\n",
            "118/118 [==============================] - 1s 12ms/step - loss: 0.4310 - dense_11_loss: 0.3993 - dense_12_loss: 0.7169\n",
            "Epoch 19/20\n",
            "118/118 [==============================] - 1s 11ms/step - loss: 0.4171 - dense_11_loss: 0.3873 - dense_12_loss: 0.6853\n",
            "Epoch 20/20\n",
            "118/118 [==============================] - 1s 11ms/step - loss: 0.4049 - dense_11_loss: 0.3770 - dense_12_loss: 0.6557\n"
          ],
          "name": "stdout"
        },
        {
          "output_type": "execute_result",
          "data": {
            "text/plain": [
              "<tensorflow.python.keras.callbacks.History at 0x7fee47baf438>"
            ]
          },
          "metadata": {
            "tags": []
          },
          "execution_count": 67
        }
      ]
    },
    {
      "cell_type": "code",
      "metadata": {
        "colab": {
          "base_uri": "https://localhost:8080/"
        },
        "id": "jpFgRESCB9dE",
        "outputId": "1f8bed35-f435-4150-a2a1-9957204417a9"
      },
      "source": [
        "model_wide_deep2.fit((X_train_A, X_train_B), (train_labels,train_labels) , epochs=20, batch_size=512) \r\n",
        "metrics=['accuracy']"
      ],
      "execution_count": null,
      "outputs": [
        {
          "output_type": "stream",
          "text": [
            "Epoch 1/20\n",
            "118/118 [==============================] - 1s 12ms/step - loss: 0.3962 - dense_11_loss: 0.3704 - dense_12_loss: 0.6279\n",
            "Epoch 2/20\n",
            "118/118 [==============================] - 1s 11ms/step - loss: 0.3882 - dense_11_loss: 0.3640 - dense_12_loss: 0.6065\n",
            "Epoch 3/20\n",
            "118/118 [==============================] - 1s 11ms/step - loss: 0.3809 - dense_11_loss: 0.3580 - dense_12_loss: 0.5871\n",
            "Epoch 4/20\n",
            "118/118 [==============================] - 1s 11ms/step - loss: 0.3741 - dense_11_loss: 0.3525 - dense_12_loss: 0.5692\n",
            "Epoch 5/20\n",
            "118/118 [==============================] - 1s 11ms/step - loss: 0.3679 - dense_11_loss: 0.3473 - dense_12_loss: 0.5530\n",
            "Epoch 6/20\n",
            "118/118 [==============================] - 1s 11ms/step - loss: 0.3620 - dense_11_loss: 0.3424 - dense_12_loss: 0.5380\n",
            "Epoch 7/20\n",
            "118/118 [==============================] - 1s 11ms/step - loss: 0.3564 - dense_11_loss: 0.3377 - dense_12_loss: 0.5243\n",
            "Epoch 8/20\n",
            "118/118 [==============================] - 1s 11ms/step - loss: 0.3513 - dense_11_loss: 0.3335 - dense_12_loss: 0.5115\n",
            "Epoch 9/20\n",
            "118/118 [==============================] - 1s 11ms/step - loss: 0.3463 - dense_11_loss: 0.3292 - dense_12_loss: 0.4998\n",
            "Epoch 10/20\n",
            "118/118 [==============================] - 1s 11ms/step - loss: 0.3418 - dense_11_loss: 0.3255 - dense_12_loss: 0.4887\n",
            "Epoch 11/20\n",
            "118/118 [==============================] - 1s 11ms/step - loss: 0.3373 - dense_11_loss: 0.3217 - dense_12_loss: 0.4785\n",
            "Epoch 12/20\n",
            "118/118 [==============================] - 1s 11ms/step - loss: 0.3331 - dense_11_loss: 0.3180 - dense_12_loss: 0.4689\n",
            "Epoch 13/20\n",
            "118/118 [==============================] - 1s 11ms/step - loss: 0.3291 - dense_11_loss: 0.3146 - dense_12_loss: 0.4598\n",
            "Epoch 14/20\n",
            "118/118 [==============================] - 1s 11ms/step - loss: 0.3253 - dense_11_loss: 0.3112 - dense_12_loss: 0.4516\n",
            "Epoch 15/20\n",
            "118/118 [==============================] - 1s 11ms/step - loss: 0.3217 - dense_11_loss: 0.3081 - dense_12_loss: 0.4437\n",
            "Epoch 16/20\n",
            "118/118 [==============================] - 1s 11ms/step - loss: 0.3181 - dense_11_loss: 0.3049 - dense_12_loss: 0.4362\n",
            "Epoch 17/20\n",
            "118/118 [==============================] - 1s 11ms/step - loss: 0.3147 - dense_11_loss: 0.3020 - dense_12_loss: 0.4292\n",
            "Epoch 18/20\n",
            "118/118 [==============================] - 1s 11ms/step - loss: 0.3114 - dense_11_loss: 0.2990 - dense_12_loss: 0.4224\n",
            "Epoch 19/20\n",
            "118/118 [==============================] - 1s 11ms/step - loss: 0.3082 - dense_11_loss: 0.2962 - dense_12_loss: 0.4161\n",
            "Epoch 20/20\n",
            "118/118 [==============================] - 1s 11ms/step - loss: 0.3051 - dense_11_loss: 0.2935 - dense_12_loss: 0.4101\n"
          ],
          "name": "stdout"
        }
      ]
    },
    {
      "cell_type": "markdown",
      "metadata": {
        "id": "LZi3mjiW7uu9"
      },
      "source": [
        "When we evaluate the model, Keras will return the total loss, as well as all the individual losses."
      ]
    },
    {
      "cell_type": "code",
      "metadata": {
        "colab": {
          "base_uri": "https://localhost:8080/"
        },
        "id": "7__H1h7_7SVE",
        "outputId": "d470746a-4b75-4894-fe50-036c33f56a81"
      },
      "source": [
        "total_loss, main_loss, aux_loss = model_wide_deep2.evaluate((X_test_A, X_test_B), (test_labels,test_labels))\r\n",
        "total_loss, main_loss, aux_loss"
      ],
      "execution_count": null,
      "outputs": [
        {
          "output_type": "stream",
          "text": [
            "313/313 [==============================] - 1s 2ms/step - loss: 0.0830 - dense_11_loss: 0.0822 - dense_12_loss: 0.0901\n"
          ],
          "name": "stdout"
        },
        {
          "output_type": "execute_result",
          "data": {
            "text/plain": [
              "(0.08296915888786316, 0.0821760967373848, 0.09010718017816544)"
            ]
          },
          "metadata": {
            "tags": []
          },
          "execution_count": 64
        }
      ]
    },
    {
      "cell_type": "markdown",
      "metadata": {
        "id": "QDoBZK8x735-"
      },
      "source": [
        "The predict() method will return predictions for each output. "
      ]
    },
    {
      "cell_type": "code",
      "metadata": {
        "colab": {
          "base_uri": "https://localhost:8080/"
        },
        "id": "xs6XCWXx7SZQ",
        "outputId": "12141c69-622e-4b92-ebe4-906d4214761d"
      },
      "source": [
        "y_pred_main, y_pred_aux= model_wide_deep2.predict((X_test_A, X_test_B))\r\n",
        "y_pred_class2 = y_pred_main.argmax(axis=1)\r\n",
        "y_pred_class2"
      ],
      "execution_count": null,
      "outputs": [
        {
          "output_type": "execute_result",
          "data": {
            "text/plain": [
              "array([8, 8, 1, ..., 4, 8, 6])"
            ]
          },
          "metadata": {
            "tags": []
          },
          "execution_count": 65
        }
      ]
    },
    {
      "cell_type": "code",
      "metadata": {
        "id": "lonAUNYg7SdN"
      },
      "source": [
        ""
      ],
      "execution_count": null,
      "outputs": []
    },
    {
      "cell_type": "code",
      "metadata": {
        "id": "IJ_TLbt67Sgl"
      },
      "source": [
        ""
      ],
      "execution_count": null,
      "outputs": []
    },
    {
      "cell_type": "code",
      "metadata": {
        "id": "kap_P6iY6Q5b"
      },
      "source": [
        ""
      ],
      "execution_count": null,
      "outputs": []
    }
  ]
}