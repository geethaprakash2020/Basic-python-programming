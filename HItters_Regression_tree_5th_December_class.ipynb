{
  "nbformat": 4,
  "nbformat_minor": 0,
  "metadata": {
    "colab": {
      "name": "HItters Regression tree 5th December class",
      "provenance": [],
      "authorship_tag": "ABX9TyMXCo8OfNJeLYltSYkxQAII",
      "include_colab_link": true
    },
    "kernelspec": {
      "name": "python3",
      "display_name": "Python 3"
    }
  },
  "cells": [
    {
      "cell_type": "markdown",
      "metadata": {
        "id": "view-in-github",
        "colab_type": "text"
      },
      "source": [
        "<a href=\"https://colab.research.google.com/github/geethaprakash2020/Basic-python-programming/blob/master/HItters_Regression_tree_5th_December_class.ipynb\" target=\"_parent\"><img src=\"https://colab.research.google.com/assets/colab-badge.svg\" alt=\"Open In Colab\"/></a>"
      ]
    },
    {
      "cell_type": "markdown",
      "metadata": {
        "id": "hFs5-j4ZZx2N"
      },
      "source": [
        "**Hitters Case Study**\r\n",
        "\r\n",
        "Major League Baseball Data from the 1986 and 1987 seasons. \r\n",
        "\r\n",
        "This dataset was taken from the StatLib library which is maintained at Carnegie Mellon University. This is part of the data that was used in the 1988 ASA Graphics Section Poster Session. The salary data were originally from Sports Illustrated, April 20, 1987. The 1986 and career statistics were obtained from The 1987 Baseball Encyclopedia Update published by Collier Books, Macmillan Publishing Company, New York."
      ]
    },
    {
      "cell_type": "markdown",
      "metadata": {
        "id": "FXLHoHWzZjVt"
      },
      "source": [
        ""
      ]
    },
    {
      "cell_type": "code",
      "metadata": {
        "id": "SiwacZ_NminM"
      },
      "source": [
        "## Decision tree (Regression) Hitters Case Study\r\n",
        "import pandas as pd\r\n",
        "import numpy as np\r\n",
        "from sklearn.tree import DecisionTreeRegressor\r\n",
        "import matplotlib.pyplot as plt\r\n",
        "from sklearn.model_selection import train_test_split\r\n",
        "from sklearn.model_selection import GridSearchCV\r\n",
        "from sklearn.tree import export_graphviz\r\n",
        "from IPython.display import Image\r\n",
        "from sklearn.metrics import mean_squared_error"
      ],
      "execution_count": null,
      "outputs": []
    },
    {
      "cell_type": "code",
      "metadata": {
        "id": "1EyHoMzjmrIF"
      },
      "source": [
        "Hitters = pd.read_csv(\"https://storage.googleapis.com/dimensionless/Analytics/Hitters.csv\", index_col=0)"
      ],
      "execution_count": null,
      "outputs": []
    },
    {
      "cell_type": "code",
      "metadata": {
        "colab": {
          "base_uri": "https://localhost:8080/",
          "height": 309
        },
        "id": "_GWAKKC1mrLt",
        "outputId": "6488bce3-ad36-4f78-aefb-6e8a293f3246"
      },
      "source": [
        "Hitters.head()"
      ],
      "execution_count": null,
      "outputs": [
        {
          "output_type": "execute_result",
          "data": {
            "text/html": [
              "<div>\n",
              "<style scoped>\n",
              "    .dataframe tbody tr th:only-of-type {\n",
              "        vertical-align: middle;\n",
              "    }\n",
              "\n",
              "    .dataframe tbody tr th {\n",
              "        vertical-align: top;\n",
              "    }\n",
              "\n",
              "    .dataframe thead th {\n",
              "        text-align: right;\n",
              "    }\n",
              "</style>\n",
              "<table border=\"1\" class=\"dataframe\">\n",
              "  <thead>\n",
              "    <tr style=\"text-align: right;\">\n",
              "      <th></th>\n",
              "      <th>AtBat</th>\n",
              "      <th>Hits</th>\n",
              "      <th>HmRun</th>\n",
              "      <th>Runs</th>\n",
              "      <th>RBI</th>\n",
              "      <th>Walks</th>\n",
              "      <th>Years</th>\n",
              "      <th>CAtBat</th>\n",
              "      <th>CHits</th>\n",
              "      <th>CHmRun</th>\n",
              "      <th>CRuns</th>\n",
              "      <th>CRBI</th>\n",
              "      <th>CWalks</th>\n",
              "      <th>League</th>\n",
              "      <th>Division</th>\n",
              "      <th>PutOuts</th>\n",
              "      <th>Assists</th>\n",
              "      <th>Errors</th>\n",
              "      <th>Salary</th>\n",
              "      <th>NewLeague</th>\n",
              "    </tr>\n",
              "  </thead>\n",
              "  <tbody>\n",
              "    <tr>\n",
              "      <th>-Andy Allanson</th>\n",
              "      <td>293</td>\n",
              "      <td>66</td>\n",
              "      <td>1</td>\n",
              "      <td>30</td>\n",
              "      <td>29</td>\n",
              "      <td>14</td>\n",
              "      <td>1</td>\n",
              "      <td>293</td>\n",
              "      <td>66</td>\n",
              "      <td>1</td>\n",
              "      <td>30</td>\n",
              "      <td>29</td>\n",
              "      <td>14</td>\n",
              "      <td>A</td>\n",
              "      <td>E</td>\n",
              "      <td>446</td>\n",
              "      <td>33</td>\n",
              "      <td>20</td>\n",
              "      <td>NaN</td>\n",
              "      <td>A</td>\n",
              "    </tr>\n",
              "    <tr>\n",
              "      <th>-Alan Ashby</th>\n",
              "      <td>315</td>\n",
              "      <td>81</td>\n",
              "      <td>7</td>\n",
              "      <td>24</td>\n",
              "      <td>38</td>\n",
              "      <td>39</td>\n",
              "      <td>14</td>\n",
              "      <td>3449</td>\n",
              "      <td>835</td>\n",
              "      <td>69</td>\n",
              "      <td>321</td>\n",
              "      <td>414</td>\n",
              "      <td>375</td>\n",
              "      <td>N</td>\n",
              "      <td>W</td>\n",
              "      <td>632</td>\n",
              "      <td>43</td>\n",
              "      <td>10</td>\n",
              "      <td>475.0</td>\n",
              "      <td>N</td>\n",
              "    </tr>\n",
              "    <tr>\n",
              "      <th>-Alvin Davis</th>\n",
              "      <td>479</td>\n",
              "      <td>130</td>\n",
              "      <td>18</td>\n",
              "      <td>66</td>\n",
              "      <td>72</td>\n",
              "      <td>76</td>\n",
              "      <td>3</td>\n",
              "      <td>1624</td>\n",
              "      <td>457</td>\n",
              "      <td>63</td>\n",
              "      <td>224</td>\n",
              "      <td>266</td>\n",
              "      <td>263</td>\n",
              "      <td>A</td>\n",
              "      <td>W</td>\n",
              "      <td>880</td>\n",
              "      <td>82</td>\n",
              "      <td>14</td>\n",
              "      <td>480.0</td>\n",
              "      <td>A</td>\n",
              "    </tr>\n",
              "    <tr>\n",
              "      <th>-Andre Dawson</th>\n",
              "      <td>496</td>\n",
              "      <td>141</td>\n",
              "      <td>20</td>\n",
              "      <td>65</td>\n",
              "      <td>78</td>\n",
              "      <td>37</td>\n",
              "      <td>11</td>\n",
              "      <td>5628</td>\n",
              "      <td>1575</td>\n",
              "      <td>225</td>\n",
              "      <td>828</td>\n",
              "      <td>838</td>\n",
              "      <td>354</td>\n",
              "      <td>N</td>\n",
              "      <td>E</td>\n",
              "      <td>200</td>\n",
              "      <td>11</td>\n",
              "      <td>3</td>\n",
              "      <td>500.0</td>\n",
              "      <td>N</td>\n",
              "    </tr>\n",
              "    <tr>\n",
              "      <th>-Andres Galarraga</th>\n",
              "      <td>321</td>\n",
              "      <td>87</td>\n",
              "      <td>10</td>\n",
              "      <td>39</td>\n",
              "      <td>42</td>\n",
              "      <td>30</td>\n",
              "      <td>2</td>\n",
              "      <td>396</td>\n",
              "      <td>101</td>\n",
              "      <td>12</td>\n",
              "      <td>48</td>\n",
              "      <td>46</td>\n",
              "      <td>33</td>\n",
              "      <td>N</td>\n",
              "      <td>E</td>\n",
              "      <td>805</td>\n",
              "      <td>40</td>\n",
              "      <td>4</td>\n",
              "      <td>91.5</td>\n",
              "      <td>N</td>\n",
              "    </tr>\n",
              "  </tbody>\n",
              "</table>\n",
              "</div>"
            ],
            "text/plain": [
              "                   AtBat  Hits  HmRun  Runs  ...  Assists  Errors  Salary  NewLeague\n",
              "-Andy Allanson       293    66      1    30  ...       33      20     NaN          A\n",
              "-Alan Ashby          315    81      7    24  ...       43      10   475.0          N\n",
              "-Alvin Davis         479   130     18    66  ...       82      14   480.0          A\n",
              "-Andre Dawson        496   141     20    65  ...       11       3   500.0          N\n",
              "-Andres Galarraga    321    87     10    39  ...       40       4    91.5          N\n",
              "\n",
              "[5 rows x 20 columns]"
            ]
          },
          "metadata": {
            "tags": []
          },
          "execution_count": 7
        }
      ]
    },
    {
      "cell_type": "markdown",
      "metadata": {
        "id": "zmp-Igc9aua2"
      },
      "source": [
        "**Data Set Description** \r\n",
        "\r\n",
        "A data frame with 322 observations of major league players on the following 20 variables.\r\n",
        "\r\n",
        "AtBat: Number of times at bat in 1986\r\n",
        "\r\n",
        "Hits: Number of hits in 1986\r\n",
        "\r\n",
        "HmRun: Number of home runs in 1986\r\n",
        "\r\n",
        "Runs: Number of runs in 1986\r\n",
        "\r\n",
        "RBI: Number of runs batted in in 1986\r\n",
        "\r\n",
        "Walks: Number of walks in 1986\r\n",
        "\r\n",
        "Years: Number of years in the major leagues\r\n",
        "\r\n",
        "CAtBat: Number of times at bat during his career\r\n",
        "\r\n",
        "CHits: Number of hits during his career\r\n",
        "\r\n",
        "CHmRun: Number of home runs during his career\r\n",
        "\r\n",
        "CRuns: Number of runs during his career\r\n",
        "\r\n",
        "CRBI: Number of runs batted in during his career\r\n",
        "\r\n",
        "CWalks: Number of walks during his career\r\n",
        "\r\n",
        "League: A factor with levels A and N indicating player's league at the end of 1986\r\n",
        "\r\n",
        "Division: A factor with levels E and W indicating player's division at the end of 1986\r\n",
        "\r\n",
        "PutOuts: Number of put outs in 1986\r\n",
        "\r\n",
        "Assists: Number of assists in 1986\r\n",
        "\r\n",
        "Errors: Number of errors in 1986\r\n",
        "\r\n",
        "Salary: 1987 annual salary on opening day in thousands of dollars\r\n",
        "\r\n",
        "NewLeague: A factor with levels A and N indicating player's league at the beginning of 1987\r\n",
        "\r\n",
        "The dependent variable is salary"
      ]
    },
    {
      "cell_type": "code",
      "metadata": {
        "id": "1KxPaxj5mrOi"
      },
      "source": [
        "Hitters.index.name = 'Player'"
      ],
      "execution_count": null,
      "outputs": []
    },
    {
      "cell_type": "code",
      "metadata": {
        "colab": {
          "base_uri": "https://localhost:8080/"
        },
        "id": "1DG_byNJmrRD",
        "outputId": "c4e271aa-8e62-4ca7-a91f-e0e7c3e35d02"
      },
      "source": [
        "Hitters.shape"
      ],
      "execution_count": null,
      "outputs": [
        {
          "output_type": "execute_result",
          "data": {
            "text/plain": [
              "(322, 20)"
            ]
          },
          "metadata": {
            "tags": []
          },
          "execution_count": 9
        }
      ]
    },
    {
      "cell_type": "code",
      "metadata": {
        "colab": {
          "base_uri": "https://localhost:8080/",
          "height": 317
        },
        "id": "OYXllPQFb5Tb",
        "outputId": "f4d5a58b-c7bd-4bbe-fdf8-9f41df766c87"
      },
      "source": [
        "Hitters.describe()"
      ],
      "execution_count": null,
      "outputs": [
        {
          "output_type": "execute_result",
          "data": {
            "text/html": [
              "<div>\n",
              "<style scoped>\n",
              "    .dataframe tbody tr th:only-of-type {\n",
              "        vertical-align: middle;\n",
              "    }\n",
              "\n",
              "    .dataframe tbody tr th {\n",
              "        vertical-align: top;\n",
              "    }\n",
              "\n",
              "    .dataframe thead th {\n",
              "        text-align: right;\n",
              "    }\n",
              "</style>\n",
              "<table border=\"1\" class=\"dataframe\">\n",
              "  <thead>\n",
              "    <tr style=\"text-align: right;\">\n",
              "      <th></th>\n",
              "      <th>AtBat</th>\n",
              "      <th>Hits</th>\n",
              "      <th>HmRun</th>\n",
              "      <th>Runs</th>\n",
              "      <th>RBI</th>\n",
              "      <th>Walks</th>\n",
              "      <th>Years</th>\n",
              "      <th>CAtBat</th>\n",
              "      <th>CHits</th>\n",
              "      <th>CHmRun</th>\n",
              "      <th>CRuns</th>\n",
              "      <th>CRBI</th>\n",
              "      <th>CWalks</th>\n",
              "      <th>PutOuts</th>\n",
              "      <th>Assists</th>\n",
              "      <th>Errors</th>\n",
              "      <th>Salary</th>\n",
              "    </tr>\n",
              "  </thead>\n",
              "  <tbody>\n",
              "    <tr>\n",
              "      <th>count</th>\n",
              "      <td>322.000000</td>\n",
              "      <td>322.000000</td>\n",
              "      <td>322.000000</td>\n",
              "      <td>322.000000</td>\n",
              "      <td>322.000000</td>\n",
              "      <td>322.000000</td>\n",
              "      <td>322.000000</td>\n",
              "      <td>322.00000</td>\n",
              "      <td>322.000000</td>\n",
              "      <td>322.000000</td>\n",
              "      <td>322.000000</td>\n",
              "      <td>322.000000</td>\n",
              "      <td>322.000000</td>\n",
              "      <td>322.000000</td>\n",
              "      <td>322.000000</td>\n",
              "      <td>322.000000</td>\n",
              "      <td>263.000000</td>\n",
              "    </tr>\n",
              "    <tr>\n",
              "      <th>mean</th>\n",
              "      <td>380.928571</td>\n",
              "      <td>101.024845</td>\n",
              "      <td>10.770186</td>\n",
              "      <td>50.909938</td>\n",
              "      <td>48.027950</td>\n",
              "      <td>38.742236</td>\n",
              "      <td>7.444099</td>\n",
              "      <td>2648.68323</td>\n",
              "      <td>717.571429</td>\n",
              "      <td>69.490683</td>\n",
              "      <td>358.795031</td>\n",
              "      <td>330.118012</td>\n",
              "      <td>260.239130</td>\n",
              "      <td>288.937888</td>\n",
              "      <td>106.913043</td>\n",
              "      <td>8.040373</td>\n",
              "      <td>535.925882</td>\n",
              "    </tr>\n",
              "    <tr>\n",
              "      <th>std</th>\n",
              "      <td>153.404981</td>\n",
              "      <td>46.454741</td>\n",
              "      <td>8.709037</td>\n",
              "      <td>26.024095</td>\n",
              "      <td>26.166895</td>\n",
              "      <td>21.639327</td>\n",
              "      <td>4.926087</td>\n",
              "      <td>2324.20587</td>\n",
              "      <td>654.472627</td>\n",
              "      <td>86.266061</td>\n",
              "      <td>334.105886</td>\n",
              "      <td>333.219617</td>\n",
              "      <td>267.058085</td>\n",
              "      <td>280.704614</td>\n",
              "      <td>136.854876</td>\n",
              "      <td>6.368359</td>\n",
              "      <td>451.118681</td>\n",
              "    </tr>\n",
              "    <tr>\n",
              "      <th>min</th>\n",
              "      <td>16.000000</td>\n",
              "      <td>1.000000</td>\n",
              "      <td>0.000000</td>\n",
              "      <td>0.000000</td>\n",
              "      <td>0.000000</td>\n",
              "      <td>0.000000</td>\n",
              "      <td>1.000000</td>\n",
              "      <td>19.00000</td>\n",
              "      <td>4.000000</td>\n",
              "      <td>0.000000</td>\n",
              "      <td>1.000000</td>\n",
              "      <td>0.000000</td>\n",
              "      <td>0.000000</td>\n",
              "      <td>0.000000</td>\n",
              "      <td>0.000000</td>\n",
              "      <td>0.000000</td>\n",
              "      <td>67.500000</td>\n",
              "    </tr>\n",
              "    <tr>\n",
              "      <th>25%</th>\n",
              "      <td>255.250000</td>\n",
              "      <td>64.000000</td>\n",
              "      <td>4.000000</td>\n",
              "      <td>30.250000</td>\n",
              "      <td>28.000000</td>\n",
              "      <td>22.000000</td>\n",
              "      <td>4.000000</td>\n",
              "      <td>816.75000</td>\n",
              "      <td>209.000000</td>\n",
              "      <td>14.000000</td>\n",
              "      <td>100.250000</td>\n",
              "      <td>88.750000</td>\n",
              "      <td>67.250000</td>\n",
              "      <td>109.250000</td>\n",
              "      <td>7.000000</td>\n",
              "      <td>3.000000</td>\n",
              "      <td>190.000000</td>\n",
              "    </tr>\n",
              "    <tr>\n",
              "      <th>50%</th>\n",
              "      <td>379.500000</td>\n",
              "      <td>96.000000</td>\n",
              "      <td>8.000000</td>\n",
              "      <td>48.000000</td>\n",
              "      <td>44.000000</td>\n",
              "      <td>35.000000</td>\n",
              "      <td>6.000000</td>\n",
              "      <td>1928.00000</td>\n",
              "      <td>508.000000</td>\n",
              "      <td>37.500000</td>\n",
              "      <td>247.000000</td>\n",
              "      <td>220.500000</td>\n",
              "      <td>170.500000</td>\n",
              "      <td>212.000000</td>\n",
              "      <td>39.500000</td>\n",
              "      <td>6.000000</td>\n",
              "      <td>425.000000</td>\n",
              "    </tr>\n",
              "    <tr>\n",
              "      <th>75%</th>\n",
              "      <td>512.000000</td>\n",
              "      <td>137.000000</td>\n",
              "      <td>16.000000</td>\n",
              "      <td>69.000000</td>\n",
              "      <td>64.750000</td>\n",
              "      <td>53.000000</td>\n",
              "      <td>11.000000</td>\n",
              "      <td>3924.25000</td>\n",
              "      <td>1059.250000</td>\n",
              "      <td>90.000000</td>\n",
              "      <td>526.250000</td>\n",
              "      <td>426.250000</td>\n",
              "      <td>339.250000</td>\n",
              "      <td>325.000000</td>\n",
              "      <td>166.000000</td>\n",
              "      <td>11.000000</td>\n",
              "      <td>750.000000</td>\n",
              "    </tr>\n",
              "    <tr>\n",
              "      <th>max</th>\n",
              "      <td>687.000000</td>\n",
              "      <td>238.000000</td>\n",
              "      <td>40.000000</td>\n",
              "      <td>130.000000</td>\n",
              "      <td>121.000000</td>\n",
              "      <td>105.000000</td>\n",
              "      <td>24.000000</td>\n",
              "      <td>14053.00000</td>\n",
              "      <td>4256.000000</td>\n",
              "      <td>548.000000</td>\n",
              "      <td>2165.000000</td>\n",
              "      <td>1659.000000</td>\n",
              "      <td>1566.000000</td>\n",
              "      <td>1378.000000</td>\n",
              "      <td>492.000000</td>\n",
              "      <td>32.000000</td>\n",
              "      <td>2460.000000</td>\n",
              "    </tr>\n",
              "  </tbody>\n",
              "</table>\n",
              "</div>"
            ],
            "text/plain": [
              "            AtBat        Hits       HmRun  ...     Assists      Errors       Salary\n",
              "count  322.000000  322.000000  322.000000  ...  322.000000  322.000000   263.000000\n",
              "mean   380.928571  101.024845   10.770186  ...  106.913043    8.040373   535.925882\n",
              "std    153.404981   46.454741    8.709037  ...  136.854876    6.368359   451.118681\n",
              "min     16.000000    1.000000    0.000000  ...    0.000000    0.000000    67.500000\n",
              "25%    255.250000   64.000000    4.000000  ...    7.000000    3.000000   190.000000\n",
              "50%    379.500000   96.000000    8.000000  ...   39.500000    6.000000   425.000000\n",
              "75%    512.000000  137.000000   16.000000  ...  166.000000   11.000000   750.000000\n",
              "max    687.000000  238.000000   40.000000  ...  492.000000   32.000000  2460.000000\n",
              "\n",
              "[8 rows x 17 columns]"
            ]
          },
          "metadata": {
            "tags": []
          },
          "execution_count": 10
        }
      ]
    },
    {
      "cell_type": "markdown",
      "metadata": {
        "id": "iKRqIFKBcNCF"
      },
      "source": [
        "***Data Preprocessing***"
      ]
    },
    {
      "cell_type": "code",
      "metadata": {
        "id": "DynXVYB3m7PD"
      },
      "source": [
        "Hitters = Hitters.dropna()   # Removing Misssing values in salary column"
      ],
      "execution_count": null,
      "outputs": []
    },
    {
      "cell_type": "code",
      "metadata": {
        "colab": {
          "base_uri": "https://localhost:8080/"
        },
        "id": "Dfh9PEQ0caCT",
        "outputId": "15fed5a9-b1cb-45f5-8127-5a79aacc31a2"
      },
      "source": [
        "Hitters.shape"
      ],
      "execution_count": null,
      "outputs": [
        {
          "output_type": "execute_result",
          "data": {
            "text/plain": [
              "(322, 20)"
            ]
          },
          "metadata": {
            "tags": []
          },
          "execution_count": 11
        }
      ]
    },
    {
      "cell_type": "code",
      "metadata": {
        "colab": {
          "base_uri": "https://localhost:8080/"
        },
        "id": "7sFZWuKxcd1Z",
        "outputId": "ed27574c-614b-4a32-ebc5-30aa570c1647"
      },
      "source": [
        "Hitters.columns"
      ],
      "execution_count": null,
      "outputs": [
        {
          "output_type": "execute_result",
          "data": {
            "text/plain": [
              "Index(['AtBat', 'Hits', 'HmRun', 'Runs', 'RBI', 'Walks', 'Years', 'CAtBat',\n",
              "       'CHits', 'CHmRun', 'CRuns', 'CRBI', 'CWalks', 'League', 'Division',\n",
              "       'PutOuts', 'Assists', 'Errors', 'Salary', 'NewLeague'],\n",
              "      dtype='object')"
            ]
          },
          "metadata": {
            "tags": []
          },
          "execution_count": 12
        }
      ]
    },
    {
      "cell_type": "code",
      "metadata": {
        "colab": {
          "base_uri": "https://localhost:8080/",
          "height": 315
        },
        "id": "SogBfAT-m7Wt",
        "outputId": "50ee1929-34db-4f4f-d73e-6b527d637deb"
      },
      "source": [
        "%matplotlib inline\r\n",
        "Hitters.hist('Salary')"
      ],
      "execution_count": null,
      "outputs": [
        {
          "output_type": "execute_result",
          "data": {
            "text/plain": [
              "array([[<matplotlib.axes._subplots.AxesSubplot object at 0x7fc108bb25c0>]],\n",
              "      dtype=object)"
            ]
          },
          "metadata": {
            "tags": []
          },
          "execution_count": 7
        },
        {
          "output_type": "display_data",
          "data": {
            "image/png": "[encoded data removed]",
            "text/plain": [
              "<Figure size 432x288 with 1 Axes>"
            ]
          },
          "metadata": {
            "tags": [],
            "needs_background": "light"
          }
        }
      ]
    },
    {
      "cell_type": "code",
      "metadata": {
        "id": "bulJ-Wv4m7a7"
      },
      "source": [
        "Hitters.Salary = np.log(Hitters.Salary)"
      ],
      "execution_count": null,
      "outputs": []
    },
    {
      "cell_type": "code",
      "metadata": {
        "colab": {
          "base_uri": "https://localhost:8080/",
          "height": 315
        },
        "id": "6suveaKGm7ex",
        "outputId": "350bc1bf-6357-4077-dcfe-f9df284bac2f"
      },
      "source": [
        "%matplotlib inline\r\n",
        "Hitters.hist('Salary')"
      ],
      "execution_count": null,
      "outputs": [
        {
          "output_type": "execute_result",
          "data": {
            "text/plain": [
              "array([[<matplotlib.axes._subplots.AxesSubplot object at 0x7fc108e40a90>]],\n",
              "      dtype=object)"
            ]
          },
          "metadata": {
            "tags": []
          },
          "execution_count": 9
        },
        {
          "output_type": "display_data",
          "data": {
            "image/png": "[encoded data removed]",
            "text/plain": [
              "<Figure size 432x288 with 1 Axes>"
            ]
          },
          "metadata": {
            "tags": [],
            "needs_background": "light"
          }
        }
      ]
    },
    {
      "cell_type": "code",
      "metadata": {
        "id": "6FDtQTuZnM_Q"
      },
      "source": [
        "Hitters = pd.get_dummies(Hitters,columns=['League','Division','NewLeague'],drop_first=True)"
      ],
      "execution_count": null,
      "outputs": []
    },
    {
      "cell_type": "code",
      "metadata": {
        "id": "HFGJXVfXcrLW"
      },
      "source": [
        "Hitters.head()"
      ],
      "execution_count": null,
      "outputs": []
    },
    {
      "cell_type": "markdown",
      "metadata": {
        "id": "mdjvU5h9cvXY"
      },
      "source": [
        "Creating Feature Matrix and Target Array"
      ]
    },
    {
      "cell_type": "code",
      "metadata": {
        "id": "VJkREZF8nNC4"
      },
      "source": [
        "X = Hitters.copy()"
      ],
      "execution_count": null,
      "outputs": []
    },
    {
      "cell_type": "code",
      "metadata": {
        "id": "qsHJlvmtczjC"
      },
      "source": [
        "X.columns"
      ],
      "execution_count": null,
      "outputs": []
    },
    {
      "cell_type": "code",
      "metadata": {
        "id": "DOc0kYGbnNIR"
      },
      "source": [
        "del X['Salary']"
      ],
      "execution_count": null,
      "outputs": []
    },
    {
      "cell_type": "code",
      "metadata": {
        "colab": {
          "base_uri": "https://localhost:8080/",
          "height": 340
        },
        "id": "MjPjsrzLnNLh",
        "outputId": "0996ff3d-4c18-453c-dfb1-bb292b0e4dac"
      },
      "source": [
        "X.head()"
      ],
      "execution_count": null,
      "outputs": [
        {
          "output_type": "execute_result",
          "data": {
            "text/html": [
              "<div>\n",
              "<style scoped>\n",
              "    .dataframe tbody tr th:only-of-type {\n",
              "        vertical-align: middle;\n",
              "    }\n",
              "\n",
              "    .dataframe tbody tr th {\n",
              "        vertical-align: top;\n",
              "    }\n",
              "\n",
              "    .dataframe thead th {\n",
              "        text-align: right;\n",
              "    }\n",
              "</style>\n",
              "<table border=\"1\" class=\"dataframe\">\n",
              "  <thead>\n",
              "    <tr style=\"text-align: right;\">\n",
              "      <th></th>\n",
              "      <th>AtBat</th>\n",
              "      <th>Hits</th>\n",
              "      <th>HmRun</th>\n",
              "      <th>Runs</th>\n",
              "      <th>RBI</th>\n",
              "      <th>Walks</th>\n",
              "      <th>Years</th>\n",
              "      <th>CAtBat</th>\n",
              "      <th>CHits</th>\n",
              "      <th>CHmRun</th>\n",
              "      <th>CRuns</th>\n",
              "      <th>CRBI</th>\n",
              "      <th>CWalks</th>\n",
              "      <th>PutOuts</th>\n",
              "      <th>Assists</th>\n",
              "      <th>Errors</th>\n",
              "      <th>League_N</th>\n",
              "      <th>Division_W</th>\n",
              "      <th>NewLeague_N</th>\n",
              "    </tr>\n",
              "    <tr>\n",
              "      <th>Player</th>\n",
              "      <th></th>\n",
              "      <th></th>\n",
              "      <th></th>\n",
              "      <th></th>\n",
              "      <th></th>\n",
              "      <th></th>\n",
              "      <th></th>\n",
              "      <th></th>\n",
              "      <th></th>\n",
              "      <th></th>\n",
              "      <th></th>\n",
              "      <th></th>\n",
              "      <th></th>\n",
              "      <th></th>\n",
              "      <th></th>\n",
              "      <th></th>\n",
              "      <th></th>\n",
              "      <th></th>\n",
              "      <th></th>\n",
              "    </tr>\n",
              "  </thead>\n",
              "  <tbody>\n",
              "    <tr>\n",
              "      <th>-Alan Ashby</th>\n",
              "      <td>315</td>\n",
              "      <td>81</td>\n",
              "      <td>7</td>\n",
              "      <td>24</td>\n",
              "      <td>38</td>\n",
              "      <td>39</td>\n",
              "      <td>14</td>\n",
              "      <td>3449</td>\n",
              "      <td>835</td>\n",
              "      <td>69</td>\n",
              "      <td>321</td>\n",
              "      <td>414</td>\n",
              "      <td>375</td>\n",
              "      <td>632</td>\n",
              "      <td>43</td>\n",
              "      <td>10</td>\n",
              "      <td>1</td>\n",
              "      <td>1</td>\n",
              "      <td>1</td>\n",
              "    </tr>\n",
              "    <tr>\n",
              "      <th>-Alvin Davis</th>\n",
              "      <td>479</td>\n",
              "      <td>130</td>\n",
              "      <td>18</td>\n",
              "      <td>66</td>\n",
              "      <td>72</td>\n",
              "      <td>76</td>\n",
              "      <td>3</td>\n",
              "      <td>1624</td>\n",
              "      <td>457</td>\n",
              "      <td>63</td>\n",
              "      <td>224</td>\n",
              "      <td>266</td>\n",
              "      <td>263</td>\n",
              "      <td>880</td>\n",
              "      <td>82</td>\n",
              "      <td>14</td>\n",
              "      <td>0</td>\n",
              "      <td>1</td>\n",
              "      <td>0</td>\n",
              "    </tr>\n",
              "    <tr>\n",
              "      <th>-Andre Dawson</th>\n",
              "      <td>496</td>\n",
              "      <td>141</td>\n",
              "      <td>20</td>\n",
              "      <td>65</td>\n",
              "      <td>78</td>\n",
              "      <td>37</td>\n",
              "      <td>11</td>\n",
              "      <td>5628</td>\n",
              "      <td>1575</td>\n",
              "      <td>225</td>\n",
              "      <td>828</td>\n",
              "      <td>838</td>\n",
              "      <td>354</td>\n",
              "      <td>200</td>\n",
              "      <td>11</td>\n",
              "      <td>3</td>\n",
              "      <td>1</td>\n",
              "      <td>0</td>\n",
              "      <td>1</td>\n",
              "    </tr>\n",
              "    <tr>\n",
              "      <th>-Andres Galarraga</th>\n",
              "      <td>321</td>\n",
              "      <td>87</td>\n",
              "      <td>10</td>\n",
              "      <td>39</td>\n",
              "      <td>42</td>\n",
              "      <td>30</td>\n",
              "      <td>2</td>\n",
              "      <td>396</td>\n",
              "      <td>101</td>\n",
              "      <td>12</td>\n",
              "      <td>48</td>\n",
              "      <td>46</td>\n",
              "      <td>33</td>\n",
              "      <td>805</td>\n",
              "      <td>40</td>\n",
              "      <td>4</td>\n",
              "      <td>1</td>\n",
              "      <td>0</td>\n",
              "      <td>1</td>\n",
              "    </tr>\n",
              "    <tr>\n",
              "      <th>-Alfredo Griffin</th>\n",
              "      <td>594</td>\n",
              "      <td>169</td>\n",
              "      <td>4</td>\n",
              "      <td>74</td>\n",
              "      <td>51</td>\n",
              "      <td>35</td>\n",
              "      <td>11</td>\n",
              "      <td>4408</td>\n",
              "      <td>1133</td>\n",
              "      <td>19</td>\n",
              "      <td>501</td>\n",
              "      <td>336</td>\n",
              "      <td>194</td>\n",
              "      <td>282</td>\n",
              "      <td>421</td>\n",
              "      <td>25</td>\n",
              "      <td>0</td>\n",
              "      <td>1</td>\n",
              "      <td>0</td>\n",
              "    </tr>\n",
              "  </tbody>\n",
              "</table>\n",
              "</div>"
            ],
            "text/plain": [
              "                   AtBat  Hits  HmRun  ...  League_N  Division_W  NewLeague_N\n",
              "Player                                 ...                                   \n",
              "-Alan Ashby          315    81      7  ...         1           1            1\n",
              "-Alvin Davis         479   130     18  ...         0           1            0\n",
              "-Andre Dawson        496   141     20  ...         1           0            1\n",
              "-Andres Galarraga    321    87     10  ...         1           0            1\n",
              "-Alfredo Griffin     594   169      4  ...         0           1            0\n",
              "\n",
              "[5 rows x 19 columns]"
            ]
          },
          "metadata": {
            "tags": []
          },
          "execution_count": 13
        }
      ]
    },
    {
      "cell_type": "code",
      "metadata": {
        "id": "SVNBJh6rnNNu"
      },
      "source": [
        "y=Hitters.Salary"
      ],
      "execution_count": null,
      "outputs": []
    },
    {
      "cell_type": "code",
      "metadata": {
        "id": "u18fMvYPdBaj"
      },
      "source": [
        "X.shape, y.shape"
      ],
      "execution_count": null,
      "outputs": []
    },
    {
      "cell_type": "code",
      "metadata": {
        "id": "aJ9iaoHrnNRv"
      },
      "source": [
        "X_train,X_test,y_train,y_test = train_test_split(X,y,test_size=0.2,random_state=42)"
      ],
      "execution_count": null,
      "outputs": []
    },
    {
      "cell_type": "code",
      "metadata": {
        "colab": {
          "base_uri": "https://localhost:8080/"
        },
        "id": "i3FDmBAZnNUq",
        "outputId": "c6958ee7-b034-4f49-c418-147b6797b074"
      },
      "source": [
        "X_train.shape"
      ],
      "execution_count": null,
      "outputs": [
        {
          "output_type": "execute_result",
          "data": {
            "text/plain": [
              "(210, 19)"
            ]
          },
          "metadata": {
            "tags": []
          },
          "execution_count": 16
        }
      ]
    },
    {
      "cell_type": "code",
      "metadata": {
        "colab": {
          "base_uri": "https://localhost:8080/"
        },
        "id": "PlaLjgU5nNYY",
        "outputId": "6ecb1783-7ea2-473c-fe62-e46b7ca72729"
      },
      "source": [
        "X_test.shape"
      ],
      "execution_count": null,
      "outputs": [
        {
          "output_type": "execute_result",
          "data": {
            "text/plain": [
              "(53, 19)"
            ]
          },
          "metadata": {
            "tags": []
          },
          "execution_count": 17
        }
      ]
    },
    {
      "cell_type": "code",
      "metadata": {
        "colab": {
          "base_uri": "https://localhost:8080/"
        },
        "id": "H9fY46NEm7iq",
        "outputId": "4fbc5bfb-bf02-4b58-f1f3-fd2153d1f7ab"
      },
      "source": [
        "y_train.shape"
      ],
      "execution_count": null,
      "outputs": [
        {
          "output_type": "execute_result",
          "data": {
            "text/plain": [
              "(210,)"
            ]
          },
          "metadata": {
            "tags": []
          },
          "execution_count": 18
        }
      ]
    },
    {
      "cell_type": "code",
      "metadata": {
        "colab": {
          "base_uri": "https://localhost:8080/"
        },
        "id": "xV7_AIONmrTy",
        "outputId": "96bac3c2-da61-46d6-b8bd-70c0afc1ecb5"
      },
      "source": [
        "y_test.shape"
      ],
      "execution_count": null,
      "outputs": [
        {
          "output_type": "execute_result",
          "data": {
            "text/plain": [
              "(53,)"
            ]
          },
          "metadata": {
            "tags": []
          },
          "execution_count": 19
        }
      ]
    },
    {
      "cell_type": "markdown",
      "metadata": {
        "id": "nRlpRFpXdGTe"
      },
      "source": [
        "**Building a Decision Tree Model with \"Hits\" and \"Year\" variables.**"
      ]
    },
    {
      "cell_type": "code",
      "metadata": {
        "id": "bA9tQaGBnuAC"
      },
      "source": [
        "model2_var = DecisionTreeRegressor(max_depth=2)"
      ],
      "execution_count": null,
      "outputs": []
    },
    {
      "cell_type": "code",
      "metadata": {
        "colab": {
          "base_uri": "https://localhost:8080/"
        },
        "id": "jyVy-QgKnuDp",
        "outputId": "4223a088-6220-436c-ff86-8998dd1cc0d5"
      },
      "source": [
        "model2_var.fit(X_train[['Years','Hits']],y_train)"
      ],
      "execution_count": null,
      "outputs": [
        {
          "output_type": "execute_result",
          "data": {
            "text/plain": [
              "DecisionTreeRegressor(ccp_alpha=0.0, criterion='mse', max_depth=2,\n",
              "                      max_features=None, max_leaf_nodes=None,\n",
              "                      min_impurity_decrease=0.0, min_impurity_split=None,\n",
              "                      min_samples_leaf=1, min_samples_split=2,\n",
              "                      min_weight_fraction_leaf=0.0, presort='deprecated',\n",
              "                      random_state=None, splitter='best')"
            ]
          },
          "metadata": {
            "tags": []
          },
          "execution_count": 21
        }
      ]
    },
    {
      "cell_type": "code",
      "metadata": {
        "id": "P764mS48nuIU"
      },
      "source": [
        "export_graphviz(model2_var,out_file='Regtree.dot',feature_names=X_train[['Years','Hits']].columns) "
      ],
      "execution_count": null,
      "outputs": []
    },
    {
      "cell_type": "code",
      "metadata": {
        "id": "tAzVB0BRnuMI"
      },
      "source": [
        "! dot -Tpng Regtree.dot -o Regtree.png"
      ],
      "execution_count": null,
      "outputs": []
    },
    {
      "cell_type": "code",
      "metadata": {
        "colab": {
          "base_uri": "https://localhost:8080/",
          "height": 376
        },
        "id": "G513R_zxnuP5",
        "outputId": "dcdb808b-ac6a-40ad-94a5-1d095f885b1b"
      },
      "source": [
        "Image(\"Regtree.png\")"
      ],
      "execution_count": null,
      "outputs": [
        {
          "output_type": "execute_result",
          "data": {
            "image/png": "[encoded data removed]",
            "text/plain": [
              "<IPython.core.display.Image object>"
            ]
          },
          "metadata": {
            "tags": []
          },
          "execution_count": 24
        }
      ]
    },
    {
      "cell_type": "markdown",
      "metadata": {
        "id": "Tl8JXrF5dS9O"
      },
      "source": [
        "**Building a Decision Tree Model with all the variables**"
      ]
    },
    {
      "cell_type": "code",
      "metadata": {
        "id": "ZQBCQvhlnuTR"
      },
      "source": [
        "model_all = DecisionTreeRegressor(max_depth=4)"
      ],
      "execution_count": null,
      "outputs": []
    },
    {
      "cell_type": "code",
      "metadata": {
        "id": "VwUVoppNnuXh"
      },
      "source": [
        "model_all.fit(X_train,y_train)"
      ],
      "execution_count": null,
      "outputs": []
    },
    {
      "cell_type": "code",
      "metadata": {
        "id": "nGLxKWmrnubU"
      },
      "source": [
        "export_graphviz(model_all,out_file='Regtree.dot',feature_names=X_train.columns)"
      ],
      "execution_count": null,
      "outputs": []
    },
    {
      "cell_type": "code",
      "metadata": {
        "id": "8yoiGXbunuem"
      },
      "source": [
        ""
      ],
      "execution_count": null,
      "outputs": []
    },
    {
      "cell_type": "code",
      "metadata": {
        "id": "tm0nq9C2nuiL"
      },
      "source": [
        ""
      ],
      "execution_count": null,
      "outputs": []
    },
    {
      "cell_type": "code",
      "metadata": {
        "id": "wUqLj3yGmrWu"
      },
      "source": [
        ""
      ],
      "execution_count": null,
      "outputs": []
    }
  ]
}