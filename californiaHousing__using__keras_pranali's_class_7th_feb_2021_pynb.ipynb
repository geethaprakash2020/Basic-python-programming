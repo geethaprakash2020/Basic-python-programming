{
  "nbformat": 4,
  "nbformat_minor": 0,
  "metadata": {
    "colab": {
      "name": "californiaHousing _using _keras pranali's class 7th feb 2021.pynb",
      "provenance": [],
      "authorship_tag": "ABX9TyOqg59vIFzhOrr/lOcom5F8",
      "include_colab_link": true
    },
    "kernelspec": {
      "name": "python3",
      "display_name": "Python 3"
    }
  },
  "cells": [
    {
      "cell_type": "markdown",
      "metadata": {
        "id": "view-in-github",
        "colab_type": "text"
      },
      "source": [
        "<a href=\"https://colab.research.google.com/github/geethaprakash2020/Basic-python-programming/blob/master/californiaHousing__using__keras_pranali's_class_7th_feb_2021_pynb.ipynb\" target=\"_parent\"><img src=\"https://colab.research.google.com/assets/colab-badge.svg\" alt=\"Open In Colab\"/></a>"
      ]
    },
    {
      "cell_type": "code",
      "metadata": {
        "id": "WYTN1hNe0iKC"
      },
      "source": [
        "%tensorflow_version 2.x"
      ],
      "execution_count": null,
      "outputs": []
    },
    {
      "cell_type": "code",
      "metadata": {
        "id": "-nmYuVug0_p2"
      },
      "source": [
        "from tensorflow import keras"
      ],
      "execution_count": null,
      "outputs": []
    },
    {
      "cell_type": "code",
      "metadata": {
        "colab": {
          "base_uri": "https://localhost:8080/",
          "height": 35
        },
        "id": "rdZeZgkd0_uA",
        "outputId": "6b3f602d-ee2a-4721-dc4d-d867249fb941"
      },
      "source": [
        "keras.__version__"
      ],
      "execution_count": null,
      "outputs": [
        {
          "output_type": "execute_result",
          "data": {
            "application/vnd.google.colaboratory.intrinsic+json": {
              "type": "string"
            },
            "text/plain": [
              "'2.4.0'"
            ]
          },
          "metadata": {
            "tags": []
          },
          "execution_count": 3
        }
      ]
    },
    {
      "cell_type": "markdown",
      "metadata": {
        "id": "Vjs9DDl51Gji"
      },
      "source": [
        ""
      ]
    },
    {
      "cell_type": "markdown",
      "metadata": {
        "id": "S_RoLUS11Gu7"
      },
      "source": [
        "<p><h3><b><font color = 'DarkBlue'> Regression MLP on California Housing Dataset </font></b></h3></p>\r\n",
        "\r\n",
        "The California Housing Dataset fron scikit learn library is simpler than the original dataset since it contains only numerical features (there is no ocean_proximity feature), and there is no missing value.\r\n",
        "\r\n",
        "## **California Housing Dataset**\r\n",
        "\r\n",
        "Data Set Characteristics:\r\n",
        "Number of Instances: 20640\r\n",
        "Number of Attributes: 8 numeric, predictive attributes and the target\r\n",
        "Attribute Information:\r\n",
        "1. MedInc: median income in block\r\n",
        "2. HouseAge: median house age in block\r\n",
        "3. AveRooms: average number of rooms\r\n",
        "4. AveBedrms: average number of bedrooms\r\n",
        "5. Population: block population\r\n",
        "6. AveOccup: average house occupancy\r\n",
        "7. Latitude: house block latitude\r\n",
        "8. Longitude: house block longitude\r\n",
        "9. Missing Attribute Values: None\r\n",
        "\r\n",
        "This dataset was obtained from the StatLib repository. http://lib.stat.cmu.edu/datasets/\r\n",
        "The target variable is the median house value for California districts.\r\n",
        "This dataset was derived from the 1990 U.S. census, using one row per census block group. A block group is the smallest geographical unit for which the U.S. Census Bureau publishes sample data (a block group typically has a population of 600 to 3,000 people). It can be downloaded/loaded using the func:\r\n",
        "`sklearn.datasets.fetch_california_housing` function.\r\n",
        "References: Pace, R. Kelley and Ronald Barry, Sparse Spatial Autoregressions,Statistics and Probability Letters, 33 (1997) 291-297'"
      ]
    },
    {
      "cell_type": "code",
      "metadata": {
        "id": "1rVRDovd0_wR"
      },
      "source": [
        "from sklearn.datasets import fetch_california_housing"
      ],
      "execution_count": null,
      "outputs": []
    },
    {
      "cell_type": "code",
      "metadata": {
        "id": "EPYLyybN1R5Z"
      },
      "source": [
        "from sklearn.model_selection import train_test_split"
      ],
      "execution_count": null,
      "outputs": []
    },
    {
      "cell_type": "code",
      "metadata": {
        "id": "ss42kKUp1R89"
      },
      "source": [
        "from sklearn.preprocessing import StandardScaler"
      ],
      "execution_count": null,
      "outputs": []
    },
    {
      "cell_type": "code",
      "metadata": {
        "id": "UsoMC6sU1SBn"
      },
      "source": [
        "housing = fetch_california_housing()"
      ],
      "execution_count": null,
      "outputs": []
    },
    {
      "cell_type": "code",
      "metadata": {
        "colab": {
          "base_uri": "https://localhost:8080/"
        },
        "id": "9rM2V8k61SFb",
        "outputId": "03250082-b8af-4128-e8a9-2a15e4c0ea86"
      },
      "source": [
        "housing.data.shape"
      ],
      "execution_count": null,
      "outputs": [
        {
          "output_type": "execute_result",
          "data": {
            "text/plain": [
              "(20640, 8)"
            ]
          },
          "metadata": {
            "tags": []
          },
          "execution_count": 8
        }
      ]
    },
    {
      "cell_type": "code",
      "metadata": {
        "colab": {
          "base_uri": "https://localhost:8080/"
        },
        "id": "iHrY46_31SK3",
        "outputId": "ca464016-616d-43ed-c49a-4f1bf35204f8"
      },
      "source": [
        "housing.feature_names"
      ],
      "execution_count": null,
      "outputs": [
        {
          "output_type": "execute_result",
          "data": {
            "text/plain": [
              "['MedInc',\n",
              " 'HouseAge',\n",
              " 'AveRooms',\n",
              " 'AveBedrms',\n",
              " 'Population',\n",
              " 'AveOccup',\n",
              " 'Latitude',\n",
              " 'Longitude']"
            ]
          },
          "metadata": {
            "tags": []
          },
          "execution_count": 9
        }
      ]
    },
    {
      "cell_type": "code",
      "metadata": {
        "colab": {
          "base_uri": "https://localhost:8080/"
        },
        "id": "l2vR86Wo2n8v",
        "outputId": "1309b076-eb35-43ec-c27a-5fee050db25b"
      },
      "source": [
        "housing.target"
      ],
      "execution_count": null,
      "outputs": [
        {
          "output_type": "execute_result",
          "data": {
            "text/plain": [
              "array([4.526, 3.585, 3.521, ..., 0.923, 0.847, 0.894])"
            ]
          },
          "metadata": {
            "tags": []
          },
          "execution_count": 10
        }
      ]
    },
    {
      "cell_type": "markdown",
      "metadata": {
        "id": "SbsR2ul611HW"
      },
      "source": [
        "<p><h3><b><font color='DarkBlue'> Data Preprocessing </font></b></h3></p>\r\n",
        "\r\n",
        "After loading the data, we split it into a training set, a validation\r\n",
        "set and a test set, and we scale all the features. "
      ]
    },
    {
      "cell_type": "code",
      "metadata": {
        "id": "_tg_bGtE1w6o"
      },
      "source": [
        "X_train_full,X_test,y_train_full,y_test = train_test_split(housing.data,housing.target,random_state=42)    # Split the dataset into train and test dataset "
      ],
      "execution_count": null,
      "outputs": []
    },
    {
      "cell_type": "code",
      "metadata": {
        "colab": {
          "base_uri": "https://localhost:8080/"
        },
        "id": "lDu5vn4b1w-o",
        "outputId": "82040023-9058-42f3-daae-bb41e6dfa733"
      },
      "source": [
        "X_train_full.shape, X_test.shape, y_train_full.shape, y_test.shape"
      ],
      "execution_count": null,
      "outputs": [
        {
          "output_type": "execute_result",
          "data": {
            "text/plain": [
              "((15480, 8), (5160, 8), (15480,), (5160,))"
            ]
          },
          "metadata": {
            "tags": []
          },
          "execution_count": 12
        }
      ]
    },
    {
      "cell_type": "code",
      "metadata": {
        "id": "KEw3avSF1xG4"
      },
      "source": [
        "X_train,X_valid,y_train,y_valid = train_test_split(X_train_full,y_train_full,random_state=42)   # split the train dataset into validation dataset "
      ],
      "execution_count": null,
      "outputs": []
    },
    {
      "cell_type": "code",
      "metadata": {
        "colab": {
          "base_uri": "https://localhost:8080/"
        },
        "id": "MuZUA4jV1xLR",
        "outputId": "cb42db49-2b09-4987-e0c1-eb0384048bbf"
      },
      "source": [
        "X_train.shape,X_valid.shape,y_train.shape,y_valid.shape  #split train data into train data and validation data"
      ],
      "execution_count": null,
      "outputs": [
        {
          "output_type": "execute_result",
          "data": {
            "text/plain": [
              "((11610, 8), (3870, 8), (11610,), (3870,))"
            ]
          },
          "metadata": {
            "tags": []
          },
          "execution_count": 14
        }
      ]
    },
    {
      "cell_type": "code",
      "metadata": {
        "colab": {
          "base_uri": "https://localhost:8080/"
        },
        "id": "auXJqNHN1xPZ",
        "outputId": "a29624f5-74aa-4d2b-8edb-2a78247ab70f"
      },
      "source": [
        "X_train[:5,:]"
      ],
      "execution_count": null,
      "outputs": [
        {
          "output_type": "execute_result",
          "data": {
            "text/plain": [
              "array([[ 3.52140000e+00,  1.50000000e+01,  3.04994451e+00,\n",
              "         1.10654828e+00,  1.44700000e+03,  1.60599334e+00,\n",
              "         3.76300000e+01, -1.22430000e+02],\n",
              "       [ 5.32750000e+00,  5.00000000e+00,  6.49005964e+00,\n",
              "         9.91053678e-01,  3.46400000e+03,  3.44333996e+00,\n",
              "         3.36900000e+01, -1.17390000e+02],\n",
              "       [ 3.10000000e+00,  2.90000000e+01,  7.54237288e+00,\n",
              "         1.59152542e+00,  1.32800000e+03,  2.25084746e+00,\n",
              "         3.84400000e+01, -1.22980000e+02],\n",
              "       [ 7.17360000e+00,  1.20000000e+01,  6.28900256e+00,\n",
              "         9.97442455e-01,  1.05400000e+03,  2.69565217e+00,\n",
              "         3.35500000e+01, -1.17700000e+02],\n",
              "       [ 2.05490000e+00,  1.30000000e+01,  5.31245745e+00,\n",
              "         1.08509190e+00,  3.29700000e+03,  2.24438393e+00,\n",
              "         3.39300000e+01, -1.16930000e+02]])"
            ]
          },
          "metadata": {
            "tags": []
          },
          "execution_count": 15
        }
      ]
    },
    {
      "cell_type": "code",
      "metadata": {
        "colab": {
          "base_uri": "https://localhost:8080/"
        },
        "id": "LmLGtRDf1xWl",
        "outputId": "b8348953-6d5c-4a04-a4a8-d9628de006f7"
      },
      "source": [
        "X_valid[:5,:]"
      ],
      "execution_count": null,
      "outputs": [
        {
          "output_type": "execute_result",
          "data": {
            "text/plain": [
              "array([[ 2.50000000e+00,  3.40000000e+01,  3.60640000e+00,\n",
              "         1.00800000e+00,  2.98400000e+03,  4.77440000e+00,\n",
              "         3.37400000e+01, -1.17860000e+02],\n",
              "       [ 2.87500000e+00,  4.90000000e+01,  5.26461538e+00,\n",
              "         1.07076923e+00,  1.13800000e+03,  3.50153846e+00,\n",
              "         3.77100000e+01, -1.22460000e+02],\n",
              "       [ 1.74520000e+00,  2.40000000e+01,  3.33811475e+00,\n",
              "         1.20286885e+00,  1.01200000e+03,  2.07377049e+00,\n",
              "         3.27600000e+01, -1.17060000e+02],\n",
              "       [ 5.20340000e+00,  2.90000000e+01,  5.64549180e+00,\n",
              "         1.04098361e+00,  2.04600000e+03,  4.19262295e+00,\n",
              "         3.38100000e+01, -1.18280000e+02],\n",
              "       [ 4.74400000e+00,  4.80000000e+01,  7.11764706e+00,\n",
              "         1.08823529e+00,  6.10000000e+02,  2.56302521e+00,\n",
              "         3.78000000e+01, -1.22190000e+02]])"
            ]
          },
          "metadata": {
            "tags": []
          },
          "execution_count": 16
        }
      ]
    },
    {
      "cell_type": "code",
      "metadata": {
        "id": "a58qvsNQ1xZ6"
      },
      "source": [
        "scaler = StandardScaler()  # perform scaling using StandardScaler()"
      ],
      "execution_count": null,
      "outputs": []
    },
    {
      "cell_type": "code",
      "metadata": {
        "id": "U2YrReGI22dE"
      },
      "source": [
        "X_train_scaled = scaler.fit_transform(X_train)  #we will standardise the data using train data hence we will use fit transform for tyrain data\r\n",
        "X_valid_scaled = scaler.transform(X_valid)     #will use only transform\r\n",
        "X_test_scaled=scaler.transform(X_test)"
      ],
      "execution_count": null,
      "outputs": []
    },
    {
      "cell_type": "code",
      "metadata": {
        "colab": {
          "base_uri": "https://localhost:8080/"
        },
        "id": "oN4WKjAY22gd",
        "outputId": "dfcdd006-7fe4-46ae-c352-cddeeec0dc0c"
      },
      "source": [
        "X_train_scaled.shape, X_valid_scaled.shape, X_test_scaled.shape"
      ],
      "execution_count": null,
      "outputs": [
        {
          "output_type": "execute_result",
          "data": {
            "text/plain": [
              "((11610, 8), (3870, 8), (5160, 8))"
            ]
          },
          "metadata": {
            "tags": []
          },
          "execution_count": 19
        }
      ]
    },
    {
      "cell_type": "code",
      "metadata": {
        "colab": {
          "base_uri": "https://localhost:8080/"
        },
        "id": "AYaZrm9822kM",
        "outputId": "fd569ad1-2761-4df7-b03a-c6548f6cd175"
      },
      "source": [
        "y_train.shape, y_test.shape  #indicates its a vector/1-D array ,"
      ],
      "execution_count": null,
      "outputs": [
        {
          "output_type": "execute_result",
          "data": {
            "text/plain": [
              "((11610,), (5160,))"
            ]
          },
          "metadata": {
            "tags": []
          },
          "execution_count": 20
        }
      ]
    },
    {
      "cell_type": "code",
      "metadata": {
        "id": "JZytUjvR22mi"
      },
      "source": [
        "y_train_scaled = scaler.fit_transform(y_train.reshape(-1,1)) #we will standardise the data using train data hence we will use fit transform for train data and will convert to array(2D array) since its avector(1d array)\r\n",
        "y_valid_scaled = scaler.transform(y_valid.reshape(-1,1))\r\n",
        "y_test_scaled = scaler.transform(y_test.reshape(-1,1))"
      ],
      "execution_count": null,
      "outputs": []
    },
    {
      "cell_type": "code",
      "metadata": {
        "colab": {
          "base_uri": "https://localhost:8080/"
        },
        "id": "zCQ27LqL22qC",
        "outputId": "f5311a25-9958-45fb-f7b1-6b8f8a73b3cc"
      },
      "source": [
        "y_train_scaled.shape, y_valid_scaled.shape, y_test_scaled.shape"
      ],
      "execution_count": null,
      "outputs": [
        {
          "output_type": "execute_result",
          "data": {
            "text/plain": [
              "((11610, 1), (3870, 1), (5160, 1))"
            ]
          },
          "metadata": {
            "tags": []
          },
          "execution_count": 22
        }
      ]
    },
    {
      "cell_type": "code",
      "metadata": {
        "colab": {
          "base_uri": "https://localhost:8080/"
        },
        "id": "1rUASlsN22tg",
        "outputId": "6c9801b7-3ca4-4ed8-e00d-6012a64da80c"
      },
      "source": [
        "X_train_scaled"
      ],
      "execution_count": null,
      "outputs": [
        {
          "output_type": "execute_result",
          "data": {
            "text/plain": [
              "array([[-0.19397883, -1.07781319, -0.94338545, ..., -0.57291624,\n",
              "         0.92926047, -1.42215523],\n",
              "       [ 0.75198318, -1.868895  ,  0.40547793, ...,  0.20516532,\n",
              "        -0.91654738,  1.09666969],\n",
              "       [-0.41469108,  0.02970134,  0.81808819, ..., -0.29983271,\n",
              "         1.30872858, -1.697027  ],\n",
              "       ...,\n",
              "       [-1.22332336,  0.50435042, -0.51600328, ...,  0.1344908 ,\n",
              "        -0.71978613,  1.14664638],\n",
              "       [-0.93556989,  1.8491895 , -0.10878451, ..., -0.01354498,\n",
              "         0.52168361, -0.10277075],\n",
              "       [ 0.89585991,  0.1879177 ,  0.29947528, ..., -0.17823425,\n",
              "         1.12133692, -1.30720885]])"
            ]
          },
          "metadata": {
            "tags": []
          },
          "execution_count": 23
        }
      ]
    },
    {
      "cell_type": "code",
      "metadata": {
        "colab": {
          "base_uri": "https://localhost:8080/"
        },
        "id": "AVNsaoWm22xI",
        "outputId": "e7ab7b1c-4721-44b2-a53a-43ed7d7f8f56"
      },
      "source": [
        "X_valid_scaled"
      ],
      "execution_count": null,
      "outputs": [
        {
          "output_type": "execute_result",
          "data": {
            "text/plain": [
              "array([[-0.72894678,  0.42524224, -0.72520018, ...,  0.76884409,\n",
              "        -0.89312342,  0.86177927],\n",
              "       [-0.53253697,  1.61186495, -0.07501671, ...,  0.22981129,\n",
              "         0.96673881, -1.43714823],\n",
              "       [-1.12428044, -0.36583956, -0.83039438, ..., -0.37482146,\n",
              "        -1.35223299,  1.26159275],\n",
              "       ...,\n",
              "       [-0.38169423, -0.2076232 , -0.46608538, ...,  0.05940227,\n",
              "        -0.64482947,  0.43697745],\n",
              "       [-0.75078755,  0.50435042, -0.67205695, ..., -0.3343433 ,\n",
              "        -1.15078695,  1.10166736],\n",
              "       [-0.07665671,  0.10880952, -0.42690329, ..., -0.15910745,\n",
              "        -0.87438425,  0.8567816 ]])"
            ]
          },
          "metadata": {
            "tags": []
          },
          "execution_count": 24
        }
      ]
    },
    {
      "cell_type": "code",
      "metadata": {
        "id": "ykGfD7fo224R"
      },
      "source": [
        "import numpy as np\r\n",
        "#np.random.seed(42)\r\n",
        "#tf.random.set_seed(42)"
      ],
      "execution_count": null,
      "outputs": []
    },
    {
      "cell_type": "markdown",
      "metadata": {
        "id": "uHcXbST-3XFL"
      },
      "source": [
        "<p><h3><b><font color='DarkBlue'> Building a Sequential Model </font></b></h3></p>\r\n",
        "\r\n",
        "We are going to create a simple model with one hidden layer of 32 neurons. \r\n",
        "\r\n",
        "The main differences are the fact that the output layer has a single neuron (since we only want to predict a single value) and uses no activation function, and the loss function is the mean squared error."
      ]
    },
    {
      "cell_type": "code",
      "metadata": {
        "id": "C04tNSok2278"
      },
      "source": [
        "model = keras.models.Sequential()     # create an instance of sequential model "
      ],
      "execution_count": null,
      "outputs": []
    },
    {
      "cell_type": "code",
      "metadata": {
        "id": "8Cfq0Tqs22_V"
      },
      "source": [
        " model.add(keras.layers.Dense(32,input_shape=(8,),activation=\"relu\")) # Add a hidden layer with 32 neurons and \"relu\" activtaion function.Adding 32 neurons with all features"
      ],
      "execution_count": null,
      "outputs": []
    },
    {
      "cell_type": "code",
      "metadata": {
        "id": "-sJzTlq61xf0"
      },
      "source": [
        "model.add(keras.layers.Dense(32,activation=\"relu\"))"
      ],
      "execution_count": null,
      "outputs": []
    },
    {
      "cell_type": "code",
      "metadata": {
        "colab": {
          "base_uri": "https://localhost:8080/"
        },
        "id": "biW-11Pl1xjH",
        "outputId": "c0fe8deb-8e02-44ca-99c8-f4bcaa99b1ab"
      },
      "source": [
        "model.summary()   # view the model details describing the hidden layer. A shape tuple (a tuple of integers or None entries, where None indicates that any positive integer may be expected)."
      ],
      "execution_count": null,
      "outputs": [
        {
          "output_type": "stream",
          "text": [
            "Model: \"sequential\"\n",
            "_________________________________________________________________\n",
            "Layer (type)                 Output Shape              Param #   \n",
            "=================================================================\n",
            "dense (Dense)                (None, 32)                288       \n",
            "_________________________________________________________________\n",
            "dense_1 (Dense)              (None, 32)                1056      \n",
            "=================================================================\n",
            "Total params: 1,344\n",
            "Trainable params: 1,344\n",
            "Non-trainable params: 0\n",
            "_________________________________________________________________\n"
          ],
          "name": "stdout"
        }
      ]
    },
    {
      "cell_type": "code",
      "metadata": {
        "colab": {
          "base_uri": "https://localhost:8080/",
          "height": 312
        },
        "id": "Vmw_olRU1xmt",
        "outputId": "1708f363-61a1-4276-ce9a-8117cdf06056"
      },
      "source": [
        "from keras.utils.vis_utils import plot_model  #pictorial representation of summary\r\n",
        "plot_model(model, to_file='model.png', show_shapes=True, show_layer_names=True)\r\n",
        "#summary in pictorial representation"
      ],
      "execution_count": null,
      "outputs": [
        {
          "output_type": "execute_result",
          "data": {
            "image/png": "[encoded data removed]",
            "text/plain": [
              "<IPython.core.display.Image object>"
            ]
          },
          "metadata": {
            "tags": []
          },
          "execution_count": 30
        }
      ]
    },
    {
      "cell_type": "code",
      "metadata": {
        "id": "0UvU7krb1xsR"
      },
      "source": [
        "model.add(keras.layers.Dense(1))   # Add the output layer with one neuron . since its linear ie(x*w) we will not use any function"
      ],
      "execution_count": null,
      "outputs": []
    },
    {
      "cell_type": "code",
      "metadata": {
        "colab": {
          "base_uri": "https://localhost:8080/"
        },
        "id": "SNnpNsQ-1xwV",
        "outputId": "74794b87-5adf-4595-cd30-a37139352360"
      },
      "source": [
        "model.summary()\r\n",
        "\r\n"
      ],
      "execution_count": null,
      "outputs": [
        {
          "output_type": "stream",
          "text": [
            "Model: \"sequential\"\n",
            "_________________________________________________________________\n",
            "Layer (type)                 Output Shape              Param #   \n",
            "=================================================================\n",
            "dense (Dense)                (None, 32)                288       \n",
            "_________________________________________________________________\n",
            "dense_1 (Dense)              (None, 32)                1056      \n",
            "_________________________________________________________________\n",
            "dense_2 (Dense)              (None, 1)                 33        \n",
            "=================================================================\n",
            "Total params: 1,377\n",
            "Trainable params: 1,377\n",
            "Non-trainable params: 0\n",
            "_________________________________________________________________\n"
          ],
          "name": "stdout"
        }
      ]
    },
    {
      "cell_type": "code",
      "metadata": {
        "colab": {
          "base_uri": "https://localhost:8080/",
          "height": 422
        },
        "id": "_3PK-VPk1x00",
        "outputId": "4678b511-0143-4bb2-9cc7-9e2092210be0"
      },
      "source": [
        "from keras.utils.vis_utils import plot_model  #pictorial representation of summary\r\n",
        "plot_model(model, to_file='model.png', show_shapes=True, show_layer_names=True)\r\n",
        "#summary in pictorial representation\r\n"
      ],
      "execution_count": null,
      "outputs": [
        {
          "output_type": "execute_result",
          "data": {
            "image/png": "[encoded data removed]",
            "text/plain": [
              "<IPython.core.display.Image object>"
            ]
          },
          "metadata": {
            "tags": []
          },
          "execution_count": 33
        }
      ]
    },
    {
      "cell_type": "markdown",
      "metadata": {
        "id": "THYb0_x95Fsb"
      },
      "source": [
        "<p><h3><b><font color='DarkBlue'> Compile the Model </font></b></h3></p>\r\n",
        "\r\n",
        "Before training a model, we need to configure the learning process, which is done via the compile method. It receives the following arguments:\r\n",
        "\r\n",
        "1. Optimizer : we are going to use Stochastic Gradient Descent optimizer with a learning rate of 0.001\r\n",
        "\r\n",
        "2. Loss Function: The loss function used is mean_squared_error as it is regression problem."
      ]
    },
    {
      "cell_type": "code",
      "metadata": {
        "id": "euLKIHSP1x6d"
      },
      "source": [
        "model.compile(loss=\"mean_squared_error\",optimizer=keras.optimizers.SGD(learning_rate=0.001)) #default learning rate is 0.1 here we are changing it to 0.001(lower) . Since it is a regression problem , metrics and loss function both are mean squared error we are onmly use MSE"
      ],
      "execution_count": null,
      "outputs": []
    },
    {
      "cell_type": "markdown",
      "metadata": {
        "id": "ladwiaiC5QBg"
      },
      "source": [
        "<p><h3><b><font color='DarkBlue'> Fit the Model </font></b></h3></p>\r\n",
        "\r\n",
        "For training a model, we use fit(). The fit() trains the model for a fixed number of epochs (iterations on a dataset).\r\n",
        "\r\n",
        "It takes following arguments:\r\n",
        "\r\n",
        "1. Input Data\r\n",
        "2. Target Data\r\n",
        "3. batch_size : Number of samples per gradient update.\r\n",
        "4. epochs : Number of epochs to train the model. An epoch is an iteration over the entire x and y data provided.\r\n",
        "5. validation_split: Float between 0 and 1. Fraction of the training data to be used as validation data. The model will set apart this fraction of the training data, will not train on it, and will evaluate the loss and any model metrics on this data at the end of each epoch.\r\n",
        "6. validation_data: Data on which to evaluate the loss and any model metrics at the end of each epoch. The model will not be trained on this data. \r\n",
        "7. callbacks: List of keras.callbacks.Callback instances. List of callbacks to apply during training and validation. \r\n",
        "8. verbose: Integer. 0, 1, or 2. Verbosity mode. 0 = silent, 1 = progress bar, 2 = one line per epoch."
      ]
    },
    {
      "cell_type": "code",
      "metadata": {
        "colab": {
          "base_uri": "https://localhost:8080/"
        },
        "id": "8-kj3gkF1yEz",
        "outputId": "6ef755c4-bff1-483b-903b-7f1d30886059"
      },
      "source": [
        "history = model.fit(X_train_scaled,y_train_scaled,epochs=30,batch_size=100,validation_data=(X_valid_scaled,y_valid_scaled),verbose=1)  #verbose will print the details of the training data"
      ],
      "execution_count": null,
      "outputs": [
        {
          "output_type": "stream",
          "text": [
            "Epoch 1/30\n",
            "117/117 [==============================] - 1s 5ms/step - loss: 1.0840 - val_loss: 2.4069\n",
            "Epoch 2/30\n",
            "117/117 [==============================] - 0s 2ms/step - loss: 0.9460 - val_loss: 1.8966\n",
            "Epoch 3/30\n",
            "117/117 [==============================] - 0s 2ms/step - loss: 0.8173 - val_loss: 1.3977\n",
            "Epoch 4/30\n",
            "117/117 [==============================] - 0s 2ms/step - loss: 0.7620 - val_loss: 1.0393\n",
            "Epoch 5/30\n",
            "117/117 [==============================] - 0s 2ms/step - loss: 0.6778 - val_loss: 0.8214\n",
            "Epoch 6/30\n",
            "117/117 [==============================] - 0s 2ms/step - loss: 0.6255 - val_loss: 0.6588\n",
            "Epoch 7/30\n",
            "117/117 [==============================] - 0s 2ms/step - loss: 0.5700 - val_loss: 0.5600\n",
            "Epoch 8/30\n",
            "117/117 [==============================] - 0s 2ms/step - loss: 0.5485 - val_loss: 0.5069\n",
            "Epoch 9/30\n",
            "117/117 [==============================] - 0s 2ms/step - loss: 0.5315 - val_loss: 0.4838\n",
            "Epoch 10/30\n",
            "117/117 [==============================] - 0s 2ms/step - loss: 0.5079 - val_loss: 0.4877\n",
            "Epoch 11/30\n",
            "117/117 [==============================] - 0s 2ms/step - loss: 0.4910 - val_loss: 0.5022\n",
            "Epoch 12/30\n",
            "117/117 [==============================] - 0s 2ms/step - loss: 0.4715 - val_loss: 0.4992\n",
            "Epoch 13/30\n",
            "117/117 [==============================] - 0s 2ms/step - loss: 0.4808 - val_loss: 0.5513\n",
            "Epoch 14/30\n",
            "117/117 [==============================] - 0s 2ms/step - loss: 0.4561 - val_loss: 0.5488\n",
            "Epoch 15/30\n",
            "117/117 [==============================] - 0s 2ms/step - loss: 0.4488 - val_loss: 0.5554\n",
            "Epoch 16/30\n",
            "117/117 [==============================] - 0s 2ms/step - loss: 0.4449 - val_loss: 0.5313\n",
            "Epoch 17/30\n",
            "117/117 [==============================] - 0s 3ms/step - loss: 0.4440 - val_loss: 0.5884\n",
            "Epoch 18/30\n",
            "117/117 [==============================] - 0s 2ms/step - loss: 0.4345 - val_loss: 0.5473\n",
            "Epoch 19/30\n",
            "117/117 [==============================] - 0s 2ms/step - loss: 0.4159 - val_loss: 0.5796\n",
            "Epoch 20/30\n",
            "117/117 [==============================] - 0s 2ms/step - loss: 0.4349 - val_loss: 0.5283\n",
            "Epoch 21/30\n",
            "117/117 [==============================] - 0s 2ms/step - loss: 0.4240 - val_loss: 0.5194\n",
            "Epoch 22/30\n",
            "117/117 [==============================] - 0s 2ms/step - loss: 0.4028 - val_loss: 0.5444\n",
            "Epoch 23/30\n",
            "117/117 [==============================] - 0s 2ms/step - loss: 0.4139 - val_loss: 0.5508\n",
            "Epoch 24/30\n",
            "117/117 [==============================] - 0s 2ms/step - loss: 0.4135 - val_loss: 0.4858\n",
            "Epoch 25/30\n",
            "117/117 [==============================] - 0s 2ms/step - loss: 0.4136 - val_loss: 0.4998\n",
            "Epoch 26/30\n",
            "117/117 [==============================] - 0s 2ms/step - loss: 0.3931 - val_loss: 0.5019\n",
            "Epoch 27/30\n",
            "117/117 [==============================] - 0s 2ms/step - loss: 0.3844 - val_loss: 0.5202\n",
            "Epoch 28/30\n",
            "117/117 [==============================] - 0s 2ms/step - loss: 0.3887 - val_loss: 0.4958\n",
            "Epoch 29/30\n",
            "117/117 [==============================] - 0s 2ms/step - loss: 0.3860 - val_loss: 0.5034\n",
            "Epoch 30/30\n",
            "117/117 [==============================] - 0s 2ms/step - loss: 0.3831 - val_loss: 0.4657\n"
          ],
          "name": "stdout"
        }
      ]
    },
    {
      "cell_type": "code",
      "metadata": {
        "id": "22NKee7l1SQb"
      },
      "source": [
        ""
      ],
      "execution_count": null,
      "outputs": []
    },
    {
      "cell_type": "markdown",
      "metadata": {
        "id": "3d0enrOk5cHP"
      },
      "source": [
        "<p><h3><b><font color='DarkBlue'> Accessing Model Training History </font></b></h3></p>\r\n",
        "Keras provides the capability to register callbacks when training a deep learning model.\r\n",
        "\r\n",
        "One of the default callbacks that is registered when training all deep learning models is the History callback. It records training metrics for each epoch. This includes the loss and the accuracy (for classification problems) as well as the loss and accuracy for the validation dataset, if one is set.\r\n",
        "\r\n",
        "The history object is returned from calls to the fit() function used to train the model. Metrics are stored in a dictionary in the history member of the object returned."
      ]
    },
    {
      "cell_type": "code",
      "metadata": {
        "colab": {
          "base_uri": "https://localhost:8080/"
        },
        "id": "fm5KAgBt1SUi",
        "outputId": "54e30eec-a033-40bd-926c-4dbb2c26b648"
      },
      "source": [
        "history.history "
      ],
      "execution_count": null,
      "outputs": [
        {
          "output_type": "execute_result",
          "data": {
            "text/plain": [
              "{'loss': [1.0493322610855103,\n",
              "  0.9089610576629639,\n",
              "  0.8086847066879272,\n",
              "  0.7284955382347107,\n",
              "  0.6643665432929993,\n",
              "  0.6133778095245361,\n",
              "  0.573383629322052,\n",
              "  0.5428022146224976,\n",
              "  0.5191143155097961,\n",
              "  0.5016740560531616,\n",
              "  0.48758554458618164,\n",
              "  0.4761597216129303,\n",
              "  0.4664897322654724,\n",
              "  0.4587346315383911,\n",
              "  0.45150938630104065,\n",
              "  0.44489574432373047,\n",
              "  0.43842613697052,\n",
              "  0.4333867132663727,\n",
              "  0.42787694931030273,\n",
              "  0.42313167452812195,\n",
              "  0.41841164231300354,\n",
              "  0.4137765169143677,\n",
              "  0.40948349237442017,\n",
              "  0.40567684173583984,\n",
              "  0.40158811211586,\n",
              "  0.3978475332260132,\n",
              "  0.39399254322052,\n",
              "  0.39070048928260803,\n",
              "  0.38708800077438354,\n",
              "  0.38384243845939636],\n",
              " 'val_loss': [2.406921148300171,\n",
              "  1.8966001272201538,\n",
              "  1.3976600170135498,\n",
              "  1.039302110671997,\n",
              "  0.821381688117981,\n",
              "  0.6587614417076111,\n",
              "  0.5599704384803772,\n",
              "  0.506855309009552,\n",
              "  0.48375770449638367,\n",
              "  0.4877127408981323,\n",
              "  0.502229630947113,\n",
              "  0.4992128908634186,\n",
              "  0.5513271689414978,\n",
              "  0.5487954616546631,\n",
              "  0.5554264187812805,\n",
              "  0.5312570929527283,\n",
              "  0.5883607268333435,\n",
              "  0.5473211407661438,\n",
              "  0.5795543193817139,\n",
              "  0.5282809138298035,\n",
              "  0.5194306969642639,\n",
              "  0.54439777135849,\n",
              "  0.5508385896682739,\n",
              "  0.4857783019542694,\n",
              "  0.4998434782028198,\n",
              "  0.5018700957298279,\n",
              "  0.5201576352119446,\n",
              "  0.49583643674850464,\n",
              "  0.5033965706825256,\n",
              "  0.46569105982780457]}"
            ]
          },
          "metadata": {
            "tags": []
          },
          "execution_count": 36
        }
      ]
    },
    {
      "cell_type": "markdown",
      "metadata": {
        "id": "7Y7c3P7q7FFY"
      },
      "source": [
        "<p><h3><b><font color= 'DarkBlue'> Evaluate a Model </font></b></h3></p>\r\n",
        "\r\n",
        "Returns the loss value & metrics values for the model in test mode.\r\n",
        "\r\n",
        "Computation is done in batches."
      ]
    },
    {
      "cell_type": "code",
      "metadata": {
        "colab": {
          "base_uri": "https://localhost:8080/"
        },
        "id": "kxgCIKCy1SY9",
        "outputId": "88ec4e85-4498-4655-f809-5388625c15f8"
      },
      "source": [
        "mse_test = model.evaluate(X_test_scaled,y_test_scaled, batch_size=512)"
      ],
      "execution_count": null,
      "outputs": [
        {
          "output_type": "stream",
          "text": [
            "11/11 [==============================] - 0s 2ms/step - loss: 0.3768\n"
          ],
          "name": "stdout"
        }
      ]
    },
    {
      "cell_type": "code",
      "metadata": {
        "colab": {
          "base_uri": "https://localhost:8080/"
        },
        "id": "aVfkn0qM7JUU",
        "outputId": "df4f48c7-0418-4155-f8f8-1c0203f455f9"
      },
      "source": [
        "mse_test"
      ],
      "execution_count": null,
      "outputs": [
        {
          "output_type": "execute_result",
          "data": {
            "text/plain": [
              "0.3768218755722046"
            ]
          },
          "metadata": {
            "tags": []
          },
          "execution_count": 38
        }
      ]
    },
    {
      "cell_type": "code",
      "metadata": {
        "id": "majD1hYc7JXw"
      },
      "source": [
        "y_pred_test=model.predict(X_test_scaled)  # perform prediction "
      ],
      "execution_count": null,
      "outputs": []
    },
    {
      "cell_type": "code",
      "metadata": {
        "colab": {
          "base_uri": "https://localhost:8080/"
        },
        "id": "BPkBQtAJ7Ja4",
        "outputId": "7adcac64-a306-46b6-cb8a-c891d0737ff9"
      },
      "source": [
        "y_pred_test  # output will be scaled values"
      ],
      "execution_count": null,
      "outputs": [
        {
          "output_type": "execute_result",
          "data": {
            "text/plain": [
              "array([[-1.0238941 ],\n",
              "       [-0.3038017 ],\n",
              "       [ 0.8649922 ],\n",
              "       ...,\n",
              "       [-0.5434716 ],\n",
              "       [ 0.47088012],\n",
              "       [ 1.4528396 ]], dtype=float32)"
            ]
          },
          "metadata": {
            "tags": []
          },
          "execution_count": 40
        }
      ]
    },
    {
      "cell_type": "code",
      "metadata": {
        "id": "oc_7UtLX7JeG"
      },
      "source": [
        "import numpy as np"
      ],
      "execution_count": null,
      "outputs": []
    },
    {
      "cell_type": "code",
      "metadata": {
        "colab": {
          "base_uri": "https://localhost:8080/"
        },
        "id": "Zd8SFJ7c7JhG",
        "outputId": "f2226a30-d802-4bc8-becf-72df23f10b16"
      },
      "source": [
        "rmse_test = np.sqrt(mse_test)\r\n",
        "rmse_test"
      ],
      "execution_count": null,
      "outputs": [
        {
          "output_type": "execute_result",
          "data": {
            "text/plain": [
              "0.6138581884867258"
            ]
          },
          "metadata": {
            "tags": []
          },
          "execution_count": 42
        }
      ]
    },
    {
      "cell_type": "code",
      "metadata": {
        "colab": {
          "base_uri": "https://localhost:8080/"
        },
        "id": "bicwh6Hd7Jkj",
        "outputId": "20a606f1-511b-4728-deb6-f01efae6a59c"
      },
      "source": [
        "y_test_scaled"
      ],
      "execution_count": null,
      "outputs": [
        {
          "output_type": "execute_result",
          "data": {
            "text/plain": [
              "array([[-1.38648376],\n",
              "       [-1.40289569],\n",
              "       [ 2.52042828],\n",
              "       ...,\n",
              "       [-0.78183366],\n",
              "       [ 0.47411096],\n",
              "       [ 2.36061926]])"
            ]
          },
          "metadata": {
            "tags": []
          },
          "execution_count": 43
        }
      ]
    },
    {
      "cell_type": "code",
      "metadata": {
        "colab": {
          "base_uri": "https://localhost:8080/"
        },
        "id": "E5Zadt2i7ZN8",
        "outputId": "bcf235cd-8ea6-4cdf-db83-c55464a83664"
      },
      "source": [
        "SSE = np.sum((y_test_scaled - y_pred_test)**2)\r\n",
        "SSE"
      ],
      "execution_count": null,
      "outputs": [
        {
          "output_type": "execute_result",
          "data": {
            "text/plain": [
              "1944.400860130845"
            ]
          },
          "metadata": {
            "tags": []
          },
          "execution_count": 44
        }
      ]
    },
    {
      "cell_type": "code",
      "metadata": {
        "colab": {
          "base_uri": "https://localhost:8080/"
        },
        "id": "vDTYcXfk7ZRl",
        "outputId": "a6baf033-ba56-4d82-b707-aa1916a68d27"
      },
      "source": [
        "SST = np.sum((np.mean(y_train)- y_test_scaled )**2)\r\n",
        "SST"
      ],
      "execution_count": null,
      "outputs": [
        {
          "output_type": "execute_result",
          "data": {
            "text/plain": [
              "27817.14354318859"
            ]
          },
          "metadata": {
            "tags": []
          },
          "execution_count": 45
        }
      ]
    },
    {
      "cell_type": "code",
      "metadata": {
        "colab": {
          "base_uri": "https://localhost:8080/"
        },
        "id": "GxFakZBE7ZUJ",
        "outputId": "0507ba83-f0fb-4087-a3f0-19ce353e1380"
      },
      "source": [
        "r2 = 1 - SSE/SST\r\n",
        "r2"
      ],
      "execution_count": null,
      "outputs": [
        {
          "output_type": "execute_result",
          "data": {
            "text/plain": [
              "0.9301006281571654"
            ]
          },
          "metadata": {
            "tags": []
          },
          "execution_count": 46
        }
      ]
    },
    {
      "cell_type": "markdown",
      "metadata": {
        "id": "VXzdJUYq7hJd"
      },
      "source": [
        "## Model using Functional API"
      ]
    },
    {
      "cell_type": "code",
      "metadata": {
        "id": "7AvRAIID7ZXY"
      },
      "source": [
        "inp = keras.layers.Input(shape=(8,))\r\n",
        "h1 = keras.layers.Dense(32,activation='relu')(inp)\r\n",
        "h2 = keras.layers.Dense(32,activation='relu')(h1)\r\n",
        "out = keras.layers.Dense(1)(h2)\r\n",
        "model_fapi = keras.models.Model(inputs=inp, outputs=out)"
      ],
      "execution_count": null,
      "outputs": []
    },
    {
      "cell_type": "code",
      "metadata": {
        "colab": {
          "base_uri": "https://localhost:8080/"
        },
        "id": "u4ynCOx37Zel",
        "outputId": "cc342eef-f1e6-4a36-ca40-c8484430881b"
      },
      "source": [
        "model_fapi.summary()"
      ],
      "execution_count": null,
      "outputs": [
        {
          "output_type": "stream",
          "text": [
            "Model: \"model\"\n",
            "_________________________________________________________________\n",
            "Layer (type)                 Output Shape              Param #   \n",
            "=================================================================\n",
            "input_1 (InputLayer)         [(None, 8)]               0         \n",
            "_________________________________________________________________\n",
            "dense_3 (Dense)              (None, 32)                288       \n",
            "_________________________________________________________________\n",
            "dense_4 (Dense)              (None, 32)                1056      \n",
            "_________________________________________________________________\n",
            "dense_5 (Dense)              (None, 1)                 33        \n",
            "=================================================================\n",
            "Total params: 1,377\n",
            "Trainable params: 1,377\n",
            "Non-trainable params: 0\n",
            "_________________________________________________________________\n"
          ],
          "name": "stdout"
        }
      ]
    },
    {
      "cell_type": "code",
      "metadata": {
        "colab": {
          "base_uri": "https://localhost:8080/",
          "height": 422
        },
        "id": "N4Zg-Iva0_y3",
        "outputId": "1a762cea-61da-4db5-a19e-504298762125"
      },
      "source": [
        "from keras.utils.vis_utils import plot_model  #pictorial representation of summary\r\n",
        "plot_model(model, to_file='model_fapi.png', show_shapes=True, show_layer_names=True)\r\n",
        "#summary in pictorial representation"
      ],
      "execution_count": null,
      "outputs": [
        {
          "output_type": "execute_result",
          "data": {
            "image/png": "[encoded data removed]",
            "text/plain": [
              "<IPython.core.display.Image object>"
            ]
          },
          "metadata": {
            "tags": []
          },
          "execution_count": 49
        }
      ]
    },
    {
      "cell_type": "code",
      "metadata": {
        "id": "Cc0zqQbq0_3v"
      },
      "source": [
        "model_fapi.compile(loss=\"mean_squared_error\",optimizer=keras.optimizers.SGD(learning_rate=0.01))"
      ],
      "execution_count": null,
      "outputs": []
    },
    {
      "cell_type": "code",
      "metadata": {
        "colab": {
          "base_uri": "https://localhost:8080/"
        },
        "id": "IKSmFb_X71jz",
        "outputId": "540cdf73-9dc7-4936-def2-34b157125f5c"
      },
      "source": [
        "model_fapi.fit(X_train_scaled,y_train_scaled,epochs=10, batch_size=100, validation_data=(X_valid_scaled,y_valid_scaled))"
      ],
      "execution_count": null,
      "outputs": [
        {
          "output_type": "stream",
          "text": [
            "Epoch 1/10\n",
            "117/117 [==============================] - 1s 3ms/step - loss: 0.8307 - val_loss: 0.5594\n",
            "Epoch 2/10\n",
            "117/117 [==============================] - 0s 2ms/step - loss: 0.4861 - val_loss: 0.6194\n",
            "Epoch 3/10\n",
            "117/117 [==============================] - 0s 2ms/step - loss: 0.4221 - val_loss: 0.4093\n",
            "Epoch 4/10\n",
            "117/117 [==============================] - 0s 2ms/step - loss: 0.3836 - val_loss: 0.4816\n",
            "Epoch 5/10\n",
            "117/117 [==============================] - 0s 2ms/step - loss: 0.3509 - val_loss: 0.9901\n",
            "Epoch 6/10\n",
            "117/117 [==============================] - 0s 2ms/step - loss: 0.3471 - val_loss: 0.7701\n",
            "Epoch 7/10\n",
            "117/117 [==============================] - 0s 2ms/step - loss: 0.3123 - val_loss: 1.1362\n",
            "Epoch 8/10\n",
            "117/117 [==============================] - 0s 2ms/step - loss: 0.3412 - val_loss: 1.1522\n",
            "Epoch 9/10\n",
            "117/117 [==============================] - 0s 2ms/step - loss: 0.3003 - val_loss: 0.6120\n",
            "Epoch 10/10\n",
            "117/117 [==============================] - 0s 2ms/step - loss: 0.2909 - val_loss: 0.4115\n"
          ],
          "name": "stdout"
        },
        {
          "output_type": "execute_result",
          "data": {
            "text/plain": [
              "<tensorflow.python.keras.callbacks.History at 0x7f8fe3ac17f0>"
            ]
          },
          "metadata": {
            "tags": []
          },
          "execution_count": 51
        }
      ]
    },
    {
      "cell_type": "code",
      "metadata": {
        "colab": {
          "base_uri": "https://localhost:8080/"
        },
        "id": "xTkZnUlM71nT",
        "outputId": "045d4e0c-abc0-49a6-c76f-df3e58f442af"
      },
      "source": [
        "mse_test=model_fapi.evaluate(X_test_scaled,y_test_scaled)"
      ],
      "execution_count": null,
      "outputs": [
        {
          "output_type": "stream",
          "text": [
            "162/162 [==============================] - 0s 917us/step - loss: 0.2875\n"
          ],
          "name": "stdout"
        }
      ]
    },
    {
      "cell_type": "code",
      "metadata": {
        "colab": {
          "base_uri": "https://localhost:8080/"
        },
        "id": "dNLpaFDN71uW",
        "outputId": "3ffce8a2-55df-424b-d176-68e3994bafeb"
      },
      "source": [
        "rmse_test_fapi = np.sqrt(mse_test)\r\n",
        "rmse_test_fapi"
      ],
      "execution_count": null,
      "outputs": [
        {
          "output_type": "execute_result",
          "data": {
            "text/plain": [
              "0.5362314713662715"
            ]
          },
          "metadata": {
            "tags": []
          },
          "execution_count": 53
        }
      ]
    },
    {
      "cell_type": "markdown",
      "metadata": {
        "id": "MM89HUHD8P12"
      },
      "source": [
        "<p><h3><b><font color= 'DarkBlue'> Perform Predictions on Test Data </font></b></h3></p>\r\n",
        "\r\n",
        "Generates output predictions for the input samples.\r\n",
        "\r\n",
        "Computation is done in batches."
      ]
    },
    {
      "cell_type": "code",
      "metadata": {
        "colab": {
          "base_uri": "https://localhost:8080/"
        },
        "id": "6IMJYlMc710q",
        "outputId": "94788f2d-ebb8-4fc1-ca07-6086ea68dd2b"
      },
      "source": [
        "y_pred_fapi=model_fapi.predict(X_test_scaled)\r\n",
        "y_pred_fapi"
      ],
      "execution_count": null,
      "outputs": [
        {
          "output_type": "execute_result",
          "data": {
            "text/plain": [
              "array([[-1.1732167 ],\n",
              "       [-0.34764102],\n",
              "       [ 1.2950575 ],\n",
              "       ...,\n",
              "       [-0.57754594],\n",
              "       [ 0.27286288],\n",
              "       [ 1.5318167 ]], dtype=float32)"
            ]
          },
          "metadata": {
            "tags": []
          },
          "execution_count": 54
        }
      ]
    },
    {
      "cell_type": "code",
      "metadata": {
        "colab": {
          "base_uri": "https://localhost:8080/"
        },
        "id": "PsrZsBJD7133",
        "outputId": "9e9b79b1-e19a-4439-bdf3-f198109efe5e"
      },
      "source": [
        "sse_fapi = np.sum((y_test_scaled-y_pred_fapi)**2)\r\n",
        "sse_fapi"
      ],
      "execution_count": null,
      "outputs": [
        {
          "output_type": "execute_result",
          "data": {
            "text/plain": [
              "1483.7284211466524"
            ]
          },
          "metadata": {
            "tags": []
          },
          "execution_count": 55
        }
      ]
    },
    {
      "cell_type": "code",
      "metadata": {
        "colab": {
          "base_uri": "https://localhost:8080/"
        },
        "id": "sOH9OMwA717Y",
        "outputId": "cb0b756e-0490-437e-c8d0-2ff73e7c95f3"
      },
      "source": [
        "sst = np.sum((y_test_scaled-np.mean(y_train))**2)\r\n",
        "sst"
      ],
      "execution_count": null,
      "outputs": [
        {
          "output_type": "execute_result",
          "data": {
            "text/plain": [
              "27817.14354318859"
            ]
          },
          "metadata": {
            "tags": []
          },
          "execution_count": 56
        }
      ]
    },
    {
      "cell_type": "markdown",
      "metadata": {
        "id": "76HLJs2z9drD"
      },
      "source": [
        "<p><h3><b><font color= 'DarkBlue'> Computing R2 for model </font></b></h3></p>"
      ]
    },
    {
      "cell_type": "code",
      "metadata": {
        "colab": {
          "base_uri": "https://localhost:8080/"
        },
        "id": "PRBPlzFe71-0",
        "outputId": "1b012a08-df0f-4329-89a7-b25a128adee8"
      },
      "source": [
        "r2 = 1 - (sse_fapi/sst)\r\n",
        "r2"
      ],
      "execution_count": null,
      "outputs": [
        {
          "output_type": "execute_result",
          "data": {
            "text/plain": [
              "0.9466613666193644"
            ]
          },
          "metadata": {
            "tags": []
          },
          "execution_count": 57
        }
      ]
    },
    {
      "cell_type": "markdown",
      "metadata": {
        "id": "G-c81Ink9l4i"
      },
      "source": [
        "## Complex model using functional API"
      ]
    },
    {
      "cell_type": "code",
      "metadata": {
        "id": "OLhK9AE59fD0"
      },
      "source": [
        "input_A = keras.layers.Input(shape=(2,))\r\n",
        "input_B = keras.layers.Input(shape=(8,))\r\n",
        "hidden1 = keras.layers.Dense(32, activation=\"relu\")(input_B)\r\n",
        "hidden2 = keras.layers.Dense(32, activation=\"relu\")(hidden1)\r\n",
        "concat = keras.layers.concatenate([input_A, hidden2])\r\n",
        "output = keras.layers.Dense(1)(concat)\r\n",
        "model_wide_deep1 = keras.models.Model(inputs=[input_A, input_B], outputs=[output])"
      ],
      "execution_count": null,
      "outputs": []
    },
    {
      "cell_type": "code",
      "metadata": {
        "colab": {
          "base_uri": "https://localhost:8080/"
        },
        "id": "-9GFdfoq9fHU",
        "outputId": "17113c2d-a96a-4ee9-8a0d-db82baacf764"
      },
      "source": [
        "model_wide_deep1.summary()"
      ],
      "execution_count": null,
      "outputs": [
        {
          "output_type": "stream",
          "text": [
            "Model: \"model_1\"\n",
            "__________________________________________________________________________________________________\n",
            "Layer (type)                    Output Shape         Param #     Connected to                     \n",
            "==================================================================================================\n",
            "input_3 (InputLayer)            [(None, 8)]          0                                            \n",
            "__________________________________________________________________________________________________\n",
            "dense_6 (Dense)                 (None, 32)           288         input_3[0][0]                    \n",
            "__________________________________________________________________________________________________\n",
            "input_2 (InputLayer)            [(None, 2)]          0                                            \n",
            "__________________________________________________________________________________________________\n",
            "dense_7 (Dense)                 (None, 32)           1056        dense_6[0][0]                    \n",
            "__________________________________________________________________________________________________\n",
            "concatenate (Concatenate)       (None, 34)           0           input_2[0][0]                    \n",
            "                                                                 dense_7[0][0]                    \n",
            "__________________________________________________________________________________________________\n",
            "dense_8 (Dense)                 (None, 1)            35          concatenate[0][0]                \n",
            "==================================================================================================\n",
            "Total params: 1,379\n",
            "Trainable params: 1,379\n",
            "Non-trainable params: 0\n",
            "__________________________________________________________________________________________________\n"
          ],
          "name": "stdout"
        }
      ]
    },
    {
      "cell_type": "code",
      "metadata": {
        "id": "v7jXX0JC9fKg"
      },
      "source": [
        ""
      ],
      "execution_count": null,
      "outputs": []
    },
    {
      "cell_type": "code",
      "metadata": {
        "colab": {
          "base_uri": "https://localhost:8080/"
        },
        "id": "w3V6v2Xm9fNc",
        "outputId": "50459022-4279-47cb-cb43-505987d1c671"
      },
      "source": [
        "X_train_A, X_train_B = X_train_scaled[:,6:], X_train_scaled[:,:]  #creating input A(  all rows and 2 features) and input B(all varioables)\r\n",
        "X_train_A.shape, X_train_B.shape"
      ],
      "execution_count": null,
      "outputs": [
        {
          "output_type": "execute_result",
          "data": {
            "text/plain": [
              "((11610, 2), (11610, 8))"
            ]
          },
          "metadata": {
            "tags": []
          },
          "execution_count": 60
        }
      ]
    },
    {
      "cell_type": "code",
      "metadata": {
        "colab": {
          "base_uri": "https://localhost:8080/"
        },
        "id": "rafeDLXJ9fRA",
        "outputId": "a6ee5adc-ec92-4c32-975f-17c42a01100f"
      },
      "source": [
        "X_valid_A, X_valid_B = X_valid_scaled[:,6:], X_valid_scaled[:,:]\r\n",
        "X_valid_A.shape, X_valid_B.shape"
      ],
      "execution_count": null,
      "outputs": [
        {
          "output_type": "execute_result",
          "data": {
            "text/plain": [
              "((3870, 2), (3870, 8))"
            ]
          },
          "metadata": {
            "tags": []
          },
          "execution_count": 61
        }
      ]
    },
    {
      "cell_type": "code",
      "metadata": {
        "colab": {
          "base_uri": "https://localhost:8080/"
        },
        "id": "rEEBa_xp9fTY",
        "outputId": "59d2a4ee-afe8-4981-cf57-67a2afb507ea"
      },
      "source": [
        "X_test_A, X_test_B = X_test_scaled[:,6:], X_test_scaled[:,:]\r\n",
        "X_test_A.shape, X_test_B.shape"
      ],
      "execution_count": null,
      "outputs": [
        {
          "output_type": "execute_result",
          "data": {
            "text/plain": [
              "((5160, 2), (5160, 8))"
            ]
          },
          "metadata": {
            "tags": []
          },
          "execution_count": 62
        }
      ]
    },
    {
      "cell_type": "code",
      "metadata": {
        "id": "mEtGE1kq99Zf"
      },
      "source": [
        "model_wide_deep1.compile(loss=\"mean_squared_error\",optimizer=keras.optimizers.SGD(learning_rate=0.01))"
      ],
      "execution_count": null,
      "outputs": []
    },
    {
      "cell_type": "code",
      "metadata": {
        "colab": {
          "base_uri": "https://localhost:8080/"
        },
        "id": "Zsf9b0sF99dZ",
        "outputId": "a4a4a878-1292-44b2-e32d-8c4dc88c0398"
      },
      "source": [
        "model_wide_deep1.fit((X_train_A, X_train_B), y_train, epochs=30, batch_size=512)"
      ],
      "execution_count": null,
      "outputs": [
        {
          "output_type": "stream",
          "text": [
            "Epoch 1/30\n",
            "23/23 [==============================] - 0s 2ms/step - loss: 2.6058\n",
            "Epoch 2/30\n",
            "23/23 [==============================] - 0s 1ms/step - loss: 0.9488\n",
            "Epoch 3/30\n",
            "23/23 [==============================] - 0s 1ms/step - loss: 0.7695\n",
            "Epoch 4/30\n",
            "23/23 [==============================] - 0s 2ms/step - loss: 0.6903\n",
            "Epoch 5/30\n",
            "23/23 [==============================] - 0s 1ms/step - loss: 0.6727\n",
            "Epoch 6/30\n",
            "23/23 [==============================] - 0s 1ms/step - loss: 0.5962\n",
            "Epoch 7/30\n",
            "23/23 [==============================] - 0s 2ms/step - loss: 0.5650\n",
            "Epoch 8/30\n",
            "23/23 [==============================] - 0s 2ms/step - loss: 0.5256\n",
            "Epoch 9/30\n",
            "23/23 [==============================] - 0s 2ms/step - loss: 0.5105\n",
            "Epoch 10/30\n",
            "23/23 [==============================] - 0s 2ms/step - loss: 0.4945\n",
            "Epoch 11/30\n",
            "23/23 [==============================] - 0s 1ms/step - loss: 0.4531\n",
            "Epoch 12/30\n",
            "23/23 [==============================] - 0s 2ms/step - loss: 0.4665\n",
            "Epoch 13/30\n",
            "23/23 [==============================] - 0s 1ms/step - loss: 0.4635\n",
            "Epoch 14/30\n",
            "23/23 [==============================] - 0s 1ms/step - loss: 0.4413\n",
            "Epoch 15/30\n",
            "23/23 [==============================] - 0s 2ms/step - loss: 0.4187\n",
            "Epoch 16/30\n",
            "23/23 [==============================] - 0s 1ms/step - loss: 0.4329\n",
            "Epoch 17/30\n",
            "23/23 [==============================] - 0s 1ms/step - loss: 0.4251\n",
            "Epoch 18/30\n",
            "23/23 [==============================] - 0s 2ms/step - loss: 0.4359\n",
            "Epoch 19/30\n",
            "23/23 [==============================] - 0s 1ms/step - loss: 0.4177\n",
            "Epoch 20/30\n",
            "23/23 [==============================] - 0s 1ms/step - loss: 0.4197\n",
            "Epoch 21/30\n",
            "23/23 [==============================] - 0s 1ms/step - loss: 0.4063\n",
            "Epoch 22/30\n",
            "23/23 [==============================] - 0s 1ms/step - loss: 0.4064\n",
            "Epoch 23/30\n",
            "23/23 [==============================] - 0s 1ms/step - loss: 0.3995\n",
            "Epoch 24/30\n",
            "23/23 [==============================] - 0s 1ms/step - loss: 0.3978\n",
            "Epoch 25/30\n",
            "23/23 [==============================] - 0s 1ms/step - loss: 0.4026\n",
            "Epoch 26/30\n",
            "23/23 [==============================] - 0s 1ms/step - loss: 0.4028\n",
            "Epoch 27/30\n",
            "23/23 [==============================] - 0s 1ms/step - loss: 0.3922\n",
            "Epoch 28/30\n",
            "23/23 [==============================] - 0s 1ms/step - loss: 0.3853\n",
            "Epoch 29/30\n",
            "23/23 [==============================] - 0s 1ms/step - loss: 0.3855\n",
            "Epoch 30/30\n",
            "23/23 [==============================] - 0s 2ms/step - loss: 0.3981\n"
          ],
          "name": "stdout"
        },
        {
          "output_type": "execute_result",
          "data": {
            "text/plain": [
              "<tensorflow.python.keras.callbacks.History at 0x7f8fde12aa90>"
            ]
          },
          "metadata": {
            "tags": []
          },
          "execution_count": 64
        }
      ]
    },
    {
      "cell_type": "code",
      "metadata": {
        "id": "kFujpA7JFU4o"
      },
      "source": [
        "Evaluate and Predict"
      ],
      "execution_count": null,
      "outputs": []
    },
    {
      "cell_type": "code",
      "metadata": {
        "colab": {
          "base_uri": "https://localhost:8080/"
        },
        "id": "zDfDq6xgJeAo",
        "outputId": "5952a14e-226a-4231-f3c2-dc02bd9f56b2"
      },
      "source": [
        "mse_fapi=model_wide_deep1.evaluate([X_test_A,X_test_B],[y_test_scaled,y_test_scaled],batch_size=512)"
      ],
      "execution_count": null,
      "outputs": [
        {
          "output_type": "stream",
          "text": [
            "11/11 [==============================] - 0s 1ms/step - loss: 4.6325\n"
          ],
          "name": "stdout"
        }
      ]
    },
    {
      "cell_type": "code",
      "metadata": {
        "colab": {
          "base_uri": "https://localhost:8080/"
        },
        "id": "U9EKo9npJeEc",
        "outputId": "f627204b-36e5-4aa9-bcb5-30a472646472"
      },
      "source": [
        "rmse_fapi= np.sqrt(mse_fapi)\r\n",
        "rmse_fapi"
      ],
      "execution_count": null,
      "outputs": [
        {
          "output_type": "execute_result",
          "data": {
            "text/plain": [
              "2.152316056919734"
            ]
          },
          "metadata": {
            "tags": []
          },
          "execution_count": 75
        }
      ]
    },
    {
      "cell_type": "markdown",
      "metadata": {
        "id": "vLK2tEcwJmlO"
      },
      "source": [
        ""
      ]
    },
    {
      "cell_type": "code",
      "metadata": {
        "colab": {
          "base_uri": "https://localhost:8080/"
        },
        "id": "hNG__nXHJeIY",
        "outputId": "53a82647-0fcb-40e6-e146-3c9d4a5683a9"
      },
      "source": [
        "y_pred_fapi=model_wide_deep1.predict([X_test_A,X_test_B])\r\n",
        "y_pred_fapi"
      ],
      "execution_count": null,
      "outputs": [
        {
          "output_type": "execute_result",
          "data": {
            "text/plain": [
              "array([[0.7160646],\n",
              "       [1.5992956],\n",
              "       [3.5879467],\n",
              "       ...,\n",
              "       [1.5144478],\n",
              "       [2.5211303],\n",
              "       [3.8840141]], dtype=float32)"
            ]
          },
          "metadata": {
            "tags": []
          },
          "execution_count": 77
        }
      ]
    },
    {
      "cell_type": "code",
      "metadata": {
        "colab": {
          "base_uri": "https://localhost:8080/"
        },
        "id": "yDXwHpsFJeNY",
        "outputId": "4df2d245-8167-4fd4-a217-fad7f085881e"
      },
      "source": [
        "sse_fapi=np.sum((y_test_scaled-y_pred_fapi)**2)\r\n",
        "sse_fapi"
      ],
      "execution_count": null,
      "outputs": [
        {
          "output_type": "execute_result",
          "data": {
            "text/plain": [
              "23903.516580590298"
            ]
          },
          "metadata": {
            "tags": []
          },
          "execution_count": 79
        }
      ]
    },
    {
      "cell_type": "code",
      "metadata": {
        "id": "UGIAYTFTMQlY"
      },
      "source": [
        "r2=1-sse_fapi/SST"
      ],
      "execution_count": null,
      "outputs": []
    },
    {
      "cell_type": "code",
      "metadata": {
        "colab": {
          "base_uri": "https://localhost:8080/"
        },
        "id": "jZW5F1osMQw0",
        "outputId": "fffc9754-a09a-4da6-87e9-2832432a2253"
      },
      "source": [
        "r2   #r2 value is too low. hence this model is not good"
      ],
      "execution_count": null,
      "outputs": [
        {
          "output_type": "execute_result",
          "data": {
            "text/plain": [
              "0.14069118766713196"
            ]
          },
          "metadata": {
            "tags": []
          },
          "execution_count": 83
        }
      ]
    }
  ]
}